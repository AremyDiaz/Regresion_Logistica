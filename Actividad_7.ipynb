{
  "nbformat": 4,
  "nbformat_minor": 0,
  "metadata": {
    "colab": {
      "provenance": [],
      "include_colab_link": true
    },
    "kernelspec": {
      "name": "python3",
      "display_name": "Python 3"
    },
    "language_info": {
      "name": "python"
    }
  },
  "cells": [
    {
      "cell_type": "markdown",
      "metadata": {
        "id": "view-in-github",
        "colab_type": "text"
      },
      "source": [
        "<a href=\"https://colab.research.google.com/github/AremyDiaz/Regresion_Logistica/blob/main/Actividad_7.ipynb\" target=\"_parent\"><img src=\"https://colab.research.google.com/assets/colab-badge.svg\" alt=\"Open In Colab\"/></a>"
      ]
    },
    {
      "cell_type": "markdown",
      "source": [
        "#**Actividad de regresión logística con variables categóricas**"
      ],
      "metadata": {
        "id": "NEPXCR48J4gt"
      }
    },
    {
      "cell_type": "code",
      "execution_count": null,
      "metadata": {
        "id": "zwTfcxscJq8b"
      },
      "outputs": [],
      "source": [
        "#Cargamos librerias\n",
        "import pandas as pd\n",
        "import numpy as np\n",
        "import matplotlib.pyplot as plt\n",
        "import scipy.special as special\n",
        "from scipy.optimize import curve_fit\n",
        "import seaborn as sns\n",
        "from sklearn.metrics import r2_score\n",
        "from sklearn.model_selection import train_test_split\n",
        "from sklearn.preprocessing import StandardScaler"
      ]
    },
    {
      "cell_type": "code",
      "source": [
        "#Se lee el archivo\n",
        "df=pd.read_csv('BD_Socio formador (TrainingDataComplete).csv', index_col='Id')\n",
        "df.head()"
      ],
      "metadata": {
        "colab": {
          "base_uri": "https://localhost:8080/",
          "height": 257
        },
        "id": "gjmgFOuLKmDv",
        "outputId": "48afc9fe-e2d8-4526-f1b8-b746d2e4fb78"
      },
      "execution_count": null,
      "outputs": [
        {
          "output_type": "execute_result",
          "data": {
            "text/plain": [
              "     Income  Age  Experience Married/Single House_Ownership Car_Ownership  \\\n",
              "Id                                                                          \n",
              "1   1303834   23           3         single          rented            no   \n",
              "2   7574516   40          10         single          rented            no   \n",
              "3   3991815   66           4        married          rented            no   \n",
              "4   6256451   41           2         single          rented           yes   \n",
              "5   5768871   47          11         single          rented            no   \n",
              "\n",
              "             Profession                 CITY           STATE  CURRENT_JOB_YRS  \\\n",
              "Id                                                                              \n",
              "1   Mechanical_engineer                 Rewa  Madhya_Pradesh                3   \n",
              "2    Software_Developer             Parbhani     Maharashtra                9   \n",
              "3      Technical_writer            Alappuzha          Kerala                4   \n",
              "4    Software_Developer          Bhubaneswar          Odisha                2   \n",
              "5         Civil_servant  Tiruchirappalli[10]      Tamil_Nadu                3   \n",
              "\n",
              "    CURRENT_HOUSE_YRS  Risk_Flag  \n",
              "Id                                \n",
              "1                  13          0  \n",
              "2                  13          0  \n",
              "3                  10          0  \n",
              "4                  12          1  \n",
              "5                  14          1  "
            ],
            "text/html": [
              "\n",
              "  <div id=\"df-fb88941c-2315-4c75-aaaf-4e5ec56164b5\" class=\"colab-df-container\">\n",
              "    <div>\n",
              "<style scoped>\n",
              "    .dataframe tbody tr th:only-of-type {\n",
              "        vertical-align: middle;\n",
              "    }\n",
              "\n",
              "    .dataframe tbody tr th {\n",
              "        vertical-align: top;\n",
              "    }\n",
              "\n",
              "    .dataframe thead th {\n",
              "        text-align: right;\n",
              "    }\n",
              "</style>\n",
              "<table border=\"1\" class=\"dataframe\">\n",
              "  <thead>\n",
              "    <tr style=\"text-align: right;\">\n",
              "      <th></th>\n",
              "      <th>Income</th>\n",
              "      <th>Age</th>\n",
              "      <th>Experience</th>\n",
              "      <th>Married/Single</th>\n",
              "      <th>House_Ownership</th>\n",
              "      <th>Car_Ownership</th>\n",
              "      <th>Profession</th>\n",
              "      <th>CITY</th>\n",
              "      <th>STATE</th>\n",
              "      <th>CURRENT_JOB_YRS</th>\n",
              "      <th>CURRENT_HOUSE_YRS</th>\n",
              "      <th>Risk_Flag</th>\n",
              "    </tr>\n",
              "    <tr>\n",
              "      <th>Id</th>\n",
              "      <th></th>\n",
              "      <th></th>\n",
              "      <th></th>\n",
              "      <th></th>\n",
              "      <th></th>\n",
              "      <th></th>\n",
              "      <th></th>\n",
              "      <th></th>\n",
              "      <th></th>\n",
              "      <th></th>\n",
              "      <th></th>\n",
              "      <th></th>\n",
              "    </tr>\n",
              "  </thead>\n",
              "  <tbody>\n",
              "    <tr>\n",
              "      <th>1</th>\n",
              "      <td>1303834</td>\n",
              "      <td>23</td>\n",
              "      <td>3</td>\n",
              "      <td>single</td>\n",
              "      <td>rented</td>\n",
              "      <td>no</td>\n",
              "      <td>Mechanical_engineer</td>\n",
              "      <td>Rewa</td>\n",
              "      <td>Madhya_Pradesh</td>\n",
              "      <td>3</td>\n",
              "      <td>13</td>\n",
              "      <td>0</td>\n",
              "    </tr>\n",
              "    <tr>\n",
              "      <th>2</th>\n",
              "      <td>7574516</td>\n",
              "      <td>40</td>\n",
              "      <td>10</td>\n",
              "      <td>single</td>\n",
              "      <td>rented</td>\n",
              "      <td>no</td>\n",
              "      <td>Software_Developer</td>\n",
              "      <td>Parbhani</td>\n",
              "      <td>Maharashtra</td>\n",
              "      <td>9</td>\n",
              "      <td>13</td>\n",
              "      <td>0</td>\n",
              "    </tr>\n",
              "    <tr>\n",
              "      <th>3</th>\n",
              "      <td>3991815</td>\n",
              "      <td>66</td>\n",
              "      <td>4</td>\n",
              "      <td>married</td>\n",
              "      <td>rented</td>\n",
              "      <td>no</td>\n",
              "      <td>Technical_writer</td>\n",
              "      <td>Alappuzha</td>\n",
              "      <td>Kerala</td>\n",
              "      <td>4</td>\n",
              "      <td>10</td>\n",
              "      <td>0</td>\n",
              "    </tr>\n",
              "    <tr>\n",
              "      <th>4</th>\n",
              "      <td>6256451</td>\n",
              "      <td>41</td>\n",
              "      <td>2</td>\n",
              "      <td>single</td>\n",
              "      <td>rented</td>\n",
              "      <td>yes</td>\n",
              "      <td>Software_Developer</td>\n",
              "      <td>Bhubaneswar</td>\n",
              "      <td>Odisha</td>\n",
              "      <td>2</td>\n",
              "      <td>12</td>\n",
              "      <td>1</td>\n",
              "    </tr>\n",
              "    <tr>\n",
              "      <th>5</th>\n",
              "      <td>5768871</td>\n",
              "      <td>47</td>\n",
              "      <td>11</td>\n",
              "      <td>single</td>\n",
              "      <td>rented</td>\n",
              "      <td>no</td>\n",
              "      <td>Civil_servant</td>\n",
              "      <td>Tiruchirappalli[10]</td>\n",
              "      <td>Tamil_Nadu</td>\n",
              "      <td>3</td>\n",
              "      <td>14</td>\n",
              "      <td>1</td>\n",
              "    </tr>\n",
              "  </tbody>\n",
              "</table>\n",
              "</div>\n",
              "    <div class=\"colab-df-buttons\">\n",
              "\n",
              "  <div class=\"colab-df-container\">\n",
              "    <button class=\"colab-df-convert\" onclick=\"convertToInteractive('df-fb88941c-2315-4c75-aaaf-4e5ec56164b5')\"\n",
              "            title=\"Convert this dataframe to an interactive table.\"\n",
              "            style=\"display:none;\">\n",
              "\n",
              "  <svg xmlns=\"http://www.w3.org/2000/svg\" height=\"24px\" viewBox=\"0 -960 960 960\">\n",
              "    <path d=\"M120-120v-720h720v720H120Zm60-500h600v-160H180v160Zm220 220h160v-160H400v160Zm0 220h160v-160H400v160ZM180-400h160v-160H180v160Zm440 0h160v-160H620v160ZM180-180h160v-160H180v160Zm440 0h160v-160H620v160Z\"/>\n",
              "  </svg>\n",
              "    </button>\n",
              "\n",
              "  <style>\n",
              "    .colab-df-container {\n",
              "      display:flex;\n",
              "      gap: 12px;\n",
              "    }\n",
              "\n",
              "    .colab-df-convert {\n",
              "      background-color: #E8F0FE;\n",
              "      border: none;\n",
              "      border-radius: 50%;\n",
              "      cursor: pointer;\n",
              "      display: none;\n",
              "      fill: #1967D2;\n",
              "      height: 32px;\n",
              "      padding: 0 0 0 0;\n",
              "      width: 32px;\n",
              "    }\n",
              "\n",
              "    .colab-df-convert:hover {\n",
              "      background-color: #E2EBFA;\n",
              "      box-shadow: 0px 1px 2px rgba(60, 64, 67, 0.3), 0px 1px 3px 1px rgba(60, 64, 67, 0.15);\n",
              "      fill: #174EA6;\n",
              "    }\n",
              "\n",
              "    .colab-df-buttons div {\n",
              "      margin-bottom: 4px;\n",
              "    }\n",
              "\n",
              "    [theme=dark] .colab-df-convert {\n",
              "      background-color: #3B4455;\n",
              "      fill: #D2E3FC;\n",
              "    }\n",
              "\n",
              "    [theme=dark] .colab-df-convert:hover {\n",
              "      background-color: #434B5C;\n",
              "      box-shadow: 0px 1px 3px 1px rgba(0, 0, 0, 0.15);\n",
              "      filter: drop-shadow(0px 1px 2px rgba(0, 0, 0, 0.3));\n",
              "      fill: #FFFFFF;\n",
              "    }\n",
              "  </style>\n",
              "\n",
              "    <script>\n",
              "      const buttonEl =\n",
              "        document.querySelector('#df-fb88941c-2315-4c75-aaaf-4e5ec56164b5 button.colab-df-convert');\n",
              "      buttonEl.style.display =\n",
              "        google.colab.kernel.accessAllowed ? 'block' : 'none';\n",
              "\n",
              "      async function convertToInteractive(key) {\n",
              "        const element = document.querySelector('#df-fb88941c-2315-4c75-aaaf-4e5ec56164b5');\n",
              "        const dataTable =\n",
              "          await google.colab.kernel.invokeFunction('convertToInteractive',\n",
              "                                                    [key], {});\n",
              "        if (!dataTable) return;\n",
              "\n",
              "        const docLinkHtml = 'Like what you see? Visit the ' +\n",
              "          '<a target=\"_blank\" href=https://colab.research.google.com/notebooks/data_table.ipynb>data table notebook</a>'\n",
              "          + ' to learn more about interactive tables.';\n",
              "        element.innerHTML = '';\n",
              "        dataTable['output_type'] = 'display_data';\n",
              "        await google.colab.output.renderOutput(dataTable, element);\n",
              "        const docLink = document.createElement('div');\n",
              "        docLink.innerHTML = docLinkHtml;\n",
              "        element.appendChild(docLink);\n",
              "      }\n",
              "    </script>\n",
              "  </div>\n",
              "\n",
              "\n",
              "<div id=\"df-6c8861db-2431-44fa-8541-2fa81116a8bc\">\n",
              "  <button class=\"colab-df-quickchart\" onclick=\"quickchart('df-6c8861db-2431-44fa-8541-2fa81116a8bc')\"\n",
              "            title=\"Suggest charts.\"\n",
              "            style=\"display:none;\">\n",
              "\n",
              "<svg xmlns=\"http://www.w3.org/2000/svg\" height=\"24px\"viewBox=\"0 0 24 24\"\n",
              "     width=\"24px\">\n",
              "    <g>\n",
              "        <path d=\"M19 3H5c-1.1 0-2 .9-2 2v14c0 1.1.9 2 2 2h14c1.1 0 2-.9 2-2V5c0-1.1-.9-2-2-2zM9 17H7v-7h2v7zm4 0h-2V7h2v10zm4 0h-2v-4h2v4z\"/>\n",
              "    </g>\n",
              "</svg>\n",
              "  </button>\n",
              "\n",
              "<style>\n",
              "  .colab-df-quickchart {\n",
              "      --bg-color: #E8F0FE;\n",
              "      --fill-color: #1967D2;\n",
              "      --hover-bg-color: #E2EBFA;\n",
              "      --hover-fill-color: #174EA6;\n",
              "      --disabled-fill-color: #AAA;\n",
              "      --disabled-bg-color: #DDD;\n",
              "  }\n",
              "\n",
              "  [theme=dark] .colab-df-quickchart {\n",
              "      --bg-color: #3B4455;\n",
              "      --fill-color: #D2E3FC;\n",
              "      --hover-bg-color: #434B5C;\n",
              "      --hover-fill-color: #FFFFFF;\n",
              "      --disabled-bg-color: #3B4455;\n",
              "      --disabled-fill-color: #666;\n",
              "  }\n",
              "\n",
              "  .colab-df-quickchart {\n",
              "    background-color: var(--bg-color);\n",
              "    border: none;\n",
              "    border-radius: 50%;\n",
              "    cursor: pointer;\n",
              "    display: none;\n",
              "    fill: var(--fill-color);\n",
              "    height: 32px;\n",
              "    padding: 0;\n",
              "    width: 32px;\n",
              "  }\n",
              "\n",
              "  .colab-df-quickchart:hover {\n",
              "    background-color: var(--hover-bg-color);\n",
              "    box-shadow: 0 1px 2px rgba(60, 64, 67, 0.3), 0 1px 3px 1px rgba(60, 64, 67, 0.15);\n",
              "    fill: var(--button-hover-fill-color);\n",
              "  }\n",
              "\n",
              "  .colab-df-quickchart-complete:disabled,\n",
              "  .colab-df-quickchart-complete:disabled:hover {\n",
              "    background-color: var(--disabled-bg-color);\n",
              "    fill: var(--disabled-fill-color);\n",
              "    box-shadow: none;\n",
              "  }\n",
              "\n",
              "  .colab-df-spinner {\n",
              "    border: 2px solid var(--fill-color);\n",
              "    border-color: transparent;\n",
              "    border-bottom-color: var(--fill-color);\n",
              "    animation:\n",
              "      spin 1s steps(1) infinite;\n",
              "  }\n",
              "\n",
              "  @keyframes spin {\n",
              "    0% {\n",
              "      border-color: transparent;\n",
              "      border-bottom-color: var(--fill-color);\n",
              "      border-left-color: var(--fill-color);\n",
              "    }\n",
              "    20% {\n",
              "      border-color: transparent;\n",
              "      border-left-color: var(--fill-color);\n",
              "      border-top-color: var(--fill-color);\n",
              "    }\n",
              "    30% {\n",
              "      border-color: transparent;\n",
              "      border-left-color: var(--fill-color);\n",
              "      border-top-color: var(--fill-color);\n",
              "      border-right-color: var(--fill-color);\n",
              "    }\n",
              "    40% {\n",
              "      border-color: transparent;\n",
              "      border-right-color: var(--fill-color);\n",
              "      border-top-color: var(--fill-color);\n",
              "    }\n",
              "    60% {\n",
              "      border-color: transparent;\n",
              "      border-right-color: var(--fill-color);\n",
              "    }\n",
              "    80% {\n",
              "      border-color: transparent;\n",
              "      border-right-color: var(--fill-color);\n",
              "      border-bottom-color: var(--fill-color);\n",
              "    }\n",
              "    90% {\n",
              "      border-color: transparent;\n",
              "      border-bottom-color: var(--fill-color);\n",
              "    }\n",
              "  }\n",
              "</style>\n",
              "\n",
              "  <script>\n",
              "    async function quickchart(key) {\n",
              "      const quickchartButtonEl =\n",
              "        document.querySelector('#' + key + ' button');\n",
              "      quickchartButtonEl.disabled = true;  // To prevent multiple clicks.\n",
              "      quickchartButtonEl.classList.add('colab-df-spinner');\n",
              "      try {\n",
              "        const charts = await google.colab.kernel.invokeFunction(\n",
              "            'suggestCharts', [key], {});\n",
              "      } catch (error) {\n",
              "        console.error('Error during call to suggestCharts:', error);\n",
              "      }\n",
              "      quickchartButtonEl.classList.remove('colab-df-spinner');\n",
              "      quickchartButtonEl.classList.add('colab-df-quickchart-complete');\n",
              "    }\n",
              "    (() => {\n",
              "      let quickchartButtonEl =\n",
              "        document.querySelector('#df-6c8861db-2431-44fa-8541-2fa81116a8bc button');\n",
              "      quickchartButtonEl.style.display =\n",
              "        google.colab.kernel.accessAllowed ? 'block' : 'none';\n",
              "    })();\n",
              "  </script>\n",
              "</div>\n",
              "    </div>\n",
              "  </div>\n"
            ]
          },
          "metadata": {},
          "execution_count": 2
        }
      ]
    },
    {
      "cell_type": "code",
      "source": [
        "df.info()"
      ],
      "metadata": {
        "colab": {
          "base_uri": "https://localhost:8080/"
        },
        "id": "qHvwZIrSK9M0",
        "outputId": "548ae70b-02b1-498f-dd9b-5e846a5f062c"
      },
      "execution_count": null,
      "outputs": [
        {
          "output_type": "stream",
          "name": "stdout",
          "text": [
            "<class 'pandas.core.frame.DataFrame'>\n",
            "Int64Index: 252000 entries, 1 to 252000\n",
            "Data columns (total 12 columns):\n",
            " #   Column             Non-Null Count   Dtype \n",
            "---  ------             --------------   ----- \n",
            " 0   Income             252000 non-null  int64 \n",
            " 1   Age                252000 non-null  int64 \n",
            " 2   Experience         252000 non-null  int64 \n",
            " 3   Married/Single     252000 non-null  object\n",
            " 4   House_Ownership    252000 non-null  object\n",
            " 5   Car_Ownership      252000 non-null  object\n",
            " 6   Profession         252000 non-null  object\n",
            " 7   CITY               252000 non-null  object\n",
            " 8   STATE              252000 non-null  object\n",
            " 9   CURRENT_JOB_YRS    252000 non-null  int64 \n",
            " 10  CURRENT_HOUSE_YRS  252000 non-null  int64 \n",
            " 11  Risk_Flag          252000 non-null  int64 \n",
            "dtypes: int64(6), object(6)\n",
            "memory usage: 25.0+ MB\n"
          ]
        }
      ]
    },
    {
      "cell_type": "markdown",
      "source": [
        "##**Identificación de variables**"
      ],
      "metadata": {
        "id": "C0z1Yb8kCfoj"
      }
    },
    {
      "cell_type": "code",
      "source": [
        "df['Profession'].unique()"
      ],
      "metadata": {
        "colab": {
          "base_uri": "https://localhost:8080/"
        },
        "id": "u4sGHTHvQx0a",
        "outputId": "9f64f6f0-1a1e-42b7-ebad-839bdbfcab79"
      },
      "execution_count": null,
      "outputs": [
        {
          "output_type": "execute_result",
          "data": {
            "text/plain": [
              "array(['Mechanical_engineer', 'Software_Developer', 'Technical_writer',\n",
              "       'Civil_servant', 'Librarian', 'Economist', 'Flight_attendant',\n",
              "       'Architect', 'Designer', 'Physician', 'Financial_Analyst',\n",
              "       'Air_traffic_controller', 'Politician', 'Police_officer', 'Artist',\n",
              "       'Surveyor', 'Design_Engineer', 'Chemical_engineer',\n",
              "       'Hotel_Manager', 'Dentist', 'Comedian', 'Biomedical_Engineer',\n",
              "       'Graphic_Designer', 'Computer_hardware_engineer',\n",
              "       'Petroleum_Engineer', 'Secretary', 'Computer_operator',\n",
              "       'Chartered_Accountant', 'Technician', 'Microbiologist',\n",
              "       'Fashion_Designer', 'Aviator', 'Psychologist', 'Magistrate',\n",
              "       'Lawyer', 'Firefighter', 'Engineer', 'Official', 'Analyst',\n",
              "       'Geologist', 'Drafter', 'Statistician', 'Web_designer',\n",
              "       'Consultant', 'Chef', 'Army_officer', 'Surgeon', 'Scientist',\n",
              "       'Civil_engineer', 'Industrial_Engineer', 'Technology_specialist'],\n",
              "      dtype=object)"
            ]
          },
          "metadata": {},
          "execution_count": 4
        }
      ]
    },
    {
      "cell_type": "code",
      "source": [
        "df['STATE'].value_counts()"
      ],
      "metadata": {
        "colab": {
          "base_uri": "https://localhost:8080/"
        },
        "id": "5-CzPMMLYtYb",
        "outputId": "2e003cd2-6624-454b-d042-8d9bb548b154"
      },
      "execution_count": null,
      "outputs": [
        {
          "output_type": "execute_result",
          "data": {
            "text/plain": [
              "Uttar_Pradesh        28400\n",
              "Maharashtra          25562\n",
              "Andhra_Pradesh       25297\n",
              "West_Bengal          23483\n",
              "Bihar                19780\n",
              "Tamil_Nadu           16537\n",
              "Madhya_Pradesh       14122\n",
              "Karnataka            11855\n",
              "Gujarat              11408\n",
              "Rajasthan             9174\n",
              "Jharkhand             8965\n",
              "Haryana               7890\n",
              "Telangana             7524\n",
              "Assam                 7062\n",
              "Kerala                5805\n",
              "Delhi                 5490\n",
              "Punjab                4720\n",
              "Odisha                4658\n",
              "Chhattisgarh          3834\n",
              "Uttarakhand           1874\n",
              "Jammu_and_Kashmir     1780\n",
              "Puducherry            1433\n",
              "Mizoram                849\n",
              "Manipur                849\n",
              "Himachal_Pradesh       833\n",
              "Tripura                809\n",
              "Uttar_Pradesh[5]       743\n",
              "Chandigarh             656\n",
              "Sikkim                 608\n",
              "Name: STATE, dtype: int64"
            ]
          },
          "metadata": {},
          "execution_count": 5
        }
      ]
    },
    {
      "cell_type": "code",
      "source": [
        "df['CITY'].value_counts()"
      ],
      "metadata": {
        "colab": {
          "base_uri": "https://localhost:8080/"
        },
        "id": "cXyrG_vha5wa",
        "outputId": "4ac2786d-c630-40ab-d16a-b061cd4828ec"
      },
      "execution_count": null,
      "outputs": [
        {
          "output_type": "execute_result",
          "data": {
            "text/plain": [
              "Vijayanagaram       1259\n",
              "Bhopal              1208\n",
              "Bulandshahr         1185\n",
              "Saharsa[29]         1180\n",
              "Vijayawada          1172\n",
              "                    ... \n",
              "Ujjain               486\n",
              "Warangal[11][12]     459\n",
              "Bettiah[33]          457\n",
              "Katni                448\n",
              "Karaikudi            431\n",
              "Name: CITY, Length: 317, dtype: int64"
            ]
          },
          "metadata": {},
          "execution_count": 6
        }
      ]
    },
    {
      "cell_type": "markdown",
      "source": [
        "##**Análisis de correlación de variables dicotómicas**\n",
        "###**Variable 1**"
      ],
      "metadata": {
        "id": "lbAJlMqnQhnZ"
      }
    },
    {
      "cell_type": "code",
      "source": [
        "#Se filtra la primera variable\n",
        "var1 = df[(df['Profession'] == 'Comedian') | (df['Profession'] == 'Surgeon')]\n",
        "var1.head()"
      ],
      "metadata": {
        "colab": {
          "base_uri": "https://localhost:8080/",
          "height": 257
        },
        "id": "lWBvFJrtRBL3",
        "outputId": "4ceb92ae-f89e-4e2d-868e-533ea42b5bb8"
      },
      "execution_count": null,
      "outputs": [
        {
          "output_type": "execute_result",
          "data": {
            "text/plain": [
              "      Income  Age  Experience Married/Single House_Ownership Car_Ownership  \\\n",
              "Id                                                                           \n",
              "28   9643150   24          13         single          rented            no   \n",
              "153  3775604   46          11         single          rented            no   \n",
              "160  1134496   77           3         single          rented            no   \n",
              "163  6847133   69           7         single          rented            no   \n",
              "247  2252443   77           0         single          rented            no   \n",
              "\n",
              "    Profession             CITY           STATE  CURRENT_JOB_YRS  \\\n",
              "Id                                                                 \n",
              "28    Comedian           Indore  Madhya_Pradesh                6   \n",
              "153    Surgeon        Proddatur  Andhra_Pradesh                5   \n",
              "160    Surgeon    Jehanabad[38]           Bihar                3   \n",
              "163    Surgeon          Dhanbad       Jharkhand                6   \n",
              "247    Surgeon  Chandigarh_city      Chandigarh                0   \n",
              "\n",
              "     CURRENT_HOUSE_YRS  Risk_Flag  \n",
              "Id                                 \n",
              "28                  14          0  \n",
              "153                 11          1  \n",
              "160                 10          1  \n",
              "163                 10          0  \n",
              "247                 11          0  "
            ],
            "text/html": [
              "\n",
              "  <div id=\"df-5589fbf2-502e-4e08-a3ba-7aea8f74cb9e\" class=\"colab-df-container\">\n",
              "    <div>\n",
              "<style scoped>\n",
              "    .dataframe tbody tr th:only-of-type {\n",
              "        vertical-align: middle;\n",
              "    }\n",
              "\n",
              "    .dataframe tbody tr th {\n",
              "        vertical-align: top;\n",
              "    }\n",
              "\n",
              "    .dataframe thead th {\n",
              "        text-align: right;\n",
              "    }\n",
              "</style>\n",
              "<table border=\"1\" class=\"dataframe\">\n",
              "  <thead>\n",
              "    <tr style=\"text-align: right;\">\n",
              "      <th></th>\n",
              "      <th>Income</th>\n",
              "      <th>Age</th>\n",
              "      <th>Experience</th>\n",
              "      <th>Married/Single</th>\n",
              "      <th>House_Ownership</th>\n",
              "      <th>Car_Ownership</th>\n",
              "      <th>Profession</th>\n",
              "      <th>CITY</th>\n",
              "      <th>STATE</th>\n",
              "      <th>CURRENT_JOB_YRS</th>\n",
              "      <th>CURRENT_HOUSE_YRS</th>\n",
              "      <th>Risk_Flag</th>\n",
              "    </tr>\n",
              "    <tr>\n",
              "      <th>Id</th>\n",
              "      <th></th>\n",
              "      <th></th>\n",
              "      <th></th>\n",
              "      <th></th>\n",
              "      <th></th>\n",
              "      <th></th>\n",
              "      <th></th>\n",
              "      <th></th>\n",
              "      <th></th>\n",
              "      <th></th>\n",
              "      <th></th>\n",
              "      <th></th>\n",
              "    </tr>\n",
              "  </thead>\n",
              "  <tbody>\n",
              "    <tr>\n",
              "      <th>28</th>\n",
              "      <td>9643150</td>\n",
              "      <td>24</td>\n",
              "      <td>13</td>\n",
              "      <td>single</td>\n",
              "      <td>rented</td>\n",
              "      <td>no</td>\n",
              "      <td>Comedian</td>\n",
              "      <td>Indore</td>\n",
              "      <td>Madhya_Pradesh</td>\n",
              "      <td>6</td>\n",
              "      <td>14</td>\n",
              "      <td>0</td>\n",
              "    </tr>\n",
              "    <tr>\n",
              "      <th>153</th>\n",
              "      <td>3775604</td>\n",
              "      <td>46</td>\n",
              "      <td>11</td>\n",
              "      <td>single</td>\n",
              "      <td>rented</td>\n",
              "      <td>no</td>\n",
              "      <td>Surgeon</td>\n",
              "      <td>Proddatur</td>\n",
              "      <td>Andhra_Pradesh</td>\n",
              "      <td>5</td>\n",
              "      <td>11</td>\n",
              "      <td>1</td>\n",
              "    </tr>\n",
              "    <tr>\n",
              "      <th>160</th>\n",
              "      <td>1134496</td>\n",
              "      <td>77</td>\n",
              "      <td>3</td>\n",
              "      <td>single</td>\n",
              "      <td>rented</td>\n",
              "      <td>no</td>\n",
              "      <td>Surgeon</td>\n",
              "      <td>Jehanabad[38]</td>\n",
              "      <td>Bihar</td>\n",
              "      <td>3</td>\n",
              "      <td>10</td>\n",
              "      <td>1</td>\n",
              "    </tr>\n",
              "    <tr>\n",
              "      <th>163</th>\n",
              "      <td>6847133</td>\n",
              "      <td>69</td>\n",
              "      <td>7</td>\n",
              "      <td>single</td>\n",
              "      <td>rented</td>\n",
              "      <td>no</td>\n",
              "      <td>Surgeon</td>\n",
              "      <td>Dhanbad</td>\n",
              "      <td>Jharkhand</td>\n",
              "      <td>6</td>\n",
              "      <td>10</td>\n",
              "      <td>0</td>\n",
              "    </tr>\n",
              "    <tr>\n",
              "      <th>247</th>\n",
              "      <td>2252443</td>\n",
              "      <td>77</td>\n",
              "      <td>0</td>\n",
              "      <td>single</td>\n",
              "      <td>rented</td>\n",
              "      <td>no</td>\n",
              "      <td>Surgeon</td>\n",
              "      <td>Chandigarh_city</td>\n",
              "      <td>Chandigarh</td>\n",
              "      <td>0</td>\n",
              "      <td>11</td>\n",
              "      <td>0</td>\n",
              "    </tr>\n",
              "  </tbody>\n",
              "</table>\n",
              "</div>\n",
              "    <div class=\"colab-df-buttons\">\n",
              "\n",
              "  <div class=\"colab-df-container\">\n",
              "    <button class=\"colab-df-convert\" onclick=\"convertToInteractive('df-5589fbf2-502e-4e08-a3ba-7aea8f74cb9e')\"\n",
              "            title=\"Convert this dataframe to an interactive table.\"\n",
              "            style=\"display:none;\">\n",
              "\n",
              "  <svg xmlns=\"http://www.w3.org/2000/svg\" height=\"24px\" viewBox=\"0 -960 960 960\">\n",
              "    <path d=\"M120-120v-720h720v720H120Zm60-500h600v-160H180v160Zm220 220h160v-160H400v160Zm0 220h160v-160H400v160ZM180-400h160v-160H180v160Zm440 0h160v-160H620v160ZM180-180h160v-160H180v160Zm440 0h160v-160H620v160Z\"/>\n",
              "  </svg>\n",
              "    </button>\n",
              "\n",
              "  <style>\n",
              "    .colab-df-container {\n",
              "      display:flex;\n",
              "      gap: 12px;\n",
              "    }\n",
              "\n",
              "    .colab-df-convert {\n",
              "      background-color: #E8F0FE;\n",
              "      border: none;\n",
              "      border-radius: 50%;\n",
              "      cursor: pointer;\n",
              "      display: none;\n",
              "      fill: #1967D2;\n",
              "      height: 32px;\n",
              "      padding: 0 0 0 0;\n",
              "      width: 32px;\n",
              "    }\n",
              "\n",
              "    .colab-df-convert:hover {\n",
              "      background-color: #E2EBFA;\n",
              "      box-shadow: 0px 1px 2px rgba(60, 64, 67, 0.3), 0px 1px 3px 1px rgba(60, 64, 67, 0.15);\n",
              "      fill: #174EA6;\n",
              "    }\n",
              "\n",
              "    .colab-df-buttons div {\n",
              "      margin-bottom: 4px;\n",
              "    }\n",
              "\n",
              "    [theme=dark] .colab-df-convert {\n",
              "      background-color: #3B4455;\n",
              "      fill: #D2E3FC;\n",
              "    }\n",
              "\n",
              "    [theme=dark] .colab-df-convert:hover {\n",
              "      background-color: #434B5C;\n",
              "      box-shadow: 0px 1px 3px 1px rgba(0, 0, 0, 0.15);\n",
              "      filter: drop-shadow(0px 1px 2px rgba(0, 0, 0, 0.3));\n",
              "      fill: #FFFFFF;\n",
              "    }\n",
              "  </style>\n",
              "\n",
              "    <script>\n",
              "      const buttonEl =\n",
              "        document.querySelector('#df-5589fbf2-502e-4e08-a3ba-7aea8f74cb9e button.colab-df-convert');\n",
              "      buttonEl.style.display =\n",
              "        google.colab.kernel.accessAllowed ? 'block' : 'none';\n",
              "\n",
              "      async function convertToInteractive(key) {\n",
              "        const element = document.querySelector('#df-5589fbf2-502e-4e08-a3ba-7aea8f74cb9e');\n",
              "        const dataTable =\n",
              "          await google.colab.kernel.invokeFunction('convertToInteractive',\n",
              "                                                    [key], {});\n",
              "        if (!dataTable) return;\n",
              "\n",
              "        const docLinkHtml = 'Like what you see? Visit the ' +\n",
              "          '<a target=\"_blank\" href=https://colab.research.google.com/notebooks/data_table.ipynb>data table notebook</a>'\n",
              "          + ' to learn more about interactive tables.';\n",
              "        element.innerHTML = '';\n",
              "        dataTable['output_type'] = 'display_data';\n",
              "        await google.colab.output.renderOutput(dataTable, element);\n",
              "        const docLink = document.createElement('div');\n",
              "        docLink.innerHTML = docLinkHtml;\n",
              "        element.appendChild(docLink);\n",
              "      }\n",
              "    </script>\n",
              "  </div>\n",
              "\n",
              "\n",
              "<div id=\"df-875ebedb-1116-4e1d-8d99-9df4e3916940\">\n",
              "  <button class=\"colab-df-quickchart\" onclick=\"quickchart('df-875ebedb-1116-4e1d-8d99-9df4e3916940')\"\n",
              "            title=\"Suggest charts.\"\n",
              "            style=\"display:none;\">\n",
              "\n",
              "<svg xmlns=\"http://www.w3.org/2000/svg\" height=\"24px\"viewBox=\"0 0 24 24\"\n",
              "     width=\"24px\">\n",
              "    <g>\n",
              "        <path d=\"M19 3H5c-1.1 0-2 .9-2 2v14c0 1.1.9 2 2 2h14c1.1 0 2-.9 2-2V5c0-1.1-.9-2-2-2zM9 17H7v-7h2v7zm4 0h-2V7h2v10zm4 0h-2v-4h2v4z\"/>\n",
              "    </g>\n",
              "</svg>\n",
              "  </button>\n",
              "\n",
              "<style>\n",
              "  .colab-df-quickchart {\n",
              "      --bg-color: #E8F0FE;\n",
              "      --fill-color: #1967D2;\n",
              "      --hover-bg-color: #E2EBFA;\n",
              "      --hover-fill-color: #174EA6;\n",
              "      --disabled-fill-color: #AAA;\n",
              "      --disabled-bg-color: #DDD;\n",
              "  }\n",
              "\n",
              "  [theme=dark] .colab-df-quickchart {\n",
              "      --bg-color: #3B4455;\n",
              "      --fill-color: #D2E3FC;\n",
              "      --hover-bg-color: #434B5C;\n",
              "      --hover-fill-color: #FFFFFF;\n",
              "      --disabled-bg-color: #3B4455;\n",
              "      --disabled-fill-color: #666;\n",
              "  }\n",
              "\n",
              "  .colab-df-quickchart {\n",
              "    background-color: var(--bg-color);\n",
              "    border: none;\n",
              "    border-radius: 50%;\n",
              "    cursor: pointer;\n",
              "    display: none;\n",
              "    fill: var(--fill-color);\n",
              "    height: 32px;\n",
              "    padding: 0;\n",
              "    width: 32px;\n",
              "  }\n",
              "\n",
              "  .colab-df-quickchart:hover {\n",
              "    background-color: var(--hover-bg-color);\n",
              "    box-shadow: 0 1px 2px rgba(60, 64, 67, 0.3), 0 1px 3px 1px rgba(60, 64, 67, 0.15);\n",
              "    fill: var(--button-hover-fill-color);\n",
              "  }\n",
              "\n",
              "  .colab-df-quickchart-complete:disabled,\n",
              "  .colab-df-quickchart-complete:disabled:hover {\n",
              "    background-color: var(--disabled-bg-color);\n",
              "    fill: var(--disabled-fill-color);\n",
              "    box-shadow: none;\n",
              "  }\n",
              "\n",
              "  .colab-df-spinner {\n",
              "    border: 2px solid var(--fill-color);\n",
              "    border-color: transparent;\n",
              "    border-bottom-color: var(--fill-color);\n",
              "    animation:\n",
              "      spin 1s steps(1) infinite;\n",
              "  }\n",
              "\n",
              "  @keyframes spin {\n",
              "    0% {\n",
              "      border-color: transparent;\n",
              "      border-bottom-color: var(--fill-color);\n",
              "      border-left-color: var(--fill-color);\n",
              "    }\n",
              "    20% {\n",
              "      border-color: transparent;\n",
              "      border-left-color: var(--fill-color);\n",
              "      border-top-color: var(--fill-color);\n",
              "    }\n",
              "    30% {\n",
              "      border-color: transparent;\n",
              "      border-left-color: var(--fill-color);\n",
              "      border-top-color: var(--fill-color);\n",
              "      border-right-color: var(--fill-color);\n",
              "    }\n",
              "    40% {\n",
              "      border-color: transparent;\n",
              "      border-right-color: var(--fill-color);\n",
              "      border-top-color: var(--fill-color);\n",
              "    }\n",
              "    60% {\n",
              "      border-color: transparent;\n",
              "      border-right-color: var(--fill-color);\n",
              "    }\n",
              "    80% {\n",
              "      border-color: transparent;\n",
              "      border-right-color: var(--fill-color);\n",
              "      border-bottom-color: var(--fill-color);\n",
              "    }\n",
              "    90% {\n",
              "      border-color: transparent;\n",
              "      border-bottom-color: var(--fill-color);\n",
              "    }\n",
              "  }\n",
              "</style>\n",
              "\n",
              "  <script>\n",
              "    async function quickchart(key) {\n",
              "      const quickchartButtonEl =\n",
              "        document.querySelector('#' + key + ' button');\n",
              "      quickchartButtonEl.disabled = true;  // To prevent multiple clicks.\n",
              "      quickchartButtonEl.classList.add('colab-df-spinner');\n",
              "      try {\n",
              "        const charts = await google.colab.kernel.invokeFunction(\n",
              "            'suggestCharts', [key], {});\n",
              "      } catch (error) {\n",
              "        console.error('Error during call to suggestCharts:', error);\n",
              "      }\n",
              "      quickchartButtonEl.classList.remove('colab-df-spinner');\n",
              "      quickchartButtonEl.classList.add('colab-df-quickchart-complete');\n",
              "    }\n",
              "    (() => {\n",
              "      let quickchartButtonEl =\n",
              "        document.querySelector('#df-875ebedb-1116-4e1d-8d99-9df4e3916940 button');\n",
              "      quickchartButtonEl.style.display =\n",
              "        google.colab.kernel.accessAllowed ? 'block' : 'none';\n",
              "    })();\n",
              "  </script>\n",
              "</div>\n",
              "    </div>\n",
              "  </div>\n"
            ]
          },
          "metadata": {},
          "execution_count": 7
        }
      ]
    },
    {
      "cell_type": "code",
      "source": [
        "#Declaramos las variables dependientes e independientes para la regresión logística\n",
        "Vars_Indep = var1[['Income','Age','Experience','CURRENT_JOB_YRS','CURRENT_HOUSE_YRS']]\n",
        "Var_Dep = var1['Profession']"
      ],
      "metadata": {
        "id": "VAhK9p7eL6zs"
      },
      "execution_count": null,
      "outputs": []
    },
    {
      "cell_type": "code",
      "source": [
        "#Redefinimos las variables\n",
        "x = Vars_Indep\n",
        "y = Var_Dep"
      ],
      "metadata": {
        "id": "jjrgDYxsN5mI"
      },
      "execution_count": null,
      "outputs": []
    },
    {
      "cell_type": "code",
      "source": [
        "#Dividimos el conjunto de datos en la parte de entrenamiento y prueba\n",
        "x_train, x_test, y_train, y_test = train_test_split(x, y, test_size = 0.2, random_state = None)"
      ],
      "metadata": {
        "id": "a1JvxRDbOOwn"
      },
      "execution_count": null,
      "outputs": []
    },
    {
      "cell_type": "code",
      "source": [
        "#Se escalan los datos\n",
        "escalar = StandardScaler()"
      ],
      "metadata": {
        "id": "fSgnfIEfP-4T"
      },
      "execution_count": null,
      "outputs": []
    },
    {
      "cell_type": "code",
      "source": [
        "#Para realizar el escalamiento de las variables \"x\" tanto de entrenamiento como de prueba, util\n",
        "x_train = escalar.fit_transform(x_train)\n",
        "x_test = escalar.transform(x_test)"
      ],
      "metadata": {
        "id": "yA_sUJRmQDxs"
      },
      "execution_count": null,
      "outputs": []
    },
    {
      "cell_type": "code",
      "source": [
        "#Definimos el algoritmo a utilizar\n",
        "from sklearn.linear_model import LogisticRegression\n",
        "algoritmo = LogisticRegression()"
      ],
      "metadata": {
        "id": "uHgtG-A8QHFn"
      },
      "execution_count": null,
      "outputs": []
    },
    {
      "cell_type": "code",
      "source": [
        "#Entrenamos el modelo\n",
        "algoritmo.fit(x_train, y_train)"
      ],
      "metadata": {
        "colab": {
          "base_uri": "https://localhost:8080/",
          "height": 74
        },
        "id": "NmGqb5TqQIpE",
        "outputId": "ccab151d-6324-4eee-bc0f-f259fccb029c"
      },
      "execution_count": null,
      "outputs": [
        {
          "output_type": "execute_result",
          "data": {
            "text/plain": [
              "LogisticRegression()"
            ],
            "text/html": [
              "<style>#sk-container-id-1 {color: black;background-color: white;}#sk-container-id-1 pre{padding: 0;}#sk-container-id-1 div.sk-toggleable {background-color: white;}#sk-container-id-1 label.sk-toggleable__label {cursor: pointer;display: block;width: 100%;margin-bottom: 0;padding: 0.3em;box-sizing: border-box;text-align: center;}#sk-container-id-1 label.sk-toggleable__label-arrow:before {content: \"▸\";float: left;margin-right: 0.25em;color: #696969;}#sk-container-id-1 label.sk-toggleable__label-arrow:hover:before {color: black;}#sk-container-id-1 div.sk-estimator:hover label.sk-toggleable__label-arrow:before {color: black;}#sk-container-id-1 div.sk-toggleable__content {max-height: 0;max-width: 0;overflow: hidden;text-align: left;background-color: #f0f8ff;}#sk-container-id-1 div.sk-toggleable__content pre {margin: 0.2em;color: black;border-radius: 0.25em;background-color: #f0f8ff;}#sk-container-id-1 input.sk-toggleable__control:checked~div.sk-toggleable__content {max-height: 200px;max-width: 100%;overflow: auto;}#sk-container-id-1 input.sk-toggleable__control:checked~label.sk-toggleable__label-arrow:before {content: \"▾\";}#sk-container-id-1 div.sk-estimator input.sk-toggleable__control:checked~label.sk-toggleable__label {background-color: #d4ebff;}#sk-container-id-1 div.sk-label input.sk-toggleable__control:checked~label.sk-toggleable__label {background-color: #d4ebff;}#sk-container-id-1 input.sk-hidden--visually {border: 0;clip: rect(1px 1px 1px 1px);clip: rect(1px, 1px, 1px, 1px);height: 1px;margin: -1px;overflow: hidden;padding: 0;position: absolute;width: 1px;}#sk-container-id-1 div.sk-estimator {font-family: monospace;background-color: #f0f8ff;border: 1px dotted black;border-radius: 0.25em;box-sizing: border-box;margin-bottom: 0.5em;}#sk-container-id-1 div.sk-estimator:hover {background-color: #d4ebff;}#sk-container-id-1 div.sk-parallel-item::after {content: \"\";width: 100%;border-bottom: 1px solid gray;flex-grow: 1;}#sk-container-id-1 div.sk-label:hover label.sk-toggleable__label {background-color: #d4ebff;}#sk-container-id-1 div.sk-serial::before {content: \"\";position: absolute;border-left: 1px solid gray;box-sizing: border-box;top: 0;bottom: 0;left: 50%;z-index: 0;}#sk-container-id-1 div.sk-serial {display: flex;flex-direction: column;align-items: center;background-color: white;padding-right: 0.2em;padding-left: 0.2em;position: relative;}#sk-container-id-1 div.sk-item {position: relative;z-index: 1;}#sk-container-id-1 div.sk-parallel {display: flex;align-items: stretch;justify-content: center;background-color: white;position: relative;}#sk-container-id-1 div.sk-item::before, #sk-container-id-1 div.sk-parallel-item::before {content: \"\";position: absolute;border-left: 1px solid gray;box-sizing: border-box;top: 0;bottom: 0;left: 50%;z-index: -1;}#sk-container-id-1 div.sk-parallel-item {display: flex;flex-direction: column;z-index: 1;position: relative;background-color: white;}#sk-container-id-1 div.sk-parallel-item:first-child::after {align-self: flex-end;width: 50%;}#sk-container-id-1 div.sk-parallel-item:last-child::after {align-self: flex-start;width: 50%;}#sk-container-id-1 div.sk-parallel-item:only-child::after {width: 0;}#sk-container-id-1 div.sk-dashed-wrapped {border: 1px dashed gray;margin: 0 0.4em 0.5em 0.4em;box-sizing: border-box;padding-bottom: 0.4em;background-color: white;}#sk-container-id-1 div.sk-label label {font-family: monospace;font-weight: bold;display: inline-block;line-height: 1.2em;}#sk-container-id-1 div.sk-label-container {text-align: center;}#sk-container-id-1 div.sk-container {/* jupyter's `normalize.less` sets `[hidden] { display: none; }` but bootstrap.min.css set `[hidden] { display: none !important; }` so we also need the `!important` here to be able to override the default hidden behavior on the sphinx rendered scikit-learn.org. See: https://github.com/scikit-learn/scikit-learn/issues/21755 */display: inline-block !important;position: relative;}#sk-container-id-1 div.sk-text-repr-fallback {display: none;}</style><div id=\"sk-container-id-1\" class=\"sk-top-container\"><div class=\"sk-text-repr-fallback\"><pre>LogisticRegression()</pre><b>In a Jupyter environment, please rerun this cell to show the HTML representation or trust the notebook. <br />On GitHub, the HTML representation is unable to render, please try loading this page with nbviewer.org.</b></div><div class=\"sk-container\" hidden><div class=\"sk-item\"><div class=\"sk-estimator sk-toggleable\"><input class=\"sk-toggleable__control sk-hidden--visually\" id=\"sk-estimator-id-1\" type=\"checkbox\" checked><label for=\"sk-estimator-id-1\" class=\"sk-toggleable__label sk-toggleable__label-arrow\">LogisticRegression</label><div class=\"sk-toggleable__content\"><pre>LogisticRegression()</pre></div></div></div></div></div>"
            ]
          },
          "metadata": {},
          "execution_count": 14
        }
      ]
    },
    {
      "cell_type": "code",
      "source": [
        "#Realizamos una predicción\n",
        "y_pred = algoritmo.predict(x_test)\n",
        "y_pred"
      ],
      "metadata": {
        "colab": {
          "base_uri": "https://localhost:8080/"
        },
        "id": "Wx_FHHNBQMdT",
        "outputId": "03bba0b6-f5dd-4b82-cf19-5af107c15f47"
      },
      "execution_count": null,
      "outputs": [
        {
          "output_type": "execute_result",
          "data": {
            "text/plain": [
              "array(['Surgeon', 'Comedian', 'Comedian', ..., 'Comedian', 'Comedian',\n",
              "       'Comedian'], dtype=object)"
            ]
          },
          "metadata": {},
          "execution_count": 15
        }
      ]
    },
    {
      "cell_type": "code",
      "source": [
        "#Verifico la matriz de confusión\n",
        "from sklearn.metrics import confusion_matrix\n",
        "matriz = confusion_matrix(y_test, y_pred)\n",
        "print('Matriz de confusión')\n",
        "print(matriz)"
      ],
      "metadata": {
        "colab": {
          "base_uri": "https://localhost:8080/"
        },
        "id": "qKiFjVWmQRgc",
        "outputId": "98c42cf9-fa82-44eb-ddcd-b4b0202cf4f9"
      },
      "execution_count": null,
      "outputs": [
        {
          "output_type": "stream",
          "name": "stdout",
          "text": [
            "Matriz de confusión\n",
            "[[811 264]\n",
            " [644 288]]\n"
          ]
        }
      ]
    },
    {
      "cell_type": "code",
      "source": [
        "#Calculo la precisión modelo\n",
        "from sklearn.metrics import precision_score\n",
        "\n",
        "precision = precision_score(y_test, y_pred, average = 'binary', pos_label = 'Comedian')\n",
        "print('Modelo de precisión')\n",
        "print(precision)"
      ],
      "metadata": {
        "colab": {
          "base_uri": "https://localhost:8080/"
        },
        "id": "2_Qx8qPDS0IG",
        "outputId": "5e334496-50ae-465c-8db8-7615890b6adb"
      },
      "execution_count": null,
      "outputs": [
        {
          "output_type": "stream",
          "name": "stdout",
          "text": [
            "Modelo de precisión\n",
            "0.5573883161512028\n"
          ]
        }
      ]
    },
    {
      "cell_type": "code",
      "source": [
        "#Calculo la exactitud del modelo\n",
        "from sklearn.metrics import accuracy_score\n",
        "\n",
        "exactitud = accuracy_score(y_test, y_pred)\n",
        "print('Exactitud del modelo:')\n",
        "print(exactitud)"
      ],
      "metadata": {
        "colab": {
          "base_uri": "https://localhost:8080/"
        },
        "id": "cach9zphSz8I",
        "outputId": "d0c59395-1978-4ee4-9176-4b9e63f8c701"
      },
      "execution_count": null,
      "outputs": [
        {
          "output_type": "stream",
          "name": "stdout",
          "text": [
            "Exactitud del modelo:\n",
            "0.5475834578973593\n"
          ]
        }
      ]
    },
    {
      "cell_type": "code",
      "source": [
        "#Calculo la sensibilidad del modelo\n",
        "from sklearn.metrics import recall_score\n",
        "\n",
        "sensibilidad = recall_score(y_test, y_pred, average=\"binary\", pos_label= 'Comedian')\n",
        "print('Sensibilidad del modelo:')\n",
        "print(sensibilidad)"
      ],
      "metadata": {
        "colab": {
          "base_uri": "https://localhost:8080/"
        },
        "id": "-1yj7CZGSzqb",
        "outputId": "b1c35963-8b4a-4459-babb-c9277501337e"
      },
      "execution_count": null,
      "outputs": [
        {
          "output_type": "stream",
          "name": "stdout",
          "text": [
            "Sensibilidad del modelo:\n",
            "0.7544186046511628\n"
          ]
        }
      ]
    },
    {
      "cell_type": "code",
      "source": [
        "# el puntaje F1 que es una combinación entre la precisión y la sensibilidad, para esto importamos f1_score.\n",
        "#Calculo el Puntaje F1 del modelo\n",
        "from sklearn.metrics import f1_score\n",
        "puntajef1 = f1_score(y_test, y_pred, average=\"binary\", pos_label= 'Comedian')\n",
        "print('Puntaje F1 del modelo:')\n",
        "print(puntajef1)"
      ],
      "metadata": {
        "colab": {
          "base_uri": "https://localhost:8080/"
        },
        "id": "2xHEK8h-DjpE",
        "outputId": "4a902c34-d19a-4f3c-da1b-573d72b47e03"
      },
      "execution_count": null,
      "outputs": [
        {
          "output_type": "stream",
          "name": "stdout",
          "text": [
            "Puntaje F1 del modelo:\n",
            "0.6411067193675889\n"
          ]
        }
      ]
    },
    {
      "cell_type": "markdown",
      "source": [
        "###**Variable 2**"
      ],
      "metadata": {
        "id": "J4HdEWLsT2Na"
      }
    },
    {
      "cell_type": "code",
      "source": [
        "#Se filtra la primera variable\n",
        "var2 = df[(df['Profession'] == 'Computer_hardware_engineer') | (df['Profession'] == 'Software_Developer')]\n",
        "var2.head()"
      ],
      "metadata": {
        "colab": {
          "base_uri": "https://localhost:8080/",
          "height": 257
        },
        "id": "w0yefxkVU2Jm",
        "outputId": "0c7253f8-73e3-4ccf-d605-ea9d53a0e3a8"
      },
      "execution_count": null,
      "outputs": [
        {
          "output_type": "execute_result",
          "data": {
            "text/plain": [
              "     Income  Age  Experience Married/Single House_Ownership Car_Ownership  \\\n",
              "Id                                                                          \n",
              "2   7574516   40          10         single          rented            no   \n",
              "4   6256451   41           2         single          rented           yes   \n",
              "33  4128828   21          10         single          rented            no   \n",
              "57  5554586   39          18         single          rented            no   \n",
              "78  4994848   58           9         single          rented            no   \n",
              "\n",
              "                    Profession         CITY           STATE  CURRENT_JOB_YRS  \\\n",
              "Id                                                                             \n",
              "2           Software_Developer     Parbhani     Maharashtra                9   \n",
              "4           Software_Developer  Bhubaneswar          Odisha                2   \n",
              "33  Computer_hardware_engineer      Khammam       Telangana               10   \n",
              "57          Software_Developer     Hindupur  Andhra_Pradesh               13   \n",
              "78          Software_Developer     Durgapur     West_Bengal                9   \n",
              "\n",
              "    CURRENT_HOUSE_YRS  Risk_Flag  \n",
              "Id                                \n",
              "2                  13          0  \n",
              "4                  12          1  \n",
              "33                 12          0  \n",
              "57                 13          1  \n",
              "78                 13          0  "
            ],
            "text/html": [
              "\n",
              "  <div id=\"df-d76ab281-31a6-476c-a052-56f8f8f2446e\" class=\"colab-df-container\">\n",
              "    <div>\n",
              "<style scoped>\n",
              "    .dataframe tbody tr th:only-of-type {\n",
              "        vertical-align: middle;\n",
              "    }\n",
              "\n",
              "    .dataframe tbody tr th {\n",
              "        vertical-align: top;\n",
              "    }\n",
              "\n",
              "    .dataframe thead th {\n",
              "        text-align: right;\n",
              "    }\n",
              "</style>\n",
              "<table border=\"1\" class=\"dataframe\">\n",
              "  <thead>\n",
              "    <tr style=\"text-align: right;\">\n",
              "      <th></th>\n",
              "      <th>Income</th>\n",
              "      <th>Age</th>\n",
              "      <th>Experience</th>\n",
              "      <th>Married/Single</th>\n",
              "      <th>House_Ownership</th>\n",
              "      <th>Car_Ownership</th>\n",
              "      <th>Profession</th>\n",
              "      <th>CITY</th>\n",
              "      <th>STATE</th>\n",
              "      <th>CURRENT_JOB_YRS</th>\n",
              "      <th>CURRENT_HOUSE_YRS</th>\n",
              "      <th>Risk_Flag</th>\n",
              "    </tr>\n",
              "    <tr>\n",
              "      <th>Id</th>\n",
              "      <th></th>\n",
              "      <th></th>\n",
              "      <th></th>\n",
              "      <th></th>\n",
              "      <th></th>\n",
              "      <th></th>\n",
              "      <th></th>\n",
              "      <th></th>\n",
              "      <th></th>\n",
              "      <th></th>\n",
              "      <th></th>\n",
              "      <th></th>\n",
              "    </tr>\n",
              "  </thead>\n",
              "  <tbody>\n",
              "    <tr>\n",
              "      <th>2</th>\n",
              "      <td>7574516</td>\n",
              "      <td>40</td>\n",
              "      <td>10</td>\n",
              "      <td>single</td>\n",
              "      <td>rented</td>\n",
              "      <td>no</td>\n",
              "      <td>Software_Developer</td>\n",
              "      <td>Parbhani</td>\n",
              "      <td>Maharashtra</td>\n",
              "      <td>9</td>\n",
              "      <td>13</td>\n",
              "      <td>0</td>\n",
              "    </tr>\n",
              "    <tr>\n",
              "      <th>4</th>\n",
              "      <td>6256451</td>\n",
              "      <td>41</td>\n",
              "      <td>2</td>\n",
              "      <td>single</td>\n",
              "      <td>rented</td>\n",
              "      <td>yes</td>\n",
              "      <td>Software_Developer</td>\n",
              "      <td>Bhubaneswar</td>\n",
              "      <td>Odisha</td>\n",
              "      <td>2</td>\n",
              "      <td>12</td>\n",
              "      <td>1</td>\n",
              "    </tr>\n",
              "    <tr>\n",
              "      <th>33</th>\n",
              "      <td>4128828</td>\n",
              "      <td>21</td>\n",
              "      <td>10</td>\n",
              "      <td>single</td>\n",
              "      <td>rented</td>\n",
              "      <td>no</td>\n",
              "      <td>Computer_hardware_engineer</td>\n",
              "      <td>Khammam</td>\n",
              "      <td>Telangana</td>\n",
              "      <td>10</td>\n",
              "      <td>12</td>\n",
              "      <td>0</td>\n",
              "    </tr>\n",
              "    <tr>\n",
              "      <th>57</th>\n",
              "      <td>5554586</td>\n",
              "      <td>39</td>\n",
              "      <td>18</td>\n",
              "      <td>single</td>\n",
              "      <td>rented</td>\n",
              "      <td>no</td>\n",
              "      <td>Software_Developer</td>\n",
              "      <td>Hindupur</td>\n",
              "      <td>Andhra_Pradesh</td>\n",
              "      <td>13</td>\n",
              "      <td>13</td>\n",
              "      <td>1</td>\n",
              "    </tr>\n",
              "    <tr>\n",
              "      <th>78</th>\n",
              "      <td>4994848</td>\n",
              "      <td>58</td>\n",
              "      <td>9</td>\n",
              "      <td>single</td>\n",
              "      <td>rented</td>\n",
              "      <td>no</td>\n",
              "      <td>Software_Developer</td>\n",
              "      <td>Durgapur</td>\n",
              "      <td>West_Bengal</td>\n",
              "      <td>9</td>\n",
              "      <td>13</td>\n",
              "      <td>0</td>\n",
              "    </tr>\n",
              "  </tbody>\n",
              "</table>\n",
              "</div>\n",
              "    <div class=\"colab-df-buttons\">\n",
              "\n",
              "  <div class=\"colab-df-container\">\n",
              "    <button class=\"colab-df-convert\" onclick=\"convertToInteractive('df-d76ab281-31a6-476c-a052-56f8f8f2446e')\"\n",
              "            title=\"Convert this dataframe to an interactive table.\"\n",
              "            style=\"display:none;\">\n",
              "\n",
              "  <svg xmlns=\"http://www.w3.org/2000/svg\" height=\"24px\" viewBox=\"0 -960 960 960\">\n",
              "    <path d=\"M120-120v-720h720v720H120Zm60-500h600v-160H180v160Zm220 220h160v-160H400v160Zm0 220h160v-160H400v160ZM180-400h160v-160H180v160Zm440 0h160v-160H620v160ZM180-180h160v-160H180v160Zm440 0h160v-160H620v160Z\"/>\n",
              "  </svg>\n",
              "    </button>\n",
              "\n",
              "  <style>\n",
              "    .colab-df-container {\n",
              "      display:flex;\n",
              "      gap: 12px;\n",
              "    }\n",
              "\n",
              "    .colab-df-convert {\n",
              "      background-color: #E8F0FE;\n",
              "      border: none;\n",
              "      border-radius: 50%;\n",
              "      cursor: pointer;\n",
              "      display: none;\n",
              "      fill: #1967D2;\n",
              "      height: 32px;\n",
              "      padding: 0 0 0 0;\n",
              "      width: 32px;\n",
              "    }\n",
              "\n",
              "    .colab-df-convert:hover {\n",
              "      background-color: #E2EBFA;\n",
              "      box-shadow: 0px 1px 2px rgba(60, 64, 67, 0.3), 0px 1px 3px 1px rgba(60, 64, 67, 0.15);\n",
              "      fill: #174EA6;\n",
              "    }\n",
              "\n",
              "    .colab-df-buttons div {\n",
              "      margin-bottom: 4px;\n",
              "    }\n",
              "\n",
              "    [theme=dark] .colab-df-convert {\n",
              "      background-color: #3B4455;\n",
              "      fill: #D2E3FC;\n",
              "    }\n",
              "\n",
              "    [theme=dark] .colab-df-convert:hover {\n",
              "      background-color: #434B5C;\n",
              "      box-shadow: 0px 1px 3px 1px rgba(0, 0, 0, 0.15);\n",
              "      filter: drop-shadow(0px 1px 2px rgba(0, 0, 0, 0.3));\n",
              "      fill: #FFFFFF;\n",
              "    }\n",
              "  </style>\n",
              "\n",
              "    <script>\n",
              "      const buttonEl =\n",
              "        document.querySelector('#df-d76ab281-31a6-476c-a052-56f8f8f2446e button.colab-df-convert');\n",
              "      buttonEl.style.display =\n",
              "        google.colab.kernel.accessAllowed ? 'block' : 'none';\n",
              "\n",
              "      async function convertToInteractive(key) {\n",
              "        const element = document.querySelector('#df-d76ab281-31a6-476c-a052-56f8f8f2446e');\n",
              "        const dataTable =\n",
              "          await google.colab.kernel.invokeFunction('convertToInteractive',\n",
              "                                                    [key], {});\n",
              "        if (!dataTable) return;\n",
              "\n",
              "        const docLinkHtml = 'Like what you see? Visit the ' +\n",
              "          '<a target=\"_blank\" href=https://colab.research.google.com/notebooks/data_table.ipynb>data table notebook</a>'\n",
              "          + ' to learn more about interactive tables.';\n",
              "        element.innerHTML = '';\n",
              "        dataTable['output_type'] = 'display_data';\n",
              "        await google.colab.output.renderOutput(dataTable, element);\n",
              "        const docLink = document.createElement('div');\n",
              "        docLink.innerHTML = docLinkHtml;\n",
              "        element.appendChild(docLink);\n",
              "      }\n",
              "    </script>\n",
              "  </div>\n",
              "\n",
              "\n",
              "<div id=\"df-d62979cd-46bf-4ff2-98c3-1626a690782f\">\n",
              "  <button class=\"colab-df-quickchart\" onclick=\"quickchart('df-d62979cd-46bf-4ff2-98c3-1626a690782f')\"\n",
              "            title=\"Suggest charts.\"\n",
              "            style=\"display:none;\">\n",
              "\n",
              "<svg xmlns=\"http://www.w3.org/2000/svg\" height=\"24px\"viewBox=\"0 0 24 24\"\n",
              "     width=\"24px\">\n",
              "    <g>\n",
              "        <path d=\"M19 3H5c-1.1 0-2 .9-2 2v14c0 1.1.9 2 2 2h14c1.1 0 2-.9 2-2V5c0-1.1-.9-2-2-2zM9 17H7v-7h2v7zm4 0h-2V7h2v10zm4 0h-2v-4h2v4z\"/>\n",
              "    </g>\n",
              "</svg>\n",
              "  </button>\n",
              "\n",
              "<style>\n",
              "  .colab-df-quickchart {\n",
              "      --bg-color: #E8F0FE;\n",
              "      --fill-color: #1967D2;\n",
              "      --hover-bg-color: #E2EBFA;\n",
              "      --hover-fill-color: #174EA6;\n",
              "      --disabled-fill-color: #AAA;\n",
              "      --disabled-bg-color: #DDD;\n",
              "  }\n",
              "\n",
              "  [theme=dark] .colab-df-quickchart {\n",
              "      --bg-color: #3B4455;\n",
              "      --fill-color: #D2E3FC;\n",
              "      --hover-bg-color: #434B5C;\n",
              "      --hover-fill-color: #FFFFFF;\n",
              "      --disabled-bg-color: #3B4455;\n",
              "      --disabled-fill-color: #666;\n",
              "  }\n",
              "\n",
              "  .colab-df-quickchart {\n",
              "    background-color: var(--bg-color);\n",
              "    border: none;\n",
              "    border-radius: 50%;\n",
              "    cursor: pointer;\n",
              "    display: none;\n",
              "    fill: var(--fill-color);\n",
              "    height: 32px;\n",
              "    padding: 0;\n",
              "    width: 32px;\n",
              "  }\n",
              "\n",
              "  .colab-df-quickchart:hover {\n",
              "    background-color: var(--hover-bg-color);\n",
              "    box-shadow: 0 1px 2px rgba(60, 64, 67, 0.3), 0 1px 3px 1px rgba(60, 64, 67, 0.15);\n",
              "    fill: var(--button-hover-fill-color);\n",
              "  }\n",
              "\n",
              "  .colab-df-quickchart-complete:disabled,\n",
              "  .colab-df-quickchart-complete:disabled:hover {\n",
              "    background-color: var(--disabled-bg-color);\n",
              "    fill: var(--disabled-fill-color);\n",
              "    box-shadow: none;\n",
              "  }\n",
              "\n",
              "  .colab-df-spinner {\n",
              "    border: 2px solid var(--fill-color);\n",
              "    border-color: transparent;\n",
              "    border-bottom-color: var(--fill-color);\n",
              "    animation:\n",
              "      spin 1s steps(1) infinite;\n",
              "  }\n",
              "\n",
              "  @keyframes spin {\n",
              "    0% {\n",
              "      border-color: transparent;\n",
              "      border-bottom-color: var(--fill-color);\n",
              "      border-left-color: var(--fill-color);\n",
              "    }\n",
              "    20% {\n",
              "      border-color: transparent;\n",
              "      border-left-color: var(--fill-color);\n",
              "      border-top-color: var(--fill-color);\n",
              "    }\n",
              "    30% {\n",
              "      border-color: transparent;\n",
              "      border-left-color: var(--fill-color);\n",
              "      border-top-color: var(--fill-color);\n",
              "      border-right-color: var(--fill-color);\n",
              "    }\n",
              "    40% {\n",
              "      border-color: transparent;\n",
              "      border-right-color: var(--fill-color);\n",
              "      border-top-color: var(--fill-color);\n",
              "    }\n",
              "    60% {\n",
              "      border-color: transparent;\n",
              "      border-right-color: var(--fill-color);\n",
              "    }\n",
              "    80% {\n",
              "      border-color: transparent;\n",
              "      border-right-color: var(--fill-color);\n",
              "      border-bottom-color: var(--fill-color);\n",
              "    }\n",
              "    90% {\n",
              "      border-color: transparent;\n",
              "      border-bottom-color: var(--fill-color);\n",
              "    }\n",
              "  }\n",
              "</style>\n",
              "\n",
              "  <script>\n",
              "    async function quickchart(key) {\n",
              "      const quickchartButtonEl =\n",
              "        document.querySelector('#' + key + ' button');\n",
              "      quickchartButtonEl.disabled = true;  // To prevent multiple clicks.\n",
              "      quickchartButtonEl.classList.add('colab-df-spinner');\n",
              "      try {\n",
              "        const charts = await google.colab.kernel.invokeFunction(\n",
              "            'suggestCharts', [key], {});\n",
              "      } catch (error) {\n",
              "        console.error('Error during call to suggestCharts:', error);\n",
              "      }\n",
              "      quickchartButtonEl.classList.remove('colab-df-spinner');\n",
              "      quickchartButtonEl.classList.add('colab-df-quickchart-complete');\n",
              "    }\n",
              "    (() => {\n",
              "      let quickchartButtonEl =\n",
              "        document.querySelector('#df-d62979cd-46bf-4ff2-98c3-1626a690782f button');\n",
              "      quickchartButtonEl.style.display =\n",
              "        google.colab.kernel.accessAllowed ? 'block' : 'none';\n",
              "    })();\n",
              "  </script>\n",
              "</div>\n",
              "    </div>\n",
              "  </div>\n"
            ]
          },
          "metadata": {},
          "execution_count": 21
        }
      ]
    },
    {
      "cell_type": "code",
      "source": [
        "#Declaramos las variables dependientes e independientes para la regresión logística\n",
        "Vars_Indep = var2[['Income','Age','Experience','CURRENT_JOB_YRS','CURRENT_HOUSE_YRS']]\n",
        "Var_Dep = var2['Profession']"
      ],
      "metadata": {
        "id": "XSZhs5piU2Gc"
      },
      "execution_count": null,
      "outputs": []
    },
    {
      "cell_type": "code",
      "source": [
        "#Redefinimos las variables\n",
        "x = Vars_Indep\n",
        "y = Var_Dep"
      ],
      "metadata": {
        "id": "oQuw6XL9WZ60"
      },
      "execution_count": null,
      "outputs": []
    },
    {
      "cell_type": "code",
      "source": [
        "#Dividimos el conjunto de datos en la parte de entrenamiento y prueba\n",
        "x_train, x_test, y_train, y_test = train_test_split(x, y, test_size = 0.2, random_state = None)\n"
      ],
      "metadata": {
        "id": "BdoOVxS2WoNx"
      },
      "execution_count": null,
      "outputs": []
    },
    {
      "cell_type": "code",
      "source": [
        "#Se escalan los datos\n",
        "escalar = StandardScaler()"
      ],
      "metadata": {
        "id": "N1HLjuyGWvSx"
      },
      "execution_count": null,
      "outputs": []
    },
    {
      "cell_type": "code",
      "source": [
        "#Para realizar el escalamiento de las variables \"x\" tanto de entrenamiento como de prueba, util\n",
        "x_train = escalar.fit_transform(x_train)\n",
        "x_test = escalar.transform(x_test)"
      ],
      "metadata": {
        "id": "flmbPGvvWy1m"
      },
      "execution_count": null,
      "outputs": []
    },
    {
      "cell_type": "code",
      "source": [
        "#Definimos el algoritmo a utilizar\n",
        "from sklearn.linear_model import LogisticRegression\n",
        "algoritmo = LogisticRegression()"
      ],
      "metadata": {
        "id": "odvCm9p5W2PT"
      },
      "execution_count": null,
      "outputs": []
    },
    {
      "cell_type": "code",
      "source": [
        "#Entrenamos el modelo\n",
        "algoritmo.fit(x_train, y_train)"
      ],
      "metadata": {
        "colab": {
          "base_uri": "https://localhost:8080/",
          "height": 74
        },
        "id": "PGxvkClSW82o",
        "outputId": "376d6dac-37f6-4c31-882c-0c2927c8c685"
      },
      "execution_count": null,
      "outputs": [
        {
          "output_type": "execute_result",
          "data": {
            "text/plain": [
              "LogisticRegression()"
            ],
            "text/html": [
              "<style>#sk-container-id-2 {color: black;background-color: white;}#sk-container-id-2 pre{padding: 0;}#sk-container-id-2 div.sk-toggleable {background-color: white;}#sk-container-id-2 label.sk-toggleable__label {cursor: pointer;display: block;width: 100%;margin-bottom: 0;padding: 0.3em;box-sizing: border-box;text-align: center;}#sk-container-id-2 label.sk-toggleable__label-arrow:before {content: \"▸\";float: left;margin-right: 0.25em;color: #696969;}#sk-container-id-2 label.sk-toggleable__label-arrow:hover:before {color: black;}#sk-container-id-2 div.sk-estimator:hover label.sk-toggleable__label-arrow:before {color: black;}#sk-container-id-2 div.sk-toggleable__content {max-height: 0;max-width: 0;overflow: hidden;text-align: left;background-color: #f0f8ff;}#sk-container-id-2 div.sk-toggleable__content pre {margin: 0.2em;color: black;border-radius: 0.25em;background-color: #f0f8ff;}#sk-container-id-2 input.sk-toggleable__control:checked~div.sk-toggleable__content {max-height: 200px;max-width: 100%;overflow: auto;}#sk-container-id-2 input.sk-toggleable__control:checked~label.sk-toggleable__label-arrow:before {content: \"▾\";}#sk-container-id-2 div.sk-estimator input.sk-toggleable__control:checked~label.sk-toggleable__label {background-color: #d4ebff;}#sk-container-id-2 div.sk-label input.sk-toggleable__control:checked~label.sk-toggleable__label {background-color: #d4ebff;}#sk-container-id-2 input.sk-hidden--visually {border: 0;clip: rect(1px 1px 1px 1px);clip: rect(1px, 1px, 1px, 1px);height: 1px;margin: -1px;overflow: hidden;padding: 0;position: absolute;width: 1px;}#sk-container-id-2 div.sk-estimator {font-family: monospace;background-color: #f0f8ff;border: 1px dotted black;border-radius: 0.25em;box-sizing: border-box;margin-bottom: 0.5em;}#sk-container-id-2 div.sk-estimator:hover {background-color: #d4ebff;}#sk-container-id-2 div.sk-parallel-item::after {content: \"\";width: 100%;border-bottom: 1px solid gray;flex-grow: 1;}#sk-container-id-2 div.sk-label:hover label.sk-toggleable__label {background-color: #d4ebff;}#sk-container-id-2 div.sk-serial::before {content: \"\";position: absolute;border-left: 1px solid gray;box-sizing: border-box;top: 0;bottom: 0;left: 50%;z-index: 0;}#sk-container-id-2 div.sk-serial {display: flex;flex-direction: column;align-items: center;background-color: white;padding-right: 0.2em;padding-left: 0.2em;position: relative;}#sk-container-id-2 div.sk-item {position: relative;z-index: 1;}#sk-container-id-2 div.sk-parallel {display: flex;align-items: stretch;justify-content: center;background-color: white;position: relative;}#sk-container-id-2 div.sk-item::before, #sk-container-id-2 div.sk-parallel-item::before {content: \"\";position: absolute;border-left: 1px solid gray;box-sizing: border-box;top: 0;bottom: 0;left: 50%;z-index: -1;}#sk-container-id-2 div.sk-parallel-item {display: flex;flex-direction: column;z-index: 1;position: relative;background-color: white;}#sk-container-id-2 div.sk-parallel-item:first-child::after {align-self: flex-end;width: 50%;}#sk-container-id-2 div.sk-parallel-item:last-child::after {align-self: flex-start;width: 50%;}#sk-container-id-2 div.sk-parallel-item:only-child::after {width: 0;}#sk-container-id-2 div.sk-dashed-wrapped {border: 1px dashed gray;margin: 0 0.4em 0.5em 0.4em;box-sizing: border-box;padding-bottom: 0.4em;background-color: white;}#sk-container-id-2 div.sk-label label {font-family: monospace;font-weight: bold;display: inline-block;line-height: 1.2em;}#sk-container-id-2 div.sk-label-container {text-align: center;}#sk-container-id-2 div.sk-container {/* jupyter's `normalize.less` sets `[hidden] { display: none; }` but bootstrap.min.css set `[hidden] { display: none !important; }` so we also need the `!important` here to be able to override the default hidden behavior on the sphinx rendered scikit-learn.org. See: https://github.com/scikit-learn/scikit-learn/issues/21755 */display: inline-block !important;position: relative;}#sk-container-id-2 div.sk-text-repr-fallback {display: none;}</style><div id=\"sk-container-id-2\" class=\"sk-top-container\"><div class=\"sk-text-repr-fallback\"><pre>LogisticRegression()</pre><b>In a Jupyter environment, please rerun this cell to show the HTML representation or trust the notebook. <br />On GitHub, the HTML representation is unable to render, please try loading this page with nbviewer.org.</b></div><div class=\"sk-container\" hidden><div class=\"sk-item\"><div class=\"sk-estimator sk-toggleable\"><input class=\"sk-toggleable__control sk-hidden--visually\" id=\"sk-estimator-id-2\" type=\"checkbox\" checked><label for=\"sk-estimator-id-2\" class=\"sk-toggleable__label sk-toggleable__label-arrow\">LogisticRegression</label><div class=\"sk-toggleable__content\"><pre>LogisticRegression()</pre></div></div></div></div></div>"
            ]
          },
          "metadata": {},
          "execution_count": 28
        }
      ]
    },
    {
      "cell_type": "code",
      "source": [
        "#Realizamos una predicción\n",
        "y_pred = algoritmo.predict(x_test)\n",
        "y_pred"
      ],
      "metadata": {
        "colab": {
          "base_uri": "https://localhost:8080/"
        },
        "id": "Y0Ts9UdyXBC8",
        "outputId": "edae1b6f-17f1-4fcd-e10d-cea95350227a"
      },
      "execution_count": null,
      "outputs": [
        {
          "output_type": "execute_result",
          "data": {
            "text/plain": [
              "array(['Computer_hardware_engineer', 'Computer_hardware_engineer',\n",
              "       'Computer_hardware_engineer', ..., 'Computer_hardware_engineer',\n",
              "       'Computer_hardware_engineer', 'Computer_hardware_engineer'],\n",
              "      dtype=object)"
            ]
          },
          "metadata": {},
          "execution_count": 29
        }
      ]
    },
    {
      "cell_type": "code",
      "source": [
        "#Verifico la matriz de confusión\n",
        "from sklearn.metrics import confusion_matrix\n",
        "matriz = confusion_matrix(y_test, y_pred)\n",
        "print('Matriz de confusión')\n",
        "print(matriz)"
      ],
      "metadata": {
        "colab": {
          "base_uri": "https://localhost:8080/"
        },
        "id": "u3ilvchMXFdK",
        "outputId": "cf83052e-3f46-4cb5-8529-e629ffd01cc7"
      },
      "execution_count": null,
      "outputs": [
        {
          "output_type": "stream",
          "name": "stdout",
          "text": [
            "Matriz de confusión\n",
            "[[760 312]\n",
            " [590 423]]\n"
          ]
        }
      ]
    },
    {
      "cell_type": "code",
      "source": [
        "#Calculo la precisión modelo\n",
        "from sklearn.metrics import precision_score\n",
        "\n",
        "precision = precision_score(y_test, y_pred, average = 'binary', pos_label = 'Computer_hardware_engineer')\n",
        "print('Modelo de precisión')\n",
        "print(precision)"
      ],
      "metadata": {
        "colab": {
          "base_uri": "https://localhost:8080/"
        },
        "id": "GOjqNj0lXIgE",
        "outputId": "d6180aa8-b599-4c52-b2d8-44ace1460f42"
      },
      "execution_count": null,
      "outputs": [
        {
          "output_type": "stream",
          "name": "stdout",
          "text": [
            "Modelo de precisión\n",
            "0.562962962962963\n"
          ]
        }
      ]
    },
    {
      "cell_type": "code",
      "source": [
        "#Calculo la exactitud del modelo\n",
        "from sklearn.metrics import accuracy_score\n",
        "\n",
        "exactitud = accuracy_score(y_test, y_pred)\n",
        "print('Exactitud del modelo:')\n",
        "print(exactitud)"
      ],
      "metadata": {
        "colab": {
          "base_uri": "https://localhost:8080/"
        },
        "id": "PzkmMr0DXNxz",
        "outputId": "e7ad9e85-8392-4898-b584-437f03aadab9"
      },
      "execution_count": null,
      "outputs": [
        {
          "output_type": "stream",
          "name": "stdout",
          "text": [
            "Exactitud del modelo:\n",
            "0.5673860911270984\n"
          ]
        }
      ]
    },
    {
      "cell_type": "code",
      "source": [
        "#Calculo la sensibilidad del modelo\n",
        "from sklearn.metrics import recall_score\n",
        "\n",
        "sensibilidad = recall_score(y_test, y_pred, average=\"binary\", pos_label= 'Software_Developer')\n",
        "print('Sensibilidad del modelo:')\n",
        "print(sensibilidad)"
      ],
      "metadata": {
        "colab": {
          "base_uri": "https://localhost:8080/"
        },
        "id": "RkCU5jDGXQx6",
        "outputId": "9e4210b8-7e98-4d67-a950-a3238bac4939"
      },
      "execution_count": null,
      "outputs": [
        {
          "output_type": "stream",
          "name": "stdout",
          "text": [
            "Sensibilidad del modelo:\n",
            "0.4175715695952616\n"
          ]
        }
      ]
    },
    {
      "cell_type": "code",
      "source": [
        "# el puntaje F1 que es una combinación entre la precisión y la sensibilidad, para esto importamos f1_score.\n",
        "#Calculo el Puntaje F1 del modelo\n",
        "from sklearn.metrics import f1_score\n",
        "puntajef1 = f1_score(y_test, y_pred, average=\"binary\", pos_label= 'Software_Developer')\n",
        "print('Puntaje F1 del modelo:')\n",
        "print(puntajef1)"
      ],
      "metadata": {
        "colab": {
          "base_uri": "https://localhost:8080/"
        },
        "id": "n63lQM-PDbp7",
        "outputId": "533196d1-3a17-4aee-92b4-0db35d13fd88"
      },
      "execution_count": null,
      "outputs": [
        {
          "output_type": "stream",
          "name": "stdout",
          "text": [
            "Puntaje F1 del modelo:\n",
            "0.48398169336384445\n"
          ]
        }
      ]
    },
    {
      "cell_type": "markdown",
      "source": [
        "###**Variable 3**"
      ],
      "metadata": {
        "id": "x4cM3EOg8OnL"
      }
    },
    {
      "cell_type": "code",
      "source": [
        "#Se filtra la primera variable\n",
        "var3 = df[(df['CITY'] == 'Bulandshahr') | (df['CITY'] == 'Vijayawada')]\n",
        "var3.head()"
      ],
      "metadata": {
        "colab": {
          "base_uri": "https://localhost:8080/",
          "height": 257
        },
        "id": "ImGCynmMQHcM",
        "outputId": "d104773a-7a46-4796-c5fa-1f32fe21d865"
      },
      "execution_count": null,
      "outputs": [
        {
          "output_type": "execute_result",
          "data": {
            "text/plain": [
              "      Income  Age  Experience Married/Single House_Ownership Car_Ownership  \\\n",
              "Id                                                                           \n",
              "157  1013313   32          16         single          rented            no   \n",
              "281  2451457   31           9        married          rented            no   \n",
              "555   340075   45           0         single          rented            no   \n",
              "680  9099029   64           9        married          rented           yes   \n",
              "737   960205   66          16         single          rented            no   \n",
              "\n",
              "               Profession         CITY           STATE  CURRENT_JOB_YRS  \\\n",
              "Id                                                                        \n",
              "157             Geologist  Bulandshahr   Uttar_Pradesh               10   \n",
              "281            Politician  Bulandshahr   Uttar_Pradesh                9   \n",
              "555   Industrial_Engineer  Bulandshahr   Uttar_Pradesh                0   \n",
              "680  Chartered_Accountant  Bulandshahr   Uttar_Pradesh                7   \n",
              "737              Comedian   Vijayawada  Andhra_Pradesh                7   \n",
              "\n",
              "     CURRENT_HOUSE_YRS  Risk_Flag  \n",
              "Id                                 \n",
              "157                 12          0  \n",
              "281                 12          0  \n",
              "555                 13          1  \n",
              "680                 10          0  \n",
              "737                 11          1  "
            ],
            "text/html": [
              "\n",
              "  <div id=\"df-5bded99c-55e7-4ff1-8010-bfed0db93a83\" class=\"colab-df-container\">\n",
              "    <div>\n",
              "<style scoped>\n",
              "    .dataframe tbody tr th:only-of-type {\n",
              "        vertical-align: middle;\n",
              "    }\n",
              "\n",
              "    .dataframe tbody tr th {\n",
              "        vertical-align: top;\n",
              "    }\n",
              "\n",
              "    .dataframe thead th {\n",
              "        text-align: right;\n",
              "    }\n",
              "</style>\n",
              "<table border=\"1\" class=\"dataframe\">\n",
              "  <thead>\n",
              "    <tr style=\"text-align: right;\">\n",
              "      <th></th>\n",
              "      <th>Income</th>\n",
              "      <th>Age</th>\n",
              "      <th>Experience</th>\n",
              "      <th>Married/Single</th>\n",
              "      <th>House_Ownership</th>\n",
              "      <th>Car_Ownership</th>\n",
              "      <th>Profession</th>\n",
              "      <th>CITY</th>\n",
              "      <th>STATE</th>\n",
              "      <th>CURRENT_JOB_YRS</th>\n",
              "      <th>CURRENT_HOUSE_YRS</th>\n",
              "      <th>Risk_Flag</th>\n",
              "    </tr>\n",
              "    <tr>\n",
              "      <th>Id</th>\n",
              "      <th></th>\n",
              "      <th></th>\n",
              "      <th></th>\n",
              "      <th></th>\n",
              "      <th></th>\n",
              "      <th></th>\n",
              "      <th></th>\n",
              "      <th></th>\n",
              "      <th></th>\n",
              "      <th></th>\n",
              "      <th></th>\n",
              "      <th></th>\n",
              "    </tr>\n",
              "  </thead>\n",
              "  <tbody>\n",
              "    <tr>\n",
              "      <th>157</th>\n",
              "      <td>1013313</td>\n",
              "      <td>32</td>\n",
              "      <td>16</td>\n",
              "      <td>single</td>\n",
              "      <td>rented</td>\n",
              "      <td>no</td>\n",
              "      <td>Geologist</td>\n",
              "      <td>Bulandshahr</td>\n",
              "      <td>Uttar_Pradesh</td>\n",
              "      <td>10</td>\n",
              "      <td>12</td>\n",
              "      <td>0</td>\n",
              "    </tr>\n",
              "    <tr>\n",
              "      <th>281</th>\n",
              "      <td>2451457</td>\n",
              "      <td>31</td>\n",
              "      <td>9</td>\n",
              "      <td>married</td>\n",
              "      <td>rented</td>\n",
              "      <td>no</td>\n",
              "      <td>Politician</td>\n",
              "      <td>Bulandshahr</td>\n",
              "      <td>Uttar_Pradesh</td>\n",
              "      <td>9</td>\n",
              "      <td>12</td>\n",
              "      <td>0</td>\n",
              "    </tr>\n",
              "    <tr>\n",
              "      <th>555</th>\n",
              "      <td>340075</td>\n",
              "      <td>45</td>\n",
              "      <td>0</td>\n",
              "      <td>single</td>\n",
              "      <td>rented</td>\n",
              "      <td>no</td>\n",
              "      <td>Industrial_Engineer</td>\n",
              "      <td>Bulandshahr</td>\n",
              "      <td>Uttar_Pradesh</td>\n",
              "      <td>0</td>\n",
              "      <td>13</td>\n",
              "      <td>1</td>\n",
              "    </tr>\n",
              "    <tr>\n",
              "      <th>680</th>\n",
              "      <td>9099029</td>\n",
              "      <td>64</td>\n",
              "      <td>9</td>\n",
              "      <td>married</td>\n",
              "      <td>rented</td>\n",
              "      <td>yes</td>\n",
              "      <td>Chartered_Accountant</td>\n",
              "      <td>Bulandshahr</td>\n",
              "      <td>Uttar_Pradesh</td>\n",
              "      <td>7</td>\n",
              "      <td>10</td>\n",
              "      <td>0</td>\n",
              "    </tr>\n",
              "    <tr>\n",
              "      <th>737</th>\n",
              "      <td>960205</td>\n",
              "      <td>66</td>\n",
              "      <td>16</td>\n",
              "      <td>single</td>\n",
              "      <td>rented</td>\n",
              "      <td>no</td>\n",
              "      <td>Comedian</td>\n",
              "      <td>Vijayawada</td>\n",
              "      <td>Andhra_Pradesh</td>\n",
              "      <td>7</td>\n",
              "      <td>11</td>\n",
              "      <td>1</td>\n",
              "    </tr>\n",
              "  </tbody>\n",
              "</table>\n",
              "</div>\n",
              "    <div class=\"colab-df-buttons\">\n",
              "\n",
              "  <div class=\"colab-df-container\">\n",
              "    <button class=\"colab-df-convert\" onclick=\"convertToInteractive('df-5bded99c-55e7-4ff1-8010-bfed0db93a83')\"\n",
              "            title=\"Convert this dataframe to an interactive table.\"\n",
              "            style=\"display:none;\">\n",
              "\n",
              "  <svg xmlns=\"http://www.w3.org/2000/svg\" height=\"24px\" viewBox=\"0 -960 960 960\">\n",
              "    <path d=\"M120-120v-720h720v720H120Zm60-500h600v-160H180v160Zm220 220h160v-160H400v160Zm0 220h160v-160H400v160ZM180-400h160v-160H180v160Zm440 0h160v-160H620v160ZM180-180h160v-160H180v160Zm440 0h160v-160H620v160Z\"/>\n",
              "  </svg>\n",
              "    </button>\n",
              "\n",
              "  <style>\n",
              "    .colab-df-container {\n",
              "      display:flex;\n",
              "      gap: 12px;\n",
              "    }\n",
              "\n",
              "    .colab-df-convert {\n",
              "      background-color: #E8F0FE;\n",
              "      border: none;\n",
              "      border-radius: 50%;\n",
              "      cursor: pointer;\n",
              "      display: none;\n",
              "      fill: #1967D2;\n",
              "      height: 32px;\n",
              "      padding: 0 0 0 0;\n",
              "      width: 32px;\n",
              "    }\n",
              "\n",
              "    .colab-df-convert:hover {\n",
              "      background-color: #E2EBFA;\n",
              "      box-shadow: 0px 1px 2px rgba(60, 64, 67, 0.3), 0px 1px 3px 1px rgba(60, 64, 67, 0.15);\n",
              "      fill: #174EA6;\n",
              "    }\n",
              "\n",
              "    .colab-df-buttons div {\n",
              "      margin-bottom: 4px;\n",
              "    }\n",
              "\n",
              "    [theme=dark] .colab-df-convert {\n",
              "      background-color: #3B4455;\n",
              "      fill: #D2E3FC;\n",
              "    }\n",
              "\n",
              "    [theme=dark] .colab-df-convert:hover {\n",
              "      background-color: #434B5C;\n",
              "      box-shadow: 0px 1px 3px 1px rgba(0, 0, 0, 0.15);\n",
              "      filter: drop-shadow(0px 1px 2px rgba(0, 0, 0, 0.3));\n",
              "      fill: #FFFFFF;\n",
              "    }\n",
              "  </style>\n",
              "\n",
              "    <script>\n",
              "      const buttonEl =\n",
              "        document.querySelector('#df-5bded99c-55e7-4ff1-8010-bfed0db93a83 button.colab-df-convert');\n",
              "      buttonEl.style.display =\n",
              "        google.colab.kernel.accessAllowed ? 'block' : 'none';\n",
              "\n",
              "      async function convertToInteractive(key) {\n",
              "        const element = document.querySelector('#df-5bded99c-55e7-4ff1-8010-bfed0db93a83');\n",
              "        const dataTable =\n",
              "          await google.colab.kernel.invokeFunction('convertToInteractive',\n",
              "                                                    [key], {});\n",
              "        if (!dataTable) return;\n",
              "\n",
              "        const docLinkHtml = 'Like what you see? Visit the ' +\n",
              "          '<a target=\"_blank\" href=https://colab.research.google.com/notebooks/data_table.ipynb>data table notebook</a>'\n",
              "          + ' to learn more about interactive tables.';\n",
              "        element.innerHTML = '';\n",
              "        dataTable['output_type'] = 'display_data';\n",
              "        await google.colab.output.renderOutput(dataTable, element);\n",
              "        const docLink = document.createElement('div');\n",
              "        docLink.innerHTML = docLinkHtml;\n",
              "        element.appendChild(docLink);\n",
              "      }\n",
              "    </script>\n",
              "  </div>\n",
              "\n",
              "\n",
              "<div id=\"df-afe21e22-ce72-4ec8-8b13-04c48d0d7419\">\n",
              "  <button class=\"colab-df-quickchart\" onclick=\"quickchart('df-afe21e22-ce72-4ec8-8b13-04c48d0d7419')\"\n",
              "            title=\"Suggest charts.\"\n",
              "            style=\"display:none;\">\n",
              "\n",
              "<svg xmlns=\"http://www.w3.org/2000/svg\" height=\"24px\"viewBox=\"0 0 24 24\"\n",
              "     width=\"24px\">\n",
              "    <g>\n",
              "        <path d=\"M19 3H5c-1.1 0-2 .9-2 2v14c0 1.1.9 2 2 2h14c1.1 0 2-.9 2-2V5c0-1.1-.9-2-2-2zM9 17H7v-7h2v7zm4 0h-2V7h2v10zm4 0h-2v-4h2v4z\"/>\n",
              "    </g>\n",
              "</svg>\n",
              "  </button>\n",
              "\n",
              "<style>\n",
              "  .colab-df-quickchart {\n",
              "      --bg-color: #E8F0FE;\n",
              "      --fill-color: #1967D2;\n",
              "      --hover-bg-color: #E2EBFA;\n",
              "      --hover-fill-color: #174EA6;\n",
              "      --disabled-fill-color: #AAA;\n",
              "      --disabled-bg-color: #DDD;\n",
              "  }\n",
              "\n",
              "  [theme=dark] .colab-df-quickchart {\n",
              "      --bg-color: #3B4455;\n",
              "      --fill-color: #D2E3FC;\n",
              "      --hover-bg-color: #434B5C;\n",
              "      --hover-fill-color: #FFFFFF;\n",
              "      --disabled-bg-color: #3B4455;\n",
              "      --disabled-fill-color: #666;\n",
              "  }\n",
              "\n",
              "  .colab-df-quickchart {\n",
              "    background-color: var(--bg-color);\n",
              "    border: none;\n",
              "    border-radius: 50%;\n",
              "    cursor: pointer;\n",
              "    display: none;\n",
              "    fill: var(--fill-color);\n",
              "    height: 32px;\n",
              "    padding: 0;\n",
              "    width: 32px;\n",
              "  }\n",
              "\n",
              "  .colab-df-quickchart:hover {\n",
              "    background-color: var(--hover-bg-color);\n",
              "    box-shadow: 0 1px 2px rgba(60, 64, 67, 0.3), 0 1px 3px 1px rgba(60, 64, 67, 0.15);\n",
              "    fill: var(--button-hover-fill-color);\n",
              "  }\n",
              "\n",
              "  .colab-df-quickchart-complete:disabled,\n",
              "  .colab-df-quickchart-complete:disabled:hover {\n",
              "    background-color: var(--disabled-bg-color);\n",
              "    fill: var(--disabled-fill-color);\n",
              "    box-shadow: none;\n",
              "  }\n",
              "\n",
              "  .colab-df-spinner {\n",
              "    border: 2px solid var(--fill-color);\n",
              "    border-color: transparent;\n",
              "    border-bottom-color: var(--fill-color);\n",
              "    animation:\n",
              "      spin 1s steps(1) infinite;\n",
              "  }\n",
              "\n",
              "  @keyframes spin {\n",
              "    0% {\n",
              "      border-color: transparent;\n",
              "      border-bottom-color: var(--fill-color);\n",
              "      border-left-color: var(--fill-color);\n",
              "    }\n",
              "    20% {\n",
              "      border-color: transparent;\n",
              "      border-left-color: var(--fill-color);\n",
              "      border-top-color: var(--fill-color);\n",
              "    }\n",
              "    30% {\n",
              "      border-color: transparent;\n",
              "      border-left-color: var(--fill-color);\n",
              "      border-top-color: var(--fill-color);\n",
              "      border-right-color: var(--fill-color);\n",
              "    }\n",
              "    40% {\n",
              "      border-color: transparent;\n",
              "      border-right-color: var(--fill-color);\n",
              "      border-top-color: var(--fill-color);\n",
              "    }\n",
              "    60% {\n",
              "      border-color: transparent;\n",
              "      border-right-color: var(--fill-color);\n",
              "    }\n",
              "    80% {\n",
              "      border-color: transparent;\n",
              "      border-right-color: var(--fill-color);\n",
              "      border-bottom-color: var(--fill-color);\n",
              "    }\n",
              "    90% {\n",
              "      border-color: transparent;\n",
              "      border-bottom-color: var(--fill-color);\n",
              "    }\n",
              "  }\n",
              "</style>\n",
              "\n",
              "  <script>\n",
              "    async function quickchart(key) {\n",
              "      const quickchartButtonEl =\n",
              "        document.querySelector('#' + key + ' button');\n",
              "      quickchartButtonEl.disabled = true;  // To prevent multiple clicks.\n",
              "      quickchartButtonEl.classList.add('colab-df-spinner');\n",
              "      try {\n",
              "        const charts = await google.colab.kernel.invokeFunction(\n",
              "            'suggestCharts', [key], {});\n",
              "      } catch (error) {\n",
              "        console.error('Error during call to suggestCharts:', error);\n",
              "      }\n",
              "      quickchartButtonEl.classList.remove('colab-df-spinner');\n",
              "      quickchartButtonEl.classList.add('colab-df-quickchart-complete');\n",
              "    }\n",
              "    (() => {\n",
              "      let quickchartButtonEl =\n",
              "        document.querySelector('#df-afe21e22-ce72-4ec8-8b13-04c48d0d7419 button');\n",
              "      quickchartButtonEl.style.display =\n",
              "        google.colab.kernel.accessAllowed ? 'block' : 'none';\n",
              "    })();\n",
              "  </script>\n",
              "</div>\n",
              "    </div>\n",
              "  </div>\n"
            ]
          },
          "metadata": {},
          "execution_count": 35
        }
      ]
    },
    {
      "cell_type": "code",
      "source": [
        "#Declaramos las variables dependientes e independientes para la regresión logística\n",
        "Vars_Indep = var3[['Income','Experience','CURRENT_JOB_YRS','CURRENT_HOUSE_YRS']]\n",
        "Var_Dep = var3['CITY']"
      ],
      "metadata": {
        "id": "VZshbpIZQw52"
      },
      "execution_count": null,
      "outputs": []
    },
    {
      "cell_type": "code",
      "source": [
        "#Redefinimos las variables\n",
        "x = Vars_Indep\n",
        "y = Var_Dep"
      ],
      "metadata": {
        "id": "zg72xMIZRDfz"
      },
      "execution_count": null,
      "outputs": []
    },
    {
      "cell_type": "code",
      "source": [
        "#Dividimos el conjunto de datos en la parte de entrenamiento y prueba\n",
        "x_train, x_test, y_train, y_test = train_test_split(x, y, test_size = 0.3, random_state = None)"
      ],
      "metadata": {
        "id": "Y7qWUdc8Rlmt"
      },
      "execution_count": null,
      "outputs": []
    },
    {
      "cell_type": "code",
      "source": [
        "#Se escalan los datos\n",
        "escalar = StandardScaler()"
      ],
      "metadata": {
        "id": "g4gVG0_hT2-J"
      },
      "execution_count": null,
      "outputs": []
    },
    {
      "cell_type": "code",
      "source": [
        "#Para realizar el escalamiento de las variables \"x\" tanto de entrenamiento como de prueba, util\n",
        "x_train = escalar.fit_transform(x_train)\n",
        "x_test = escalar.transform(x_test)"
      ],
      "metadata": {
        "id": "kgwXyHkGUjtt"
      },
      "execution_count": null,
      "outputs": []
    },
    {
      "cell_type": "code",
      "source": [
        "#Definimos el algoritmo a utilizar\n",
        "from sklearn.linear_model import LogisticRegression\n",
        "algoritmo = LogisticRegression()"
      ],
      "metadata": {
        "id": "LpighbUmU0Xu"
      },
      "execution_count": null,
      "outputs": []
    },
    {
      "cell_type": "code",
      "source": [
        "#Entrenamos el modelo\n",
        "algoritmo.fit(x_train, y_train)"
      ],
      "metadata": {
        "colab": {
          "base_uri": "https://localhost:8080/",
          "height": 74
        },
        "id": "L08tHM84VXmi",
        "outputId": "052ff394-868a-4bca-eb72-60a5046a06fb"
      },
      "execution_count": null,
      "outputs": [
        {
          "output_type": "execute_result",
          "data": {
            "text/plain": [
              "LogisticRegression()"
            ],
            "text/html": [
              "<style>#sk-container-id-3 {color: black;background-color: white;}#sk-container-id-3 pre{padding: 0;}#sk-container-id-3 div.sk-toggleable {background-color: white;}#sk-container-id-3 label.sk-toggleable__label {cursor: pointer;display: block;width: 100%;margin-bottom: 0;padding: 0.3em;box-sizing: border-box;text-align: center;}#sk-container-id-3 label.sk-toggleable__label-arrow:before {content: \"▸\";float: left;margin-right: 0.25em;color: #696969;}#sk-container-id-3 label.sk-toggleable__label-arrow:hover:before {color: black;}#sk-container-id-3 div.sk-estimator:hover label.sk-toggleable__label-arrow:before {color: black;}#sk-container-id-3 div.sk-toggleable__content {max-height: 0;max-width: 0;overflow: hidden;text-align: left;background-color: #f0f8ff;}#sk-container-id-3 div.sk-toggleable__content pre {margin: 0.2em;color: black;border-radius: 0.25em;background-color: #f0f8ff;}#sk-container-id-3 input.sk-toggleable__control:checked~div.sk-toggleable__content {max-height: 200px;max-width: 100%;overflow: auto;}#sk-container-id-3 input.sk-toggleable__control:checked~label.sk-toggleable__label-arrow:before {content: \"▾\";}#sk-container-id-3 div.sk-estimator input.sk-toggleable__control:checked~label.sk-toggleable__label {background-color: #d4ebff;}#sk-container-id-3 div.sk-label input.sk-toggleable__control:checked~label.sk-toggleable__label {background-color: #d4ebff;}#sk-container-id-3 input.sk-hidden--visually {border: 0;clip: rect(1px 1px 1px 1px);clip: rect(1px, 1px, 1px, 1px);height: 1px;margin: -1px;overflow: hidden;padding: 0;position: absolute;width: 1px;}#sk-container-id-3 div.sk-estimator {font-family: monospace;background-color: #f0f8ff;border: 1px dotted black;border-radius: 0.25em;box-sizing: border-box;margin-bottom: 0.5em;}#sk-container-id-3 div.sk-estimator:hover {background-color: #d4ebff;}#sk-container-id-3 div.sk-parallel-item::after {content: \"\";width: 100%;border-bottom: 1px solid gray;flex-grow: 1;}#sk-container-id-3 div.sk-label:hover label.sk-toggleable__label {background-color: #d4ebff;}#sk-container-id-3 div.sk-serial::before {content: \"\";position: absolute;border-left: 1px solid gray;box-sizing: border-box;top: 0;bottom: 0;left: 50%;z-index: 0;}#sk-container-id-3 div.sk-serial {display: flex;flex-direction: column;align-items: center;background-color: white;padding-right: 0.2em;padding-left: 0.2em;position: relative;}#sk-container-id-3 div.sk-item {position: relative;z-index: 1;}#sk-container-id-3 div.sk-parallel {display: flex;align-items: stretch;justify-content: center;background-color: white;position: relative;}#sk-container-id-3 div.sk-item::before, #sk-container-id-3 div.sk-parallel-item::before {content: \"\";position: absolute;border-left: 1px solid gray;box-sizing: border-box;top: 0;bottom: 0;left: 50%;z-index: -1;}#sk-container-id-3 div.sk-parallel-item {display: flex;flex-direction: column;z-index: 1;position: relative;background-color: white;}#sk-container-id-3 div.sk-parallel-item:first-child::after {align-self: flex-end;width: 50%;}#sk-container-id-3 div.sk-parallel-item:last-child::after {align-self: flex-start;width: 50%;}#sk-container-id-3 div.sk-parallel-item:only-child::after {width: 0;}#sk-container-id-3 div.sk-dashed-wrapped {border: 1px dashed gray;margin: 0 0.4em 0.5em 0.4em;box-sizing: border-box;padding-bottom: 0.4em;background-color: white;}#sk-container-id-3 div.sk-label label {font-family: monospace;font-weight: bold;display: inline-block;line-height: 1.2em;}#sk-container-id-3 div.sk-label-container {text-align: center;}#sk-container-id-3 div.sk-container {/* jupyter's `normalize.less` sets `[hidden] { display: none; }` but bootstrap.min.css set `[hidden] { display: none !important; }` so we also need the `!important` here to be able to override the default hidden behavior on the sphinx rendered scikit-learn.org. See: https://github.com/scikit-learn/scikit-learn/issues/21755 */display: inline-block !important;position: relative;}#sk-container-id-3 div.sk-text-repr-fallback {display: none;}</style><div id=\"sk-container-id-3\" class=\"sk-top-container\"><div class=\"sk-text-repr-fallback\"><pre>LogisticRegression()</pre><b>In a Jupyter environment, please rerun this cell to show the HTML representation or trust the notebook. <br />On GitHub, the HTML representation is unable to render, please try loading this page with nbviewer.org.</b></div><div class=\"sk-container\" hidden><div class=\"sk-item\"><div class=\"sk-estimator sk-toggleable\"><input class=\"sk-toggleable__control sk-hidden--visually\" id=\"sk-estimator-id-3\" type=\"checkbox\" checked><label for=\"sk-estimator-id-3\" class=\"sk-toggleable__label sk-toggleable__label-arrow\">LogisticRegression</label><div class=\"sk-toggleable__content\"><pre>LogisticRegression()</pre></div></div></div></div></div>"
            ]
          },
          "metadata": {},
          "execution_count": 42
        }
      ]
    },
    {
      "cell_type": "code",
      "source": [
        "#Realizamos una predicción\n",
        "y_pred = algoritmo.predict(x_test)\n",
        "y_pred"
      ],
      "metadata": {
        "colab": {
          "base_uri": "https://localhost:8080/"
        },
        "id": "wrQlSQ8cV56H",
        "outputId": "f918365a-f790-49e1-89b5-99db0dace98f"
      },
      "execution_count": null,
      "outputs": [
        {
          "output_type": "execute_result",
          "data": {
            "text/plain": [
              "array(['Vijayawada', 'Vijayawada', 'Vijayawada', 'Vijayawada',\n",
              "       'Vijayawada', 'Vijayawada', 'Vijayawada', 'Vijayawada',\n",
              "       'Vijayawada', 'Bulandshahr', 'Bulandshahr', 'Bulandshahr',\n",
              "       'Bulandshahr', 'Vijayawada', 'Vijayawada', 'Bulandshahr',\n",
              "       'Vijayawada', 'Bulandshahr', 'Bulandshahr', 'Bulandshahr',\n",
              "       'Vijayawada', 'Bulandshahr', 'Vijayawada', 'Vijayawada',\n",
              "       'Vijayawada', 'Vijayawada', 'Vijayawada', 'Bulandshahr',\n",
              "       'Vijayawada', 'Vijayawada', 'Bulandshahr', 'Vijayawada',\n",
              "       'Bulandshahr', 'Bulandshahr', 'Vijayawada', 'Bulandshahr',\n",
              "       'Bulandshahr', 'Vijayawada', 'Bulandshahr', 'Bulandshahr',\n",
              "       'Vijayawada', 'Bulandshahr', 'Vijayawada', 'Vijayawada',\n",
              "       'Vijayawada', 'Vijayawada', 'Bulandshahr', 'Bulandshahr',\n",
              "       'Bulandshahr', 'Vijayawada', 'Bulandshahr', 'Vijayawada',\n",
              "       'Vijayawada', 'Bulandshahr', 'Bulandshahr', 'Vijayawada',\n",
              "       'Bulandshahr', 'Bulandshahr', 'Bulandshahr', 'Bulandshahr',\n",
              "       'Vijayawada', 'Bulandshahr', 'Vijayawada', 'Bulandshahr',\n",
              "       'Bulandshahr', 'Bulandshahr', 'Bulandshahr', 'Bulandshahr',\n",
              "       'Bulandshahr', 'Vijayawada', 'Vijayawada', 'Bulandshahr',\n",
              "       'Vijayawada', 'Bulandshahr', 'Bulandshahr', 'Bulandshahr',\n",
              "       'Bulandshahr', 'Vijayawada', 'Bulandshahr', 'Vijayawada',\n",
              "       'Bulandshahr', 'Bulandshahr', 'Vijayawada', 'Vijayawada',\n",
              "       'Bulandshahr', 'Bulandshahr', 'Bulandshahr', 'Vijayawada',\n",
              "       'Bulandshahr', 'Bulandshahr', 'Bulandshahr', 'Vijayawada',\n",
              "       'Bulandshahr', 'Bulandshahr', 'Vijayawada', 'Vijayawada',\n",
              "       'Vijayawada', 'Bulandshahr', 'Vijayawada', 'Bulandshahr',\n",
              "       'Bulandshahr', 'Bulandshahr', 'Bulandshahr', 'Vijayawada',\n",
              "       'Bulandshahr', 'Bulandshahr', 'Bulandshahr', 'Bulandshahr',\n",
              "       'Bulandshahr', 'Bulandshahr', 'Bulandshahr', 'Vijayawada',\n",
              "       'Bulandshahr', 'Bulandshahr', 'Vijayawada', 'Vijayawada',\n",
              "       'Bulandshahr', 'Vijayawada', 'Vijayawada', 'Bulandshahr',\n",
              "       'Vijayawada', 'Vijayawada', 'Vijayawada', 'Bulandshahr',\n",
              "       'Bulandshahr', 'Vijayawada', 'Vijayawada', 'Bulandshahr',\n",
              "       'Bulandshahr', 'Bulandshahr', 'Vijayawada', 'Vijayawada',\n",
              "       'Vijayawada', 'Vijayawada', 'Vijayawada', 'Vijayawada',\n",
              "       'Bulandshahr', 'Bulandshahr', 'Vijayawada', 'Bulandshahr',\n",
              "       'Bulandshahr', 'Vijayawada', 'Bulandshahr', 'Vijayawada',\n",
              "       'Vijayawada', 'Vijayawada', 'Vijayawada', 'Bulandshahr',\n",
              "       'Vijayawada', 'Bulandshahr', 'Bulandshahr', 'Bulandshahr',\n",
              "       'Bulandshahr', 'Vijayawada', 'Bulandshahr', 'Bulandshahr',\n",
              "       'Vijayawada', 'Bulandshahr', 'Bulandshahr', 'Bulandshahr',\n",
              "       'Vijayawada', 'Vijayawada', 'Bulandshahr', 'Bulandshahr',\n",
              "       'Bulandshahr', 'Bulandshahr', 'Bulandshahr', 'Vijayawada',\n",
              "       'Bulandshahr', 'Vijayawada', 'Vijayawada', 'Vijayawada',\n",
              "       'Bulandshahr', 'Bulandshahr', 'Vijayawada', 'Bulandshahr',\n",
              "       'Bulandshahr', 'Vijayawada', 'Bulandshahr', 'Bulandshahr',\n",
              "       'Bulandshahr', 'Vijayawada', 'Bulandshahr', 'Bulandshahr',\n",
              "       'Bulandshahr', 'Bulandshahr', 'Bulandshahr', 'Bulandshahr',\n",
              "       'Bulandshahr', 'Vijayawada', 'Bulandshahr', 'Bulandshahr',\n",
              "       'Vijayawada', 'Bulandshahr', 'Bulandshahr', 'Bulandshahr',\n",
              "       'Vijayawada', 'Bulandshahr', 'Bulandshahr', 'Bulandshahr',\n",
              "       'Bulandshahr', 'Bulandshahr', 'Vijayawada', 'Bulandshahr',\n",
              "       'Vijayawada', 'Bulandshahr', 'Vijayawada', 'Vijayawada',\n",
              "       'Bulandshahr', 'Bulandshahr', 'Bulandshahr', 'Vijayawada',\n",
              "       'Bulandshahr', 'Bulandshahr', 'Bulandshahr', 'Vijayawada',\n",
              "       'Vijayawada', 'Vijayawada', 'Bulandshahr', 'Vijayawada',\n",
              "       'Bulandshahr', 'Bulandshahr', 'Vijayawada', 'Vijayawada',\n",
              "       'Vijayawada', 'Vijayawada', 'Bulandshahr', 'Bulandshahr',\n",
              "       'Vijayawada', 'Bulandshahr', 'Bulandshahr', 'Vijayawada',\n",
              "       'Vijayawada', 'Bulandshahr', 'Bulandshahr', 'Bulandshahr',\n",
              "       'Vijayawada', 'Vijayawada', 'Vijayawada', 'Bulandshahr',\n",
              "       'Bulandshahr', 'Bulandshahr', 'Bulandshahr', 'Vijayawada',\n",
              "       'Bulandshahr', 'Bulandshahr', 'Vijayawada', 'Bulandshahr',\n",
              "       'Vijayawada', 'Vijayawada', 'Vijayawada', 'Vijayawada',\n",
              "       'Bulandshahr', 'Vijayawada', 'Bulandshahr', 'Vijayawada',\n",
              "       'Bulandshahr', 'Bulandshahr', 'Vijayawada', 'Bulandshahr',\n",
              "       'Bulandshahr', 'Vijayawada', 'Bulandshahr', 'Bulandshahr',\n",
              "       'Vijayawada', 'Bulandshahr', 'Bulandshahr', 'Bulandshahr',\n",
              "       'Bulandshahr', 'Vijayawada', 'Bulandshahr', 'Vijayawada',\n",
              "       'Vijayawada', 'Vijayawada', 'Bulandshahr', 'Bulandshahr',\n",
              "       'Vijayawada', 'Vijayawada', 'Bulandshahr', 'Bulandshahr',\n",
              "       'Vijayawada', 'Vijayawada', 'Bulandshahr', 'Bulandshahr',\n",
              "       'Vijayawada', 'Vijayawada', 'Vijayawada', 'Bulandshahr',\n",
              "       'Vijayawada', 'Bulandshahr', 'Vijayawada', 'Vijayawada',\n",
              "       'Bulandshahr', 'Vijayawada', 'Vijayawada', 'Vijayawada',\n",
              "       'Bulandshahr', 'Vijayawada', 'Vijayawada', 'Bulandshahr',\n",
              "       'Bulandshahr', 'Bulandshahr', 'Vijayawada', 'Vijayawada',\n",
              "       'Bulandshahr', 'Bulandshahr', 'Bulandshahr', 'Bulandshahr',\n",
              "       'Vijayawada', 'Bulandshahr', 'Bulandshahr', 'Bulandshahr',\n",
              "       'Vijayawada', 'Vijayawada', 'Bulandshahr', 'Bulandshahr',\n",
              "       'Vijayawada', 'Bulandshahr', 'Bulandshahr', 'Vijayawada',\n",
              "       'Bulandshahr', 'Vijayawada', 'Vijayawada', 'Vijayawada',\n",
              "       'Bulandshahr', 'Vijayawada', 'Vijayawada', 'Vijayawada',\n",
              "       'Bulandshahr', 'Bulandshahr', 'Vijayawada', 'Bulandshahr',\n",
              "       'Vijayawada', 'Bulandshahr', 'Bulandshahr', 'Bulandshahr',\n",
              "       'Bulandshahr', 'Bulandshahr', 'Vijayawada', 'Vijayawada',\n",
              "       'Vijayawada', 'Bulandshahr', 'Bulandshahr', 'Bulandshahr',\n",
              "       'Bulandshahr', 'Bulandshahr', 'Bulandshahr', 'Vijayawada',\n",
              "       'Bulandshahr', 'Bulandshahr', 'Bulandshahr', 'Vijayawada',\n",
              "       'Bulandshahr', 'Bulandshahr', 'Vijayawada', 'Vijayawada',\n",
              "       'Vijayawada', 'Bulandshahr', 'Bulandshahr', 'Vijayawada',\n",
              "       'Vijayawada', 'Bulandshahr', 'Bulandshahr', 'Vijayawada',\n",
              "       'Bulandshahr', 'Bulandshahr', 'Vijayawada', 'Bulandshahr',\n",
              "       'Bulandshahr', 'Bulandshahr', 'Vijayawada', 'Bulandshahr',\n",
              "       'Vijayawada', 'Bulandshahr', 'Bulandshahr', 'Bulandshahr',\n",
              "       'Vijayawada', 'Vijayawada', 'Vijayawada', 'Bulandshahr',\n",
              "       'Bulandshahr', 'Vijayawada', 'Bulandshahr', 'Bulandshahr',\n",
              "       'Bulandshahr', 'Vijayawada', 'Bulandshahr', 'Bulandshahr',\n",
              "       'Vijayawada', 'Bulandshahr', 'Vijayawada', 'Vijayawada',\n",
              "       'Bulandshahr', 'Bulandshahr', 'Bulandshahr', 'Bulandshahr',\n",
              "       'Vijayawada', 'Bulandshahr', 'Bulandshahr', 'Vijayawada',\n",
              "       'Bulandshahr', 'Bulandshahr', 'Vijayawada', 'Bulandshahr',\n",
              "       'Vijayawada', 'Vijayawada', 'Vijayawada', 'Bulandshahr',\n",
              "       'Bulandshahr', 'Bulandshahr', 'Vijayawada', 'Vijayawada',\n",
              "       'Vijayawada', 'Bulandshahr', 'Vijayawada', 'Bulandshahr',\n",
              "       'Vijayawada', 'Bulandshahr', 'Bulandshahr', 'Vijayawada',\n",
              "       'Bulandshahr', 'Bulandshahr', 'Bulandshahr', 'Bulandshahr',\n",
              "       'Vijayawada', 'Bulandshahr', 'Bulandshahr', 'Vijayawada',\n",
              "       'Vijayawada', 'Vijayawada', 'Vijayawada', 'Bulandshahr',\n",
              "       'Bulandshahr', 'Vijayawada', 'Vijayawada', 'Bulandshahr',\n",
              "       'Bulandshahr', 'Vijayawada', 'Vijayawada', 'Vijayawada',\n",
              "       'Bulandshahr', 'Vijayawada', 'Bulandshahr', 'Bulandshahr',\n",
              "       'Vijayawada', 'Vijayawada', 'Vijayawada', 'Vijayawada',\n",
              "       'Bulandshahr', 'Bulandshahr', 'Bulandshahr', 'Bulandshahr',\n",
              "       'Bulandshahr', 'Bulandshahr', 'Vijayawada', 'Bulandshahr',\n",
              "       'Bulandshahr', 'Vijayawada', 'Bulandshahr', 'Vijayawada',\n",
              "       'Vijayawada', 'Vijayawada', 'Vijayawada', 'Bulandshahr',\n",
              "       'Bulandshahr', 'Vijayawada', 'Bulandshahr', 'Vijayawada',\n",
              "       'Vijayawada', 'Vijayawada', 'Vijayawada', 'Bulandshahr',\n",
              "       'Bulandshahr', 'Bulandshahr', 'Bulandshahr', 'Bulandshahr',\n",
              "       'Bulandshahr', 'Bulandshahr', 'Bulandshahr', 'Vijayawada',\n",
              "       'Vijayawada', 'Vijayawada', 'Bulandshahr', 'Bulandshahr',\n",
              "       'Bulandshahr', 'Vijayawada', 'Vijayawada', 'Bulandshahr',\n",
              "       'Bulandshahr', 'Bulandshahr', 'Bulandshahr', 'Bulandshahr',\n",
              "       'Vijayawada', 'Vijayawada', 'Bulandshahr', 'Bulandshahr',\n",
              "       'Bulandshahr', 'Vijayawada', 'Vijayawada', 'Vijayawada',\n",
              "       'Vijayawada', 'Bulandshahr', 'Bulandshahr', 'Vijayawada',\n",
              "       'Vijayawada', 'Vijayawada', 'Vijayawada', 'Bulandshahr',\n",
              "       'Bulandshahr', 'Bulandshahr', 'Bulandshahr', 'Bulandshahr',\n",
              "       'Bulandshahr', 'Bulandshahr', 'Vijayawada', 'Vijayawada',\n",
              "       'Vijayawada', 'Vijayawada', 'Bulandshahr', 'Bulandshahr',\n",
              "       'Bulandshahr', 'Vijayawada', 'Vijayawada', 'Bulandshahr',\n",
              "       'Vijayawada', 'Vijayawada', 'Vijayawada', 'Vijayawada',\n",
              "       'Bulandshahr', 'Bulandshahr', 'Vijayawada', 'Bulandshahr',\n",
              "       'Bulandshahr', 'Bulandshahr', 'Bulandshahr', 'Bulandshahr',\n",
              "       'Bulandshahr', 'Vijayawada', 'Bulandshahr', 'Bulandshahr',\n",
              "       'Vijayawada', 'Vijayawada', 'Bulandshahr', 'Bulandshahr',\n",
              "       'Bulandshahr', 'Bulandshahr', 'Vijayawada', 'Vijayawada',\n",
              "       'Bulandshahr', 'Vijayawada', 'Vijayawada', 'Vijayawada',\n",
              "       'Vijayawada', 'Vijayawada', 'Bulandshahr', 'Vijayawada',\n",
              "       'Bulandshahr', 'Bulandshahr', 'Bulandshahr', 'Bulandshahr',\n",
              "       'Bulandshahr', 'Vijayawada', 'Vijayawada', 'Bulandshahr',\n",
              "       'Bulandshahr', 'Bulandshahr', 'Vijayawada', 'Bulandshahr',\n",
              "       'Vijayawada', 'Bulandshahr', 'Vijayawada', 'Vijayawada',\n",
              "       'Bulandshahr', 'Bulandshahr', 'Vijayawada', 'Vijayawada',\n",
              "       'Bulandshahr', 'Bulandshahr', 'Bulandshahr', 'Vijayawada',\n",
              "       'Vijayawada', 'Bulandshahr', 'Vijayawada', 'Vijayawada',\n",
              "       'Vijayawada', 'Bulandshahr', 'Bulandshahr', 'Bulandshahr',\n",
              "       'Vijayawada', 'Bulandshahr', 'Bulandshahr', 'Vijayawada',\n",
              "       'Bulandshahr', 'Bulandshahr', 'Bulandshahr', 'Bulandshahr',\n",
              "       'Bulandshahr', 'Bulandshahr', 'Bulandshahr', 'Vijayawada',\n",
              "       'Bulandshahr', 'Vijayawada', 'Vijayawada', 'Bulandshahr',\n",
              "       'Bulandshahr', 'Vijayawada', 'Vijayawada', 'Vijayawada',\n",
              "       'Vijayawada', 'Bulandshahr', 'Vijayawada', 'Bulandshahr',\n",
              "       'Bulandshahr', 'Bulandshahr', 'Bulandshahr', 'Bulandshahr',\n",
              "       'Bulandshahr', 'Vijayawada', 'Vijayawada', 'Bulandshahr',\n",
              "       'Bulandshahr', 'Vijayawada', 'Vijayawada', 'Bulandshahr',\n",
              "       'Vijayawada', 'Vijayawada', 'Vijayawada', 'Bulandshahr',\n",
              "       'Bulandshahr', 'Vijayawada', 'Bulandshahr', 'Bulandshahr',\n",
              "       'Bulandshahr', 'Bulandshahr', 'Vijayawada', 'Bulandshahr',\n",
              "       'Vijayawada', 'Bulandshahr', 'Vijayawada', 'Bulandshahr',\n",
              "       'Bulandshahr', 'Bulandshahr', 'Bulandshahr', 'Bulandshahr',\n",
              "       'Vijayawada', 'Vijayawada', 'Vijayawada', 'Bulandshahr',\n",
              "       'Bulandshahr', 'Bulandshahr', 'Vijayawada', 'Bulandshahr',\n",
              "       'Bulandshahr', 'Bulandshahr', 'Vijayawada', 'Bulandshahr',\n",
              "       'Vijayawada', 'Bulandshahr', 'Bulandshahr', 'Vijayawada',\n",
              "       'Vijayawada', 'Bulandshahr', 'Bulandshahr', 'Bulandshahr',\n",
              "       'Bulandshahr', 'Bulandshahr', 'Vijayawada', 'Bulandshahr',\n",
              "       'Bulandshahr', 'Vijayawada', 'Vijayawada', 'Bulandshahr',\n",
              "       'Bulandshahr', 'Vijayawada', 'Bulandshahr', 'Vijayawada',\n",
              "       'Bulandshahr', 'Vijayawada', 'Vijayawada', 'Vijayawada',\n",
              "       'Bulandshahr', 'Bulandshahr', 'Vijayawada', 'Bulandshahr',\n",
              "       'Vijayawada', 'Bulandshahr', 'Bulandshahr', 'Bulandshahr',\n",
              "       'Vijayawada', 'Vijayawada', 'Bulandshahr', 'Bulandshahr',\n",
              "       'Vijayawada', 'Vijayawada', 'Bulandshahr', 'Bulandshahr',\n",
              "       'Vijayawada', 'Vijayawada', 'Bulandshahr', 'Vijayawada',\n",
              "       'Vijayawada', 'Bulandshahr', 'Bulandshahr', 'Bulandshahr',\n",
              "       'Bulandshahr', 'Bulandshahr', 'Bulandshahr', 'Bulandshahr'],\n",
              "      dtype=object)"
            ]
          },
          "metadata": {},
          "execution_count": 43
        }
      ]
    },
    {
      "cell_type": "code",
      "source": [
        "#Verifico la matriz de confusión\n",
        "from sklearn.metrics import confusion_matrix\n",
        "matriz = confusion_matrix(y_test, y_pred)\n",
        "print('Matriz de confusión')\n",
        "print(matriz)"
      ],
      "metadata": {
        "colab": {
          "base_uri": "https://localhost:8080/"
        },
        "id": "Nid1jpAOWK1y",
        "outputId": "af920d2b-4bee-4693-ee18-191084a5d4c4"
      },
      "execution_count": null,
      "outputs": [
        {
          "output_type": "stream",
          "name": "stdout",
          "text": [
            "Matriz de confusión\n",
            "[[233 110]\n",
            " [169 196]]\n"
          ]
        }
      ]
    },
    {
      "cell_type": "code",
      "source": [
        "#Calculo la precisión modelo\n",
        "from sklearn.metrics import precision_score\n",
        "\n",
        "precision = precision_score(y_test, y_pred, average = 'binary', pos_label = 'Bulandshahr')\n",
        "print('Modelo de precisión')\n",
        "print(precision)"
      ],
      "metadata": {
        "colab": {
          "base_uri": "https://localhost:8080/"
        },
        "id": "em1wzWmAWez9",
        "outputId": "e4dbdee9-7541-4826-e2f6-63f899bbb46f"
      },
      "execution_count": null,
      "outputs": [
        {
          "output_type": "stream",
          "name": "stdout",
          "text": [
            "Modelo de precisión\n",
            "0.5796019900497512\n"
          ]
        }
      ]
    },
    {
      "cell_type": "code",
      "source": [
        "#Calculo la exactitud del modelo\n",
        "from sklearn.metrics import accuracy_score\n",
        "\n",
        "exactitud = accuracy_score(y_test, y_pred)\n",
        "print('Exactitud del modelo:')\n",
        "print(exactitud)"
      ],
      "metadata": {
        "colab": {
          "base_uri": "https://localhost:8080/"
        },
        "id": "9qNq-n38W-SK",
        "outputId": "6039370e-8aa3-46e8-f6da-491bf763329e"
      },
      "execution_count": null,
      "outputs": [
        {
          "output_type": "stream",
          "name": "stdout",
          "text": [
            "Exactitud del modelo:\n",
            "0.6059322033898306\n"
          ]
        }
      ]
    },
    {
      "cell_type": "code",
      "source": [
        "#Calculo la sensibilidad del modelo\n",
        "from sklearn.metrics import recall_score\n",
        "\n",
        "sensibilidad = recall_score(y_test, y_pred, average=\"binary\", pos_label=\"Bulandshahr\")\n",
        "print('Sensibilidad del modelo:')\n",
        "print(sensibilidad)"
      ],
      "metadata": {
        "colab": {
          "base_uri": "https://localhost:8080/"
        },
        "id": "FEf9LMcbXQux",
        "outputId": "64f446c3-0625-4914-dfd7-3d2b33144e36"
      },
      "execution_count": null,
      "outputs": [
        {
          "output_type": "stream",
          "name": "stdout",
          "text": [
            "Sensibilidad del modelo:\n",
            "0.6793002915451894\n"
          ]
        }
      ]
    },
    {
      "cell_type": "code",
      "source": [
        "# el puntaje F1 que es una combinación entre la precisión y la sensibilidad, para esto importamos f1_score.\n",
        "#Calculo el Puntaje F1 del modelo\n",
        "from sklearn.metrics import f1_score\n",
        "puntajef1 = f1_score(y_test, y_pred, average=\"binary\", pos_label= \"Bulandshahr\")\n",
        "print('Puntaje F1 del modelo:')\n",
        "print(puntajef1)"
      ],
      "metadata": {
        "colab": {
          "base_uri": "https://localhost:8080/"
        },
        "id": "uN3t_wrvebCo",
        "outputId": "a853badf-4e4a-4248-89e1-cc1ac99f6df8"
      },
      "execution_count": null,
      "outputs": [
        {
          "output_type": "stream",
          "name": "stdout",
          "text": [
            "Puntaje F1 del modelo:\n",
            "0.625503355704698\n"
          ]
        }
      ]
    },
    {
      "cell_type": "markdown",
      "source": [
        "###**Variable 4**"
      ],
      "metadata": {
        "id": "Zmh7mT-RJNDO"
      }
    },
    {
      "cell_type": "code",
      "source": [
        "#Se filtra la primera variable\n",
        "var4 = df[(df['CITY'] == 'Vijayanagaram') | (df['CITY'] == 'Bhopal')]\n",
        "var4.head()"
      ],
      "metadata": {
        "colab": {
          "base_uri": "https://localhost:8080/",
          "height": 257
        },
        "id": "5b5FjNC1QIxm",
        "outputId": "5d76f9ec-1097-4c52-aca4-c6a51407c419"
      },
      "execution_count": null,
      "outputs": [
        {
          "output_type": "execute_result",
          "data": {
            "text/plain": [
              "      Income  Age  Experience Married/Single House_Ownership Car_Ownership  \\\n",
              "Id                                                                           \n",
              "219  7357515   50          13         single          rented           yes   \n",
              "233  1126863   43           1         single          rented            no   \n",
              "236  7167762   49          14         single          rented            no   \n",
              "336    67428   49          12         single          rented            no   \n",
              "439  9078403   25          18        married          rented            no   \n",
              "\n",
              "              Profession           CITY           STATE  CURRENT_JOB_YRS  \\\n",
              "Id                                                                         \n",
              "219     Fashion_Designer         Bhopal  Madhya_Pradesh                7   \n",
              "233  Mechanical_engineer  Vijayanagaram  Andhra_Pradesh                1   \n",
              "236          Firefighter         Bhopal  Madhya_Pradesh               12   \n",
              "336            Scientist  Vijayanagaram  Andhra_Pradesh               10   \n",
              "439             Official  Vijayanagaram  Andhra_Pradesh                9   \n",
              "\n",
              "     CURRENT_HOUSE_YRS  Risk_Flag  \n",
              "Id                                 \n",
              "219                 14          0  \n",
              "233                 11          0  \n",
              "236                 14          1  \n",
              "336                 11          0  \n",
              "439                 12          0  "
            ],
            "text/html": [
              "\n",
              "  <div id=\"df-bbe356fa-53cd-48d3-82ea-9c4c0e43b2ab\" class=\"colab-df-container\">\n",
              "    <div>\n",
              "<style scoped>\n",
              "    .dataframe tbody tr th:only-of-type {\n",
              "        vertical-align: middle;\n",
              "    }\n",
              "\n",
              "    .dataframe tbody tr th {\n",
              "        vertical-align: top;\n",
              "    }\n",
              "\n",
              "    .dataframe thead th {\n",
              "        text-align: right;\n",
              "    }\n",
              "</style>\n",
              "<table border=\"1\" class=\"dataframe\">\n",
              "  <thead>\n",
              "    <tr style=\"text-align: right;\">\n",
              "      <th></th>\n",
              "      <th>Income</th>\n",
              "      <th>Age</th>\n",
              "      <th>Experience</th>\n",
              "      <th>Married/Single</th>\n",
              "      <th>House_Ownership</th>\n",
              "      <th>Car_Ownership</th>\n",
              "      <th>Profession</th>\n",
              "      <th>CITY</th>\n",
              "      <th>STATE</th>\n",
              "      <th>CURRENT_JOB_YRS</th>\n",
              "      <th>CURRENT_HOUSE_YRS</th>\n",
              "      <th>Risk_Flag</th>\n",
              "    </tr>\n",
              "    <tr>\n",
              "      <th>Id</th>\n",
              "      <th></th>\n",
              "      <th></th>\n",
              "      <th></th>\n",
              "      <th></th>\n",
              "      <th></th>\n",
              "      <th></th>\n",
              "      <th></th>\n",
              "      <th></th>\n",
              "      <th></th>\n",
              "      <th></th>\n",
              "      <th></th>\n",
              "      <th></th>\n",
              "    </tr>\n",
              "  </thead>\n",
              "  <tbody>\n",
              "    <tr>\n",
              "      <th>219</th>\n",
              "      <td>7357515</td>\n",
              "      <td>50</td>\n",
              "      <td>13</td>\n",
              "      <td>single</td>\n",
              "      <td>rented</td>\n",
              "      <td>yes</td>\n",
              "      <td>Fashion_Designer</td>\n",
              "      <td>Bhopal</td>\n",
              "      <td>Madhya_Pradesh</td>\n",
              "      <td>7</td>\n",
              "      <td>14</td>\n",
              "      <td>0</td>\n",
              "    </tr>\n",
              "    <tr>\n",
              "      <th>233</th>\n",
              "      <td>1126863</td>\n",
              "      <td>43</td>\n",
              "      <td>1</td>\n",
              "      <td>single</td>\n",
              "      <td>rented</td>\n",
              "      <td>no</td>\n",
              "      <td>Mechanical_engineer</td>\n",
              "      <td>Vijayanagaram</td>\n",
              "      <td>Andhra_Pradesh</td>\n",
              "      <td>1</td>\n",
              "      <td>11</td>\n",
              "      <td>0</td>\n",
              "    </tr>\n",
              "    <tr>\n",
              "      <th>236</th>\n",
              "      <td>7167762</td>\n",
              "      <td>49</td>\n",
              "      <td>14</td>\n",
              "      <td>single</td>\n",
              "      <td>rented</td>\n",
              "      <td>no</td>\n",
              "      <td>Firefighter</td>\n",
              "      <td>Bhopal</td>\n",
              "      <td>Madhya_Pradesh</td>\n",
              "      <td>12</td>\n",
              "      <td>14</td>\n",
              "      <td>1</td>\n",
              "    </tr>\n",
              "    <tr>\n",
              "      <th>336</th>\n",
              "      <td>67428</td>\n",
              "      <td>49</td>\n",
              "      <td>12</td>\n",
              "      <td>single</td>\n",
              "      <td>rented</td>\n",
              "      <td>no</td>\n",
              "      <td>Scientist</td>\n",
              "      <td>Vijayanagaram</td>\n",
              "      <td>Andhra_Pradesh</td>\n",
              "      <td>10</td>\n",
              "      <td>11</td>\n",
              "      <td>0</td>\n",
              "    </tr>\n",
              "    <tr>\n",
              "      <th>439</th>\n",
              "      <td>9078403</td>\n",
              "      <td>25</td>\n",
              "      <td>18</td>\n",
              "      <td>married</td>\n",
              "      <td>rented</td>\n",
              "      <td>no</td>\n",
              "      <td>Official</td>\n",
              "      <td>Vijayanagaram</td>\n",
              "      <td>Andhra_Pradesh</td>\n",
              "      <td>9</td>\n",
              "      <td>12</td>\n",
              "      <td>0</td>\n",
              "    </tr>\n",
              "  </tbody>\n",
              "</table>\n",
              "</div>\n",
              "    <div class=\"colab-df-buttons\">\n",
              "\n",
              "  <div class=\"colab-df-container\">\n",
              "    <button class=\"colab-df-convert\" onclick=\"convertToInteractive('df-bbe356fa-53cd-48d3-82ea-9c4c0e43b2ab')\"\n",
              "            title=\"Convert this dataframe to an interactive table.\"\n",
              "            style=\"display:none;\">\n",
              "\n",
              "  <svg xmlns=\"http://www.w3.org/2000/svg\" height=\"24px\" viewBox=\"0 -960 960 960\">\n",
              "    <path d=\"M120-120v-720h720v720H120Zm60-500h600v-160H180v160Zm220 220h160v-160H400v160Zm0 220h160v-160H400v160ZM180-400h160v-160H180v160Zm440 0h160v-160H620v160ZM180-180h160v-160H180v160Zm440 0h160v-160H620v160Z\"/>\n",
              "  </svg>\n",
              "    </button>\n",
              "\n",
              "  <style>\n",
              "    .colab-df-container {\n",
              "      display:flex;\n",
              "      gap: 12px;\n",
              "    }\n",
              "\n",
              "    .colab-df-convert {\n",
              "      background-color: #E8F0FE;\n",
              "      border: none;\n",
              "      border-radius: 50%;\n",
              "      cursor: pointer;\n",
              "      display: none;\n",
              "      fill: #1967D2;\n",
              "      height: 32px;\n",
              "      padding: 0 0 0 0;\n",
              "      width: 32px;\n",
              "    }\n",
              "\n",
              "    .colab-df-convert:hover {\n",
              "      background-color: #E2EBFA;\n",
              "      box-shadow: 0px 1px 2px rgba(60, 64, 67, 0.3), 0px 1px 3px 1px rgba(60, 64, 67, 0.15);\n",
              "      fill: #174EA6;\n",
              "    }\n",
              "\n",
              "    .colab-df-buttons div {\n",
              "      margin-bottom: 4px;\n",
              "    }\n",
              "\n",
              "    [theme=dark] .colab-df-convert {\n",
              "      background-color: #3B4455;\n",
              "      fill: #D2E3FC;\n",
              "    }\n",
              "\n",
              "    [theme=dark] .colab-df-convert:hover {\n",
              "      background-color: #434B5C;\n",
              "      box-shadow: 0px 1px 3px 1px rgba(0, 0, 0, 0.15);\n",
              "      filter: drop-shadow(0px 1px 2px rgba(0, 0, 0, 0.3));\n",
              "      fill: #FFFFFF;\n",
              "    }\n",
              "  </style>\n",
              "\n",
              "    <script>\n",
              "      const buttonEl =\n",
              "        document.querySelector('#df-bbe356fa-53cd-48d3-82ea-9c4c0e43b2ab button.colab-df-convert');\n",
              "      buttonEl.style.display =\n",
              "        google.colab.kernel.accessAllowed ? 'block' : 'none';\n",
              "\n",
              "      async function convertToInteractive(key) {\n",
              "        const element = document.querySelector('#df-bbe356fa-53cd-48d3-82ea-9c4c0e43b2ab');\n",
              "        const dataTable =\n",
              "          await google.colab.kernel.invokeFunction('convertToInteractive',\n",
              "                                                    [key], {});\n",
              "        if (!dataTable) return;\n",
              "\n",
              "        const docLinkHtml = 'Like what you see? Visit the ' +\n",
              "          '<a target=\"_blank\" href=https://colab.research.google.com/notebooks/data_table.ipynb>data table notebook</a>'\n",
              "          + ' to learn more about interactive tables.';\n",
              "        element.innerHTML = '';\n",
              "        dataTable['output_type'] = 'display_data';\n",
              "        await google.colab.output.renderOutput(dataTable, element);\n",
              "        const docLink = document.createElement('div');\n",
              "        docLink.innerHTML = docLinkHtml;\n",
              "        element.appendChild(docLink);\n",
              "      }\n",
              "    </script>\n",
              "  </div>\n",
              "\n",
              "\n",
              "<div id=\"df-cf57025e-62ca-422b-af4c-c00310a58a38\">\n",
              "  <button class=\"colab-df-quickchart\" onclick=\"quickchart('df-cf57025e-62ca-422b-af4c-c00310a58a38')\"\n",
              "            title=\"Suggest charts.\"\n",
              "            style=\"display:none;\">\n",
              "\n",
              "<svg xmlns=\"http://www.w3.org/2000/svg\" height=\"24px\"viewBox=\"0 0 24 24\"\n",
              "     width=\"24px\">\n",
              "    <g>\n",
              "        <path d=\"M19 3H5c-1.1 0-2 .9-2 2v14c0 1.1.9 2 2 2h14c1.1 0 2-.9 2-2V5c0-1.1-.9-2-2-2zM9 17H7v-7h2v7zm4 0h-2V7h2v10zm4 0h-2v-4h2v4z\"/>\n",
              "    </g>\n",
              "</svg>\n",
              "  </button>\n",
              "\n",
              "<style>\n",
              "  .colab-df-quickchart {\n",
              "      --bg-color: #E8F0FE;\n",
              "      --fill-color: #1967D2;\n",
              "      --hover-bg-color: #E2EBFA;\n",
              "      --hover-fill-color: #174EA6;\n",
              "      --disabled-fill-color: #AAA;\n",
              "      --disabled-bg-color: #DDD;\n",
              "  }\n",
              "\n",
              "  [theme=dark] .colab-df-quickchart {\n",
              "      --bg-color: #3B4455;\n",
              "      --fill-color: #D2E3FC;\n",
              "      --hover-bg-color: #434B5C;\n",
              "      --hover-fill-color: #FFFFFF;\n",
              "      --disabled-bg-color: #3B4455;\n",
              "      --disabled-fill-color: #666;\n",
              "  }\n",
              "\n",
              "  .colab-df-quickchart {\n",
              "    background-color: var(--bg-color);\n",
              "    border: none;\n",
              "    border-radius: 50%;\n",
              "    cursor: pointer;\n",
              "    display: none;\n",
              "    fill: var(--fill-color);\n",
              "    height: 32px;\n",
              "    padding: 0;\n",
              "    width: 32px;\n",
              "  }\n",
              "\n",
              "  .colab-df-quickchart:hover {\n",
              "    background-color: var(--hover-bg-color);\n",
              "    box-shadow: 0 1px 2px rgba(60, 64, 67, 0.3), 0 1px 3px 1px rgba(60, 64, 67, 0.15);\n",
              "    fill: var(--button-hover-fill-color);\n",
              "  }\n",
              "\n",
              "  .colab-df-quickchart-complete:disabled,\n",
              "  .colab-df-quickchart-complete:disabled:hover {\n",
              "    background-color: var(--disabled-bg-color);\n",
              "    fill: var(--disabled-fill-color);\n",
              "    box-shadow: none;\n",
              "  }\n",
              "\n",
              "  .colab-df-spinner {\n",
              "    border: 2px solid var(--fill-color);\n",
              "    border-color: transparent;\n",
              "    border-bottom-color: var(--fill-color);\n",
              "    animation:\n",
              "      spin 1s steps(1) infinite;\n",
              "  }\n",
              "\n",
              "  @keyframes spin {\n",
              "    0% {\n",
              "      border-color: transparent;\n",
              "      border-bottom-color: var(--fill-color);\n",
              "      border-left-color: var(--fill-color);\n",
              "    }\n",
              "    20% {\n",
              "      border-color: transparent;\n",
              "      border-left-color: var(--fill-color);\n",
              "      border-top-color: var(--fill-color);\n",
              "    }\n",
              "    30% {\n",
              "      border-color: transparent;\n",
              "      border-left-color: var(--fill-color);\n",
              "      border-top-color: var(--fill-color);\n",
              "      border-right-color: var(--fill-color);\n",
              "    }\n",
              "    40% {\n",
              "      border-color: transparent;\n",
              "      border-right-color: var(--fill-color);\n",
              "      border-top-color: var(--fill-color);\n",
              "    }\n",
              "    60% {\n",
              "      border-color: transparent;\n",
              "      border-right-color: var(--fill-color);\n",
              "    }\n",
              "    80% {\n",
              "      border-color: transparent;\n",
              "      border-right-color: var(--fill-color);\n",
              "      border-bottom-color: var(--fill-color);\n",
              "    }\n",
              "    90% {\n",
              "      border-color: transparent;\n",
              "      border-bottom-color: var(--fill-color);\n",
              "    }\n",
              "  }\n",
              "</style>\n",
              "\n",
              "  <script>\n",
              "    async function quickchart(key) {\n",
              "      const quickchartButtonEl =\n",
              "        document.querySelector('#' + key + ' button');\n",
              "      quickchartButtonEl.disabled = true;  // To prevent multiple clicks.\n",
              "      quickchartButtonEl.classList.add('colab-df-spinner');\n",
              "      try {\n",
              "        const charts = await google.colab.kernel.invokeFunction(\n",
              "            'suggestCharts', [key], {});\n",
              "      } catch (error) {\n",
              "        console.error('Error during call to suggestCharts:', error);\n",
              "      }\n",
              "      quickchartButtonEl.classList.remove('colab-df-spinner');\n",
              "      quickchartButtonEl.classList.add('colab-df-quickchart-complete');\n",
              "    }\n",
              "    (() => {\n",
              "      let quickchartButtonEl =\n",
              "        document.querySelector('#df-cf57025e-62ca-422b-af4c-c00310a58a38 button');\n",
              "      quickchartButtonEl.style.display =\n",
              "        google.colab.kernel.accessAllowed ? 'block' : 'none';\n",
              "    })();\n",
              "  </script>\n",
              "</div>\n",
              "    </div>\n",
              "  </div>\n"
            ]
          },
          "metadata": {},
          "execution_count": 49
        }
      ]
    },
    {
      "cell_type": "code",
      "source": [
        "#Declaramos las variables dependientes e independientes para la regresión logística\n",
        "Vars_Indep = var4[['Income','Experience','CURRENT_JOB_YRS','CURRENT_HOUSE_YRS']]\n",
        "Var_Dep = var4['CITY']"
      ],
      "metadata": {
        "id": "y-A6aBAcQzj6"
      },
      "execution_count": null,
      "outputs": []
    },
    {
      "cell_type": "code",
      "source": [
        "#Redefinimos las variables\n",
        "x = Vars_Indep\n",
        "y = Var_Dep"
      ],
      "metadata": {
        "id": "dHsZFYr4REvD"
      },
      "execution_count": null,
      "outputs": []
    },
    {
      "cell_type": "code",
      "source": [
        "#Dividimos el conjunto de datos en la parte de entrenamiento y prueba\n",
        "x_train, x_test, y_train, y_test = train_test_split(x, y, test_size = 0.3, random_state = None)"
      ],
      "metadata": {
        "id": "d-qLnY8YRnGJ"
      },
      "execution_count": null,
      "outputs": []
    },
    {
      "cell_type": "code",
      "source": [
        "#Se escalan los datos\n",
        "escalar = StandardScaler()"
      ],
      "metadata": {
        "id": "FOccm5QkT4dy"
      },
      "execution_count": null,
      "outputs": []
    },
    {
      "cell_type": "code",
      "source": [
        "#Para realizar el escalamiento de las variables \"x\" tanto de entrenamiento como de prueba, util\n",
        "x_train = escalar.fit_transform(x_train)\n",
        "x_test = escalar.transform(x_test)"
      ],
      "metadata": {
        "id": "575FWhq5Uk9m"
      },
      "execution_count": null,
      "outputs": []
    },
    {
      "cell_type": "code",
      "source": [
        "#Definimos el algoritmo a utilizar\n",
        "from sklearn.linear_model import LogisticRegression\n",
        "algoritmo = LogisticRegression()"
      ],
      "metadata": {
        "id": "-HAEFESTU11O"
      },
      "execution_count": null,
      "outputs": []
    },
    {
      "cell_type": "code",
      "source": [
        "#Entrenamos el modelo\n",
        "algoritmo.fit(x_train, y_train)"
      ],
      "metadata": {
        "colab": {
          "base_uri": "https://localhost:8080/",
          "height": 74
        },
        "id": "JWFA9_OWVZXK",
        "outputId": "568f1915-bca9-4a53-c3c2-6c6f6b5132f4"
      },
      "execution_count": null,
      "outputs": [
        {
          "output_type": "execute_result",
          "data": {
            "text/plain": [
              "LogisticRegression()"
            ],
            "text/html": [
              "<style>#sk-container-id-4 {color: black;background-color: white;}#sk-container-id-4 pre{padding: 0;}#sk-container-id-4 div.sk-toggleable {background-color: white;}#sk-container-id-4 label.sk-toggleable__label {cursor: pointer;display: block;width: 100%;margin-bottom: 0;padding: 0.3em;box-sizing: border-box;text-align: center;}#sk-container-id-4 label.sk-toggleable__label-arrow:before {content: \"▸\";float: left;margin-right: 0.25em;color: #696969;}#sk-container-id-4 label.sk-toggleable__label-arrow:hover:before {color: black;}#sk-container-id-4 div.sk-estimator:hover label.sk-toggleable__label-arrow:before {color: black;}#sk-container-id-4 div.sk-toggleable__content {max-height: 0;max-width: 0;overflow: hidden;text-align: left;background-color: #f0f8ff;}#sk-container-id-4 div.sk-toggleable__content pre {margin: 0.2em;color: black;border-radius: 0.25em;background-color: #f0f8ff;}#sk-container-id-4 input.sk-toggleable__control:checked~div.sk-toggleable__content {max-height: 200px;max-width: 100%;overflow: auto;}#sk-container-id-4 input.sk-toggleable__control:checked~label.sk-toggleable__label-arrow:before {content: \"▾\";}#sk-container-id-4 div.sk-estimator input.sk-toggleable__control:checked~label.sk-toggleable__label {background-color: #d4ebff;}#sk-container-id-4 div.sk-label input.sk-toggleable__control:checked~label.sk-toggleable__label {background-color: #d4ebff;}#sk-container-id-4 input.sk-hidden--visually {border: 0;clip: rect(1px 1px 1px 1px);clip: rect(1px, 1px, 1px, 1px);height: 1px;margin: -1px;overflow: hidden;padding: 0;position: absolute;width: 1px;}#sk-container-id-4 div.sk-estimator {font-family: monospace;background-color: #f0f8ff;border: 1px dotted black;border-radius: 0.25em;box-sizing: border-box;margin-bottom: 0.5em;}#sk-container-id-4 div.sk-estimator:hover {background-color: #d4ebff;}#sk-container-id-4 div.sk-parallel-item::after {content: \"\";width: 100%;border-bottom: 1px solid gray;flex-grow: 1;}#sk-container-id-4 div.sk-label:hover label.sk-toggleable__label {background-color: #d4ebff;}#sk-container-id-4 div.sk-serial::before {content: \"\";position: absolute;border-left: 1px solid gray;box-sizing: border-box;top: 0;bottom: 0;left: 50%;z-index: 0;}#sk-container-id-4 div.sk-serial {display: flex;flex-direction: column;align-items: center;background-color: white;padding-right: 0.2em;padding-left: 0.2em;position: relative;}#sk-container-id-4 div.sk-item {position: relative;z-index: 1;}#sk-container-id-4 div.sk-parallel {display: flex;align-items: stretch;justify-content: center;background-color: white;position: relative;}#sk-container-id-4 div.sk-item::before, #sk-container-id-4 div.sk-parallel-item::before {content: \"\";position: absolute;border-left: 1px solid gray;box-sizing: border-box;top: 0;bottom: 0;left: 50%;z-index: -1;}#sk-container-id-4 div.sk-parallel-item {display: flex;flex-direction: column;z-index: 1;position: relative;background-color: white;}#sk-container-id-4 div.sk-parallel-item:first-child::after {align-self: flex-end;width: 50%;}#sk-container-id-4 div.sk-parallel-item:last-child::after {align-self: flex-start;width: 50%;}#sk-container-id-4 div.sk-parallel-item:only-child::after {width: 0;}#sk-container-id-4 div.sk-dashed-wrapped {border: 1px dashed gray;margin: 0 0.4em 0.5em 0.4em;box-sizing: border-box;padding-bottom: 0.4em;background-color: white;}#sk-container-id-4 div.sk-label label {font-family: monospace;font-weight: bold;display: inline-block;line-height: 1.2em;}#sk-container-id-4 div.sk-label-container {text-align: center;}#sk-container-id-4 div.sk-container {/* jupyter's `normalize.less` sets `[hidden] { display: none; }` but bootstrap.min.css set `[hidden] { display: none !important; }` so we also need the `!important` here to be able to override the default hidden behavior on the sphinx rendered scikit-learn.org. See: https://github.com/scikit-learn/scikit-learn/issues/21755 */display: inline-block !important;position: relative;}#sk-container-id-4 div.sk-text-repr-fallback {display: none;}</style><div id=\"sk-container-id-4\" class=\"sk-top-container\"><div class=\"sk-text-repr-fallback\"><pre>LogisticRegression()</pre><b>In a Jupyter environment, please rerun this cell to show the HTML representation or trust the notebook. <br />On GitHub, the HTML representation is unable to render, please try loading this page with nbviewer.org.</b></div><div class=\"sk-container\" hidden><div class=\"sk-item\"><div class=\"sk-estimator sk-toggleable\"><input class=\"sk-toggleable__control sk-hidden--visually\" id=\"sk-estimator-id-4\" type=\"checkbox\" checked><label for=\"sk-estimator-id-4\" class=\"sk-toggleable__label sk-toggleable__label-arrow\">LogisticRegression</label><div class=\"sk-toggleable__content\"><pre>LogisticRegression()</pre></div></div></div></div></div>"
            ]
          },
          "metadata": {},
          "execution_count": 56
        }
      ]
    },
    {
      "cell_type": "code",
      "source": [
        "#Realizamos una predicción\n",
        "y_pred = algoritmo.predict(x_test)\n",
        "y_pred"
      ],
      "metadata": {
        "colab": {
          "base_uri": "https://localhost:8080/"
        },
        "id": "uwN7M2wtV7gX",
        "outputId": "e05245c0-6736-4054-88d1-0ba0a108f265"
      },
      "execution_count": null,
      "outputs": [
        {
          "output_type": "execute_result",
          "data": {
            "text/plain": [
              "array(['Bhopal', 'Vijayanagaram', 'Vijayanagaram', 'Bhopal', 'Bhopal',\n",
              "       'Bhopal', 'Vijayanagaram', 'Vijayanagaram', 'Vijayanagaram',\n",
              "       'Vijayanagaram', 'Bhopal', 'Vijayanagaram', 'Vijayanagaram',\n",
              "       'Vijayanagaram', 'Bhopal', 'Bhopal', 'Bhopal', 'Bhopal', 'Bhopal',\n",
              "       'Vijayanagaram', 'Bhopal', 'Bhopal', 'Vijayanagaram', 'Bhopal',\n",
              "       'Bhopal', 'Bhopal', 'Vijayanagaram', 'Vijayanagaram',\n",
              "       'Vijayanagaram', 'Vijayanagaram', 'Vijayanagaram', 'Bhopal',\n",
              "       'Vijayanagaram', 'Bhopal', 'Bhopal', 'Bhopal', 'Vijayanagaram',\n",
              "       'Bhopal', 'Vijayanagaram', 'Bhopal', 'Vijayanagaram', 'Bhopal',\n",
              "       'Bhopal', 'Vijayanagaram', 'Bhopal', 'Vijayanagaram',\n",
              "       'Vijayanagaram', 'Vijayanagaram', 'Vijayanagaram', 'Bhopal',\n",
              "       'Bhopal', 'Bhopal', 'Bhopal', 'Vijayanagaram', 'Vijayanagaram',\n",
              "       'Bhopal', 'Vijayanagaram', 'Bhopal', 'Bhopal', 'Bhopal',\n",
              "       'Vijayanagaram', 'Bhopal', 'Bhopal', 'Bhopal', 'Bhopal',\n",
              "       'Vijayanagaram', 'Vijayanagaram', 'Vijayanagaram', 'Bhopal',\n",
              "       'Vijayanagaram', 'Bhopal', 'Bhopal', 'Vijayanagaram', 'Bhopal',\n",
              "       'Bhopal', 'Vijayanagaram', 'Vijayanagaram', 'Vijayanagaram',\n",
              "       'Bhopal', 'Vijayanagaram', 'Vijayanagaram', 'Bhopal',\n",
              "       'Vijayanagaram', 'Vijayanagaram', 'Vijayanagaram', 'Vijayanagaram',\n",
              "       'Vijayanagaram', 'Bhopal', 'Bhopal', 'Vijayanagaram', 'Bhopal',\n",
              "       'Vijayanagaram', 'Vijayanagaram', 'Vijayanagaram', 'Vijayanagaram',\n",
              "       'Bhopal', 'Vijayanagaram', 'Vijayanagaram', 'Vijayanagaram',\n",
              "       'Bhopal', 'Bhopal', 'Bhopal', 'Bhopal', 'Bhopal', 'Vijayanagaram',\n",
              "       'Vijayanagaram', 'Bhopal', 'Bhopal', 'Bhopal', 'Bhopal',\n",
              "       'Vijayanagaram', 'Bhopal', 'Vijayanagaram', 'Bhopal', 'Bhopal',\n",
              "       'Bhopal', 'Vijayanagaram', 'Bhopal', 'Bhopal', 'Bhopal', 'Bhopal',\n",
              "       'Bhopal', 'Vijayanagaram', 'Bhopal', 'Vijayanagaram',\n",
              "       'Vijayanagaram', 'Bhopal', 'Bhopal', 'Bhopal', 'Vijayanagaram',\n",
              "       'Bhopal', 'Vijayanagaram', 'Vijayanagaram', 'Bhopal',\n",
              "       'Vijayanagaram', 'Bhopal', 'Vijayanagaram', 'Vijayanagaram',\n",
              "       'Bhopal', 'Vijayanagaram', 'Vijayanagaram', 'Vijayanagaram',\n",
              "       'Vijayanagaram', 'Bhopal', 'Vijayanagaram', 'Bhopal',\n",
              "       'Vijayanagaram', 'Bhopal', 'Vijayanagaram', 'Bhopal', 'Bhopal',\n",
              "       'Vijayanagaram', 'Bhopal', 'Vijayanagaram', 'Vijayanagaram',\n",
              "       'Vijayanagaram', 'Vijayanagaram', 'Bhopal', 'Bhopal', 'Bhopal',\n",
              "       'Vijayanagaram', 'Vijayanagaram', 'Vijayanagaram', 'Vijayanagaram',\n",
              "       'Bhopal', 'Vijayanagaram', 'Vijayanagaram', 'Vijayanagaram',\n",
              "       'Vijayanagaram', 'Vijayanagaram', 'Vijayanagaram', 'Bhopal',\n",
              "       'Vijayanagaram', 'Vijayanagaram', 'Vijayanagaram', 'Vijayanagaram',\n",
              "       'Vijayanagaram', 'Bhopal', 'Bhopal', 'Bhopal', 'Vijayanagaram',\n",
              "       'Vijayanagaram', 'Bhopal', 'Vijayanagaram', 'Bhopal',\n",
              "       'Vijayanagaram', 'Bhopal', 'Vijayanagaram', 'Vijayanagaram',\n",
              "       'Bhopal', 'Vijayanagaram', 'Vijayanagaram', 'Vijayanagaram',\n",
              "       'Vijayanagaram', 'Bhopal', 'Vijayanagaram', 'Vijayanagaram',\n",
              "       'Vijayanagaram', 'Bhopal', 'Vijayanagaram', 'Bhopal',\n",
              "       'Vijayanagaram', 'Vijayanagaram', 'Bhopal', 'Bhopal',\n",
              "       'Vijayanagaram', 'Bhopal', 'Vijayanagaram', 'Bhopal', 'Bhopal',\n",
              "       'Bhopal', 'Vijayanagaram', 'Vijayanagaram', 'Bhopal',\n",
              "       'Vijayanagaram', 'Vijayanagaram', 'Vijayanagaram', 'Vijayanagaram',\n",
              "       'Vijayanagaram', 'Vijayanagaram', 'Vijayanagaram', 'Bhopal',\n",
              "       'Vijayanagaram', 'Vijayanagaram', 'Bhopal', 'Vijayanagaram',\n",
              "       'Bhopal', 'Bhopal', 'Bhopal', 'Bhopal', 'Bhopal', 'Bhopal',\n",
              "       'Bhopal', 'Vijayanagaram', 'Bhopal', 'Vijayanagaram', 'Bhopal',\n",
              "       'Bhopal', 'Bhopal', 'Vijayanagaram', 'Bhopal', 'Vijayanagaram',\n",
              "       'Bhopal', 'Vijayanagaram', 'Vijayanagaram', 'Bhopal',\n",
              "       'Vijayanagaram', 'Vijayanagaram', 'Bhopal', 'Vijayanagaram',\n",
              "       'Vijayanagaram', 'Bhopal', 'Vijayanagaram', 'Bhopal',\n",
              "       'Vijayanagaram', 'Vijayanagaram', 'Bhopal', 'Vijayanagaram',\n",
              "       'Vijayanagaram', 'Vijayanagaram', 'Bhopal', 'Vijayanagaram',\n",
              "       'Vijayanagaram', 'Vijayanagaram', 'Bhopal', 'Bhopal',\n",
              "       'Vijayanagaram', 'Vijayanagaram', 'Bhopal', 'Bhopal', 'Bhopal',\n",
              "       'Bhopal', 'Vijayanagaram', 'Vijayanagaram', 'Bhopal',\n",
              "       'Vijayanagaram', 'Bhopal', 'Bhopal', 'Bhopal', 'Vijayanagaram',\n",
              "       'Bhopal', 'Bhopal', 'Vijayanagaram', 'Vijayanagaram',\n",
              "       'Vijayanagaram', 'Vijayanagaram', 'Bhopal', 'Bhopal', 'Bhopal',\n",
              "       'Vijayanagaram', 'Vijayanagaram', 'Bhopal', 'Bhopal', 'Bhopal',\n",
              "       'Vijayanagaram', 'Vijayanagaram', 'Bhopal', 'Vijayanagaram',\n",
              "       'Vijayanagaram', 'Bhopal', 'Vijayanagaram', 'Bhopal',\n",
              "       'Vijayanagaram', 'Vijayanagaram', 'Bhopal', 'Bhopal', 'Bhopal',\n",
              "       'Bhopal', 'Vijayanagaram', 'Bhopal', 'Bhopal', 'Vijayanagaram',\n",
              "       'Bhopal', 'Vijayanagaram', 'Bhopal', 'Vijayanagaram', 'Bhopal',\n",
              "       'Vijayanagaram', 'Vijayanagaram', 'Vijayanagaram', 'Vijayanagaram',\n",
              "       'Vijayanagaram', 'Bhopal', 'Bhopal', 'Vijayanagaram',\n",
              "       'Vijayanagaram', 'Bhopal', 'Vijayanagaram', 'Vijayanagaram',\n",
              "       'Vijayanagaram', 'Vijayanagaram', 'Bhopal', 'Bhopal', 'Bhopal',\n",
              "       'Bhopal', 'Vijayanagaram', 'Vijayanagaram', 'Bhopal',\n",
              "       'Vijayanagaram', 'Bhopal', 'Bhopal', 'Vijayanagaram', 'Bhopal',\n",
              "       'Bhopal', 'Bhopal', 'Vijayanagaram', 'Bhopal', 'Vijayanagaram',\n",
              "       'Vijayanagaram', 'Vijayanagaram', 'Bhopal', 'Vijayanagaram',\n",
              "       'Vijayanagaram', 'Bhopal', 'Bhopal', 'Bhopal', 'Bhopal', 'Bhopal',\n",
              "       'Bhopal', 'Vijayanagaram', 'Vijayanagaram', 'Vijayanagaram',\n",
              "       'Bhopal', 'Vijayanagaram', 'Vijayanagaram', 'Bhopal',\n",
              "       'Vijayanagaram', 'Bhopal', 'Bhopal', 'Vijayanagaram', 'Bhopal',\n",
              "       'Vijayanagaram', 'Bhopal', 'Bhopal', 'Vijayanagaram', 'Bhopal',\n",
              "       'Vijayanagaram', 'Vijayanagaram', 'Vijayanagaram', 'Vijayanagaram',\n",
              "       'Vijayanagaram', 'Bhopal', 'Vijayanagaram', 'Bhopal',\n",
              "       'Vijayanagaram', 'Vijayanagaram', 'Vijayanagaram', 'Bhopal',\n",
              "       'Vijayanagaram', 'Vijayanagaram', 'Bhopal', 'Vijayanagaram',\n",
              "       'Vijayanagaram', 'Vijayanagaram', 'Vijayanagaram', 'Vijayanagaram',\n",
              "       'Bhopal', 'Bhopal', 'Bhopal', 'Bhopal', 'Bhopal', 'Bhopal',\n",
              "       'Vijayanagaram', 'Vijayanagaram', 'Vijayanagaram', 'Bhopal',\n",
              "       'Bhopal', 'Vijayanagaram', 'Bhopal', 'Vijayanagaram',\n",
              "       'Vijayanagaram', 'Vijayanagaram', 'Bhopal', 'Bhopal', 'Bhopal',\n",
              "       'Vijayanagaram', 'Vijayanagaram', 'Vijayanagaram', 'Bhopal',\n",
              "       'Vijayanagaram', 'Bhopal', 'Bhopal', 'Vijayanagaram',\n",
              "       'Vijayanagaram', 'Vijayanagaram', 'Vijayanagaram', 'Bhopal',\n",
              "       'Vijayanagaram', 'Vijayanagaram', 'Bhopal', 'Vijayanagaram',\n",
              "       'Vijayanagaram', 'Vijayanagaram', 'Bhopal', 'Bhopal', 'Bhopal',\n",
              "       'Bhopal', 'Vijayanagaram', 'Bhopal', 'Bhopal', 'Vijayanagaram',\n",
              "       'Vijayanagaram', 'Bhopal', 'Vijayanagaram', 'Vijayanagaram',\n",
              "       'Vijayanagaram', 'Vijayanagaram', 'Bhopal', 'Bhopal',\n",
              "       'Vijayanagaram', 'Vijayanagaram', 'Bhopal', 'Bhopal',\n",
              "       'Vijayanagaram', 'Bhopal', 'Bhopal', 'Vijayanagaram', 'Bhopal',\n",
              "       'Vijayanagaram', 'Vijayanagaram', 'Vijayanagaram', 'Bhopal',\n",
              "       'Vijayanagaram', 'Vijayanagaram', 'Bhopal', 'Bhopal', 'Bhopal',\n",
              "       'Vijayanagaram', 'Bhopal', 'Vijayanagaram', 'Bhopal', 'Bhopal',\n",
              "       'Bhopal', 'Bhopal', 'Bhopal', 'Vijayanagaram', 'Vijayanagaram',\n",
              "       'Bhopal', 'Bhopal', 'Bhopal', 'Vijayanagaram', 'Vijayanagaram',\n",
              "       'Bhopal', 'Vijayanagaram', 'Vijayanagaram', 'Bhopal',\n",
              "       'Vijayanagaram', 'Vijayanagaram', 'Vijayanagaram', 'Vijayanagaram',\n",
              "       'Vijayanagaram', 'Vijayanagaram', 'Vijayanagaram', 'Vijayanagaram',\n",
              "       'Bhopal', 'Bhopal', 'Bhopal', 'Bhopal', 'Vijayanagaram', 'Bhopal',\n",
              "       'Bhopal', 'Vijayanagaram', 'Bhopal', 'Vijayanagaram', 'Bhopal',\n",
              "       'Vijayanagaram', 'Vijayanagaram', 'Bhopal', 'Vijayanagaram',\n",
              "       'Bhopal', 'Vijayanagaram', 'Bhopal', 'Vijayanagaram',\n",
              "       'Vijayanagaram', 'Vijayanagaram', 'Bhopal', 'Vijayanagaram',\n",
              "       'Bhopal', 'Bhopal', 'Vijayanagaram', 'Vijayanagaram',\n",
              "       'Vijayanagaram', 'Bhopal', 'Vijayanagaram', 'Bhopal', 'Bhopal',\n",
              "       'Vijayanagaram', 'Vijayanagaram', 'Bhopal', 'Vijayanagaram',\n",
              "       'Vijayanagaram', 'Bhopal', 'Bhopal', 'Vijayanagaram', 'Bhopal',\n",
              "       'Bhopal', 'Vijayanagaram', 'Bhopal', 'Vijayanagaram',\n",
              "       'Vijayanagaram', 'Bhopal', 'Bhopal', 'Vijayanagaram',\n",
              "       'Vijayanagaram', 'Vijayanagaram', 'Bhopal', 'Vijayanagaram',\n",
              "       'Vijayanagaram', 'Vijayanagaram', 'Bhopal', 'Vijayanagaram',\n",
              "       'Vijayanagaram', 'Bhopal', 'Bhopal', 'Vijayanagaram', 'Bhopal',\n",
              "       'Bhopal', 'Bhopal', 'Vijayanagaram', 'Bhopal', 'Bhopal',\n",
              "       'Vijayanagaram', 'Bhopal', 'Vijayanagaram', 'Bhopal', 'Bhopal',\n",
              "       'Bhopal', 'Vijayanagaram', 'Vijayanagaram', 'Bhopal',\n",
              "       'Vijayanagaram', 'Vijayanagaram', 'Bhopal', 'Vijayanagaram',\n",
              "       'Vijayanagaram', 'Vijayanagaram', 'Vijayanagaram', 'Bhopal',\n",
              "       'Bhopal', 'Vijayanagaram', 'Bhopal', 'Vijayanagaram', 'Bhopal',\n",
              "       'Vijayanagaram', 'Vijayanagaram', 'Vijayanagaram', 'Bhopal',\n",
              "       'Vijayanagaram', 'Vijayanagaram', 'Vijayanagaram', 'Vijayanagaram',\n",
              "       'Vijayanagaram', 'Vijayanagaram', 'Vijayanagaram', 'Bhopal',\n",
              "       'Vijayanagaram', 'Vijayanagaram', 'Vijayanagaram', 'Vijayanagaram',\n",
              "       'Vijayanagaram', 'Vijayanagaram', 'Vijayanagaram', 'Vijayanagaram',\n",
              "       'Vijayanagaram', 'Bhopal', 'Bhopal', 'Bhopal', 'Vijayanagaram',\n",
              "       'Bhopal', 'Vijayanagaram', 'Bhopal', 'Bhopal', 'Vijayanagaram',\n",
              "       'Vijayanagaram', 'Vijayanagaram', 'Bhopal', 'Bhopal', 'Bhopal',\n",
              "       'Bhopal', 'Vijayanagaram', 'Bhopal', 'Vijayanagaram', 'Bhopal',\n",
              "       'Vijayanagaram', 'Vijayanagaram', 'Vijayanagaram', 'Vijayanagaram',\n",
              "       'Vijayanagaram', 'Vijayanagaram', 'Vijayanagaram', 'Vijayanagaram',\n",
              "       'Bhopal', 'Bhopal', 'Bhopal', 'Vijayanagaram', 'Bhopal', 'Bhopal',\n",
              "       'Bhopal', 'Vijayanagaram', 'Vijayanagaram', 'Bhopal', 'Bhopal',\n",
              "       'Bhopal', 'Vijayanagaram', 'Vijayanagaram', 'Vijayanagaram',\n",
              "       'Vijayanagaram', 'Bhopal', 'Vijayanagaram', 'Bhopal', 'Bhopal',\n",
              "       'Bhopal', 'Vijayanagaram', 'Bhopal', 'Bhopal', 'Vijayanagaram',\n",
              "       'Vijayanagaram', 'Vijayanagaram', 'Vijayanagaram', 'Vijayanagaram',\n",
              "       'Vijayanagaram', 'Bhopal', 'Bhopal', 'Vijayanagaram', 'Bhopal',\n",
              "       'Vijayanagaram', 'Vijayanagaram', 'Bhopal', 'Vijayanagaram',\n",
              "       'Bhopal', 'Bhopal', 'Vijayanagaram', 'Vijayanagaram',\n",
              "       'Vijayanagaram', 'Vijayanagaram', 'Vijayanagaram', 'Bhopal',\n",
              "       'Bhopal', 'Bhopal', 'Vijayanagaram', 'Vijayanagaram',\n",
              "       'Vijayanagaram', 'Vijayanagaram', 'Bhopal', 'Vijayanagaram',\n",
              "       'Bhopal', 'Vijayanagaram', 'Vijayanagaram', 'Vijayanagaram',\n",
              "       'Bhopal', 'Vijayanagaram', 'Vijayanagaram', 'Vijayanagaram',\n",
              "       'Vijayanagaram', 'Bhopal', 'Bhopal', 'Vijayanagaram', 'Bhopal',\n",
              "       'Vijayanagaram', 'Vijayanagaram', 'Bhopal', 'Vijayanagaram',\n",
              "       'Vijayanagaram', 'Vijayanagaram', 'Vijayanagaram', 'Vijayanagaram',\n",
              "       'Vijayanagaram', 'Bhopal', 'Vijayanagaram', 'Bhopal', 'Bhopal',\n",
              "       'Vijayanagaram', 'Bhopal', 'Bhopal', 'Vijayanagaram', 'Bhopal',\n",
              "       'Bhopal', 'Vijayanagaram', 'Vijayanagaram', 'Bhopal',\n",
              "       'Vijayanagaram', 'Bhopal', 'Bhopal', 'Bhopal', 'Bhopal',\n",
              "       'Vijayanagaram', 'Vijayanagaram', 'Bhopal', 'Bhopal',\n",
              "       'Vijayanagaram', 'Vijayanagaram', 'Vijayanagaram', 'Vijayanagaram',\n",
              "       'Bhopal', 'Vijayanagaram', 'Vijayanagaram', 'Bhopal',\n",
              "       'Vijayanagaram', 'Bhopal', 'Vijayanagaram', 'Vijayanagaram'],\n",
              "      dtype=object)"
            ]
          },
          "metadata": {},
          "execution_count": 57
        }
      ]
    },
    {
      "cell_type": "code",
      "source": [
        "#Verifico la matriz de confusión\n",
        "from sklearn.metrics import confusion_matrix\n",
        "matriz = confusion_matrix(y_test, y_pred)\n",
        "print('Matriz de confusión')\n",
        "print(matriz)"
      ],
      "metadata": {
        "colab": {
          "base_uri": "https://localhost:8080/"
        },
        "id": "RIdtGIkbWMcC",
        "outputId": "b453ba57-5db9-4d37-fefe-7a1c8df78821"
      },
      "execution_count": null,
      "outputs": [
        {
          "output_type": "stream",
          "name": "stdout",
          "text": [
            "Matriz de confusión\n",
            "[[205 141]\n",
            " [132 263]]\n"
          ]
        }
      ]
    },
    {
      "cell_type": "code",
      "source": [
        "#Calculo la precisión modelo\n",
        "from sklearn.metrics import precision_score\n",
        "\n",
        "precision = precision_score(y_test, y_pred, average = 'binary', pos_label = 'Bhopal')\n",
        "print('Modelo de precisión')\n",
        "print(precision)"
      ],
      "metadata": {
        "colab": {
          "base_uri": "https://localhost:8080/"
        },
        "id": "f0Veg3nGWglY",
        "outputId": "1a0b7768-abc7-4cef-a0c8-ce70ba4dc4ab"
      },
      "execution_count": null,
      "outputs": [
        {
          "output_type": "stream",
          "name": "stdout",
          "text": [
            "Modelo de precisión\n",
            "0.6083086053412463\n"
          ]
        }
      ]
    },
    {
      "cell_type": "code",
      "source": [
        "#Calculo la exactitud del modelo\n",
        "from sklearn.metrics import accuracy_score\n",
        "\n",
        "exactitud = accuracy_score(y_test, y_pred)\n",
        "print('Exactitud del modelo:')\n",
        "print(exactitud)"
      ],
      "metadata": {
        "colab": {
          "base_uri": "https://localhost:8080/"
        },
        "id": "fyi6YMLKW_79",
        "outputId": "6271586a-26bc-48d4-b139-bf58246ff8d7"
      },
      "execution_count": null,
      "outputs": [
        {
          "output_type": "stream",
          "name": "stdout",
          "text": [
            "Exactitud del modelo:\n",
            "0.631578947368421\n"
          ]
        }
      ]
    },
    {
      "cell_type": "code",
      "source": [
        "#Calculo la sensibilidad del modelo\n",
        "from sklearn.metrics import recall_score\n",
        "\n",
        "sensibilidad = recall_score(y_test, y_pred, average=\"binary\", pos_label=\"Bhopal\")\n",
        "print('Sensibilidad del modelo:')\n",
        "print(sensibilidad)"
      ],
      "metadata": {
        "colab": {
          "base_uri": "https://localhost:8080/"
        },
        "id": "YSZ1RY0zXTj_",
        "outputId": "1c52cd83-0aac-43aa-811e-e9df191e8929"
      },
      "execution_count": null,
      "outputs": [
        {
          "output_type": "stream",
          "name": "stdout",
          "text": [
            "Sensibilidad del modelo:\n",
            "0.5924855491329479\n"
          ]
        }
      ]
    },
    {
      "cell_type": "code",
      "source": [
        "# el puntaje F1 que es una combinación entre la precisión y la sensibilidad, para esto importamos f1_score.\n",
        "#Calculo el Puntaje F1 del modelo\n",
        "from sklearn.metrics import f1_score\n",
        "puntajef1 = f1_score(y_test, y_pred, average=\"binary\", pos_label= \"Bhopal\")\n",
        "print('Puntaje F1 del modelo:')\n",
        "print(puntajef1)"
      ],
      "metadata": {
        "colab": {
          "base_uri": "https://localhost:8080/"
        },
        "id": "VZ9uOCv0dtT4",
        "outputId": "7feabf84-d796-45d4-d180-98ef65073b33"
      },
      "execution_count": null,
      "outputs": [
        {
          "output_type": "stream",
          "name": "stdout",
          "text": [
            "Puntaje F1 del modelo:\n",
            "0.6002928257686676\n"
          ]
        }
      ]
    },
    {
      "cell_type": "markdown",
      "source": [
        "###**Variable 5**"
      ],
      "metadata": {
        "id": "EyunwEs0P1Kn"
      }
    },
    {
      "cell_type": "code",
      "source": [
        "#Se filtra la primera variable\n",
        "var5 = df[(df['STATE'] == 'Andhra_Pradesh') | (df['STATE'] == 'West_Bengal')]\n",
        "var5.head()"
      ],
      "metadata": {
        "colab": {
          "base_uri": "https://localhost:8080/",
          "height": 257
        },
        "id": "_uv6cViTQJZw",
        "outputId": "ca681104-29b3-4393-eee0-9a39642bae2a"
      },
      "execution_count": null,
      "outputs": [
        {
          "output_type": "execute_result",
          "data": {
            "text/plain": [
              "     Income  Age  Experience Married/Single House_Ownership Car_Ownership  \\\n",
              "Id                                                                          \n",
              "12  6623263   22           4         single          rented            no   \n",
              "16  5694236   39           2        married          rented           yes   \n",
              "17  7315840   71           8        married          rented            no   \n",
              "20  5431918   40           1         single          rented            no   \n",
              "24  9236505   36          19         single          rented            no   \n",
              "\n",
              "                Profession             CITY           STATE  CURRENT_JOB_YRS  \\\n",
              "Id                                                                             \n",
              "12                Designer            Adoni  Andhra_Pradesh                4   \n",
              "16               Economist  Anantapuram[24]  Andhra_Pradesh                2   \n",
              "17  Air_traffic_controller        Kamarhati     West_Bengal                8   \n",
              "20                  Artist        Amaravati  Andhra_Pradesh                1   \n",
              "24       Chemical_engineer           Ongole  Andhra_Pradesh                6   \n",
              "\n",
              "    CURRENT_HOUSE_YRS  Risk_Flag  \n",
              "Id                                \n",
              "12                 14          0  \n",
              "16                 10          0  \n",
              "17                 14          0  \n",
              "20                 14          0  \n",
              "24                 14          0  "
            ],
            "text/html": [
              "\n",
              "  <div id=\"df-2d2495d9-7193-4b1a-8616-229fb6d71880\" class=\"colab-df-container\">\n",
              "    <div>\n",
              "<style scoped>\n",
              "    .dataframe tbody tr th:only-of-type {\n",
              "        vertical-align: middle;\n",
              "    }\n",
              "\n",
              "    .dataframe tbody tr th {\n",
              "        vertical-align: top;\n",
              "    }\n",
              "\n",
              "    .dataframe thead th {\n",
              "        text-align: right;\n",
              "    }\n",
              "</style>\n",
              "<table border=\"1\" class=\"dataframe\">\n",
              "  <thead>\n",
              "    <tr style=\"text-align: right;\">\n",
              "      <th></th>\n",
              "      <th>Income</th>\n",
              "      <th>Age</th>\n",
              "      <th>Experience</th>\n",
              "      <th>Married/Single</th>\n",
              "      <th>House_Ownership</th>\n",
              "      <th>Car_Ownership</th>\n",
              "      <th>Profession</th>\n",
              "      <th>CITY</th>\n",
              "      <th>STATE</th>\n",
              "      <th>CURRENT_JOB_YRS</th>\n",
              "      <th>CURRENT_HOUSE_YRS</th>\n",
              "      <th>Risk_Flag</th>\n",
              "    </tr>\n",
              "    <tr>\n",
              "      <th>Id</th>\n",
              "      <th></th>\n",
              "      <th></th>\n",
              "      <th></th>\n",
              "      <th></th>\n",
              "      <th></th>\n",
              "      <th></th>\n",
              "      <th></th>\n",
              "      <th></th>\n",
              "      <th></th>\n",
              "      <th></th>\n",
              "      <th></th>\n",
              "      <th></th>\n",
              "    </tr>\n",
              "  </thead>\n",
              "  <tbody>\n",
              "    <tr>\n",
              "      <th>12</th>\n",
              "      <td>6623263</td>\n",
              "      <td>22</td>\n",
              "      <td>4</td>\n",
              "      <td>single</td>\n",
              "      <td>rented</td>\n",
              "      <td>no</td>\n",
              "      <td>Designer</td>\n",
              "      <td>Adoni</td>\n",
              "      <td>Andhra_Pradesh</td>\n",
              "      <td>4</td>\n",
              "      <td>14</td>\n",
              "      <td>0</td>\n",
              "    </tr>\n",
              "    <tr>\n",
              "      <th>16</th>\n",
              "      <td>5694236</td>\n",
              "      <td>39</td>\n",
              "      <td>2</td>\n",
              "      <td>married</td>\n",
              "      <td>rented</td>\n",
              "      <td>yes</td>\n",
              "      <td>Economist</td>\n",
              "      <td>Anantapuram[24]</td>\n",
              "      <td>Andhra_Pradesh</td>\n",
              "      <td>2</td>\n",
              "      <td>10</td>\n",
              "      <td>0</td>\n",
              "    </tr>\n",
              "    <tr>\n",
              "      <th>17</th>\n",
              "      <td>7315840</td>\n",
              "      <td>71</td>\n",
              "      <td>8</td>\n",
              "      <td>married</td>\n",
              "      <td>rented</td>\n",
              "      <td>no</td>\n",
              "      <td>Air_traffic_controller</td>\n",
              "      <td>Kamarhati</td>\n",
              "      <td>West_Bengal</td>\n",
              "      <td>8</td>\n",
              "      <td>14</td>\n",
              "      <td>0</td>\n",
              "    </tr>\n",
              "    <tr>\n",
              "      <th>20</th>\n",
              "      <td>5431918</td>\n",
              "      <td>40</td>\n",
              "      <td>1</td>\n",
              "      <td>single</td>\n",
              "      <td>rented</td>\n",
              "      <td>no</td>\n",
              "      <td>Artist</td>\n",
              "      <td>Amaravati</td>\n",
              "      <td>Andhra_Pradesh</td>\n",
              "      <td>1</td>\n",
              "      <td>14</td>\n",
              "      <td>0</td>\n",
              "    </tr>\n",
              "    <tr>\n",
              "      <th>24</th>\n",
              "      <td>9236505</td>\n",
              "      <td>36</td>\n",
              "      <td>19</td>\n",
              "      <td>single</td>\n",
              "      <td>rented</td>\n",
              "      <td>no</td>\n",
              "      <td>Chemical_engineer</td>\n",
              "      <td>Ongole</td>\n",
              "      <td>Andhra_Pradesh</td>\n",
              "      <td>6</td>\n",
              "      <td>14</td>\n",
              "      <td>0</td>\n",
              "    </tr>\n",
              "  </tbody>\n",
              "</table>\n",
              "</div>\n",
              "    <div class=\"colab-df-buttons\">\n",
              "\n",
              "  <div class=\"colab-df-container\">\n",
              "    <button class=\"colab-df-convert\" onclick=\"convertToInteractive('df-2d2495d9-7193-4b1a-8616-229fb6d71880')\"\n",
              "            title=\"Convert this dataframe to an interactive table.\"\n",
              "            style=\"display:none;\">\n",
              "\n",
              "  <svg xmlns=\"http://www.w3.org/2000/svg\" height=\"24px\" viewBox=\"0 -960 960 960\">\n",
              "    <path d=\"M120-120v-720h720v720H120Zm60-500h600v-160H180v160Zm220 220h160v-160H400v160Zm0 220h160v-160H400v160ZM180-400h160v-160H180v160Zm440 0h160v-160H620v160ZM180-180h160v-160H180v160Zm440 0h160v-160H620v160Z\"/>\n",
              "  </svg>\n",
              "    </button>\n",
              "\n",
              "  <style>\n",
              "    .colab-df-container {\n",
              "      display:flex;\n",
              "      gap: 12px;\n",
              "    }\n",
              "\n",
              "    .colab-df-convert {\n",
              "      background-color: #E8F0FE;\n",
              "      border: none;\n",
              "      border-radius: 50%;\n",
              "      cursor: pointer;\n",
              "      display: none;\n",
              "      fill: #1967D2;\n",
              "      height: 32px;\n",
              "      padding: 0 0 0 0;\n",
              "      width: 32px;\n",
              "    }\n",
              "\n",
              "    .colab-df-convert:hover {\n",
              "      background-color: #E2EBFA;\n",
              "      box-shadow: 0px 1px 2px rgba(60, 64, 67, 0.3), 0px 1px 3px 1px rgba(60, 64, 67, 0.15);\n",
              "      fill: #174EA6;\n",
              "    }\n",
              "\n",
              "    .colab-df-buttons div {\n",
              "      margin-bottom: 4px;\n",
              "    }\n",
              "\n",
              "    [theme=dark] .colab-df-convert {\n",
              "      background-color: #3B4455;\n",
              "      fill: #D2E3FC;\n",
              "    }\n",
              "\n",
              "    [theme=dark] .colab-df-convert:hover {\n",
              "      background-color: #434B5C;\n",
              "      box-shadow: 0px 1px 3px 1px rgba(0, 0, 0, 0.15);\n",
              "      filter: drop-shadow(0px 1px 2px rgba(0, 0, 0, 0.3));\n",
              "      fill: #FFFFFF;\n",
              "    }\n",
              "  </style>\n",
              "\n",
              "    <script>\n",
              "      const buttonEl =\n",
              "        document.querySelector('#df-2d2495d9-7193-4b1a-8616-229fb6d71880 button.colab-df-convert');\n",
              "      buttonEl.style.display =\n",
              "        google.colab.kernel.accessAllowed ? 'block' : 'none';\n",
              "\n",
              "      async function convertToInteractive(key) {\n",
              "        const element = document.querySelector('#df-2d2495d9-7193-4b1a-8616-229fb6d71880');\n",
              "        const dataTable =\n",
              "          await google.colab.kernel.invokeFunction('convertToInteractive',\n",
              "                                                    [key], {});\n",
              "        if (!dataTable) return;\n",
              "\n",
              "        const docLinkHtml = 'Like what you see? Visit the ' +\n",
              "          '<a target=\"_blank\" href=https://colab.research.google.com/notebooks/data_table.ipynb>data table notebook</a>'\n",
              "          + ' to learn more about interactive tables.';\n",
              "        element.innerHTML = '';\n",
              "        dataTable['output_type'] = 'display_data';\n",
              "        await google.colab.output.renderOutput(dataTable, element);\n",
              "        const docLink = document.createElement('div');\n",
              "        docLink.innerHTML = docLinkHtml;\n",
              "        element.appendChild(docLink);\n",
              "      }\n",
              "    </script>\n",
              "  </div>\n",
              "\n",
              "\n",
              "<div id=\"df-fd933e2c-8915-454b-ad70-dea5baa74eab\">\n",
              "  <button class=\"colab-df-quickchart\" onclick=\"quickchart('df-fd933e2c-8915-454b-ad70-dea5baa74eab')\"\n",
              "            title=\"Suggest charts.\"\n",
              "            style=\"display:none;\">\n",
              "\n",
              "<svg xmlns=\"http://www.w3.org/2000/svg\" height=\"24px\"viewBox=\"0 0 24 24\"\n",
              "     width=\"24px\">\n",
              "    <g>\n",
              "        <path d=\"M19 3H5c-1.1 0-2 .9-2 2v14c0 1.1.9 2 2 2h14c1.1 0 2-.9 2-2V5c0-1.1-.9-2-2-2zM9 17H7v-7h2v7zm4 0h-2V7h2v10zm4 0h-2v-4h2v4z\"/>\n",
              "    </g>\n",
              "</svg>\n",
              "  </button>\n",
              "\n",
              "<style>\n",
              "  .colab-df-quickchart {\n",
              "      --bg-color: #E8F0FE;\n",
              "      --fill-color: #1967D2;\n",
              "      --hover-bg-color: #E2EBFA;\n",
              "      --hover-fill-color: #174EA6;\n",
              "      --disabled-fill-color: #AAA;\n",
              "      --disabled-bg-color: #DDD;\n",
              "  }\n",
              "\n",
              "  [theme=dark] .colab-df-quickchart {\n",
              "      --bg-color: #3B4455;\n",
              "      --fill-color: #D2E3FC;\n",
              "      --hover-bg-color: #434B5C;\n",
              "      --hover-fill-color: #FFFFFF;\n",
              "      --disabled-bg-color: #3B4455;\n",
              "      --disabled-fill-color: #666;\n",
              "  }\n",
              "\n",
              "  .colab-df-quickchart {\n",
              "    background-color: var(--bg-color);\n",
              "    border: none;\n",
              "    border-radius: 50%;\n",
              "    cursor: pointer;\n",
              "    display: none;\n",
              "    fill: var(--fill-color);\n",
              "    height: 32px;\n",
              "    padding: 0;\n",
              "    width: 32px;\n",
              "  }\n",
              "\n",
              "  .colab-df-quickchart:hover {\n",
              "    background-color: var(--hover-bg-color);\n",
              "    box-shadow: 0 1px 2px rgba(60, 64, 67, 0.3), 0 1px 3px 1px rgba(60, 64, 67, 0.15);\n",
              "    fill: var(--button-hover-fill-color);\n",
              "  }\n",
              "\n",
              "  .colab-df-quickchart-complete:disabled,\n",
              "  .colab-df-quickchart-complete:disabled:hover {\n",
              "    background-color: var(--disabled-bg-color);\n",
              "    fill: var(--disabled-fill-color);\n",
              "    box-shadow: none;\n",
              "  }\n",
              "\n",
              "  .colab-df-spinner {\n",
              "    border: 2px solid var(--fill-color);\n",
              "    border-color: transparent;\n",
              "    border-bottom-color: var(--fill-color);\n",
              "    animation:\n",
              "      spin 1s steps(1) infinite;\n",
              "  }\n",
              "\n",
              "  @keyframes spin {\n",
              "    0% {\n",
              "      border-color: transparent;\n",
              "      border-bottom-color: var(--fill-color);\n",
              "      border-left-color: var(--fill-color);\n",
              "    }\n",
              "    20% {\n",
              "      border-color: transparent;\n",
              "      border-left-color: var(--fill-color);\n",
              "      border-top-color: var(--fill-color);\n",
              "    }\n",
              "    30% {\n",
              "      border-color: transparent;\n",
              "      border-left-color: var(--fill-color);\n",
              "      border-top-color: var(--fill-color);\n",
              "      border-right-color: var(--fill-color);\n",
              "    }\n",
              "    40% {\n",
              "      border-color: transparent;\n",
              "      border-right-color: var(--fill-color);\n",
              "      border-top-color: var(--fill-color);\n",
              "    }\n",
              "    60% {\n",
              "      border-color: transparent;\n",
              "      border-right-color: var(--fill-color);\n",
              "    }\n",
              "    80% {\n",
              "      border-color: transparent;\n",
              "      border-right-color: var(--fill-color);\n",
              "      border-bottom-color: var(--fill-color);\n",
              "    }\n",
              "    90% {\n",
              "      border-color: transparent;\n",
              "      border-bottom-color: var(--fill-color);\n",
              "    }\n",
              "  }\n",
              "</style>\n",
              "\n",
              "  <script>\n",
              "    async function quickchart(key) {\n",
              "      const quickchartButtonEl =\n",
              "        document.querySelector('#' + key + ' button');\n",
              "      quickchartButtonEl.disabled = true;  // To prevent multiple clicks.\n",
              "      quickchartButtonEl.classList.add('colab-df-spinner');\n",
              "      try {\n",
              "        const charts = await google.colab.kernel.invokeFunction(\n",
              "            'suggestCharts', [key], {});\n",
              "      } catch (error) {\n",
              "        console.error('Error during call to suggestCharts:', error);\n",
              "      }\n",
              "      quickchartButtonEl.classList.remove('colab-df-spinner');\n",
              "      quickchartButtonEl.classList.add('colab-df-quickchart-complete');\n",
              "    }\n",
              "    (() => {\n",
              "      let quickchartButtonEl =\n",
              "        document.querySelector('#df-fd933e2c-8915-454b-ad70-dea5baa74eab button');\n",
              "      quickchartButtonEl.style.display =\n",
              "        google.colab.kernel.accessAllowed ? 'block' : 'none';\n",
              "    })();\n",
              "  </script>\n",
              "</div>\n",
              "    </div>\n",
              "  </div>\n"
            ]
          },
          "metadata": {},
          "execution_count": 63
        }
      ]
    },
    {
      "cell_type": "code",
      "source": [
        "#Declaramos las variables dependientes e independientes para la regresión logística\n",
        "Vars_Indep = var5[['Income','Experience','CURRENT_JOB_YRS','CURRENT_HOUSE_YRS']]\n",
        "Var_Dep = var5['STATE']"
      ],
      "metadata": {
        "id": "dB9-Q-GXQ1lm"
      },
      "execution_count": null,
      "outputs": []
    },
    {
      "cell_type": "code",
      "source": [
        "#Redefinimos las variables\n",
        "x = Vars_Indep\n",
        "y = Var_Dep"
      ],
      "metadata": {
        "id": "FNFjOrXXRF6m"
      },
      "execution_count": null,
      "outputs": []
    },
    {
      "cell_type": "code",
      "source": [
        "#Dividimos el conjunto de datos en la parte de entrenamiento y prueba\n",
        "x_train, x_test, y_train, y_test = train_test_split(x, y, test_size = 0.3, random_state = None)"
      ],
      "metadata": {
        "id": "g8uDFj7PRoQP"
      },
      "execution_count": null,
      "outputs": []
    },
    {
      "cell_type": "code",
      "source": [
        "#Se escalan los datos\n",
        "escalar = StandardScaler()"
      ],
      "metadata": {
        "id": "B8oWyFEWT6Gj"
      },
      "execution_count": null,
      "outputs": []
    },
    {
      "cell_type": "code",
      "source": [
        "#Para realizar el escalamiento de las variables \"x\" tanto de entrenamiento como de prueba, util\n",
        "x_train = escalar.fit_transform(x_train)\n",
        "x_test = escalar.transform(x_test)"
      ],
      "metadata": {
        "id": "EeE7n-RGUmQg"
      },
      "execution_count": null,
      "outputs": []
    },
    {
      "cell_type": "code",
      "source": [
        "#Definimos el algoritmo a utilizar\n",
        "from sklearn.linear_model import LogisticRegression\n",
        "algoritmo = LogisticRegression()"
      ],
      "metadata": {
        "id": "v2a3ED3cU3Ih"
      },
      "execution_count": null,
      "outputs": []
    },
    {
      "cell_type": "code",
      "source": [
        "#Entrenamos el modelo\n",
        "algoritmo.fit(x_train, y_train)"
      ],
      "metadata": {
        "colab": {
          "base_uri": "https://localhost:8080/",
          "height": 74
        },
        "id": "srdKDVtxVa3B",
        "outputId": "3f9d0297-c5f8-4e2c-fae3-fb6dcc308633"
      },
      "execution_count": null,
      "outputs": [
        {
          "output_type": "execute_result",
          "data": {
            "text/plain": [
              "LogisticRegression()"
            ],
            "text/html": [
              "<style>#sk-container-id-5 {color: black;background-color: white;}#sk-container-id-5 pre{padding: 0;}#sk-container-id-5 div.sk-toggleable {background-color: white;}#sk-container-id-5 label.sk-toggleable__label {cursor: pointer;display: block;width: 100%;margin-bottom: 0;padding: 0.3em;box-sizing: border-box;text-align: center;}#sk-container-id-5 label.sk-toggleable__label-arrow:before {content: \"▸\";float: left;margin-right: 0.25em;color: #696969;}#sk-container-id-5 label.sk-toggleable__label-arrow:hover:before {color: black;}#sk-container-id-5 div.sk-estimator:hover label.sk-toggleable__label-arrow:before {color: black;}#sk-container-id-5 div.sk-toggleable__content {max-height: 0;max-width: 0;overflow: hidden;text-align: left;background-color: #f0f8ff;}#sk-container-id-5 div.sk-toggleable__content pre {margin: 0.2em;color: black;border-radius: 0.25em;background-color: #f0f8ff;}#sk-container-id-5 input.sk-toggleable__control:checked~div.sk-toggleable__content {max-height: 200px;max-width: 100%;overflow: auto;}#sk-container-id-5 input.sk-toggleable__control:checked~label.sk-toggleable__label-arrow:before {content: \"▾\";}#sk-container-id-5 div.sk-estimator input.sk-toggleable__control:checked~label.sk-toggleable__label {background-color: #d4ebff;}#sk-container-id-5 div.sk-label input.sk-toggleable__control:checked~label.sk-toggleable__label {background-color: #d4ebff;}#sk-container-id-5 input.sk-hidden--visually {border: 0;clip: rect(1px 1px 1px 1px);clip: rect(1px, 1px, 1px, 1px);height: 1px;margin: -1px;overflow: hidden;padding: 0;position: absolute;width: 1px;}#sk-container-id-5 div.sk-estimator {font-family: monospace;background-color: #f0f8ff;border: 1px dotted black;border-radius: 0.25em;box-sizing: border-box;margin-bottom: 0.5em;}#sk-container-id-5 div.sk-estimator:hover {background-color: #d4ebff;}#sk-container-id-5 div.sk-parallel-item::after {content: \"\";width: 100%;border-bottom: 1px solid gray;flex-grow: 1;}#sk-container-id-5 div.sk-label:hover label.sk-toggleable__label {background-color: #d4ebff;}#sk-container-id-5 div.sk-serial::before {content: \"\";position: absolute;border-left: 1px solid gray;box-sizing: border-box;top: 0;bottom: 0;left: 50%;z-index: 0;}#sk-container-id-5 div.sk-serial {display: flex;flex-direction: column;align-items: center;background-color: white;padding-right: 0.2em;padding-left: 0.2em;position: relative;}#sk-container-id-5 div.sk-item {position: relative;z-index: 1;}#sk-container-id-5 div.sk-parallel {display: flex;align-items: stretch;justify-content: center;background-color: white;position: relative;}#sk-container-id-5 div.sk-item::before, #sk-container-id-5 div.sk-parallel-item::before {content: \"\";position: absolute;border-left: 1px solid gray;box-sizing: border-box;top: 0;bottom: 0;left: 50%;z-index: -1;}#sk-container-id-5 div.sk-parallel-item {display: flex;flex-direction: column;z-index: 1;position: relative;background-color: white;}#sk-container-id-5 div.sk-parallel-item:first-child::after {align-self: flex-end;width: 50%;}#sk-container-id-5 div.sk-parallel-item:last-child::after {align-self: flex-start;width: 50%;}#sk-container-id-5 div.sk-parallel-item:only-child::after {width: 0;}#sk-container-id-5 div.sk-dashed-wrapped {border: 1px dashed gray;margin: 0 0.4em 0.5em 0.4em;box-sizing: border-box;padding-bottom: 0.4em;background-color: white;}#sk-container-id-5 div.sk-label label {font-family: monospace;font-weight: bold;display: inline-block;line-height: 1.2em;}#sk-container-id-5 div.sk-label-container {text-align: center;}#sk-container-id-5 div.sk-container {/* jupyter's `normalize.less` sets `[hidden] { display: none; }` but bootstrap.min.css set `[hidden] { display: none !important; }` so we also need the `!important` here to be able to override the default hidden behavior on the sphinx rendered scikit-learn.org. See: https://github.com/scikit-learn/scikit-learn/issues/21755 */display: inline-block !important;position: relative;}#sk-container-id-5 div.sk-text-repr-fallback {display: none;}</style><div id=\"sk-container-id-5\" class=\"sk-top-container\"><div class=\"sk-text-repr-fallback\"><pre>LogisticRegression()</pre><b>In a Jupyter environment, please rerun this cell to show the HTML representation or trust the notebook. <br />On GitHub, the HTML representation is unable to render, please try loading this page with nbviewer.org.</b></div><div class=\"sk-container\" hidden><div class=\"sk-item\"><div class=\"sk-estimator sk-toggleable\"><input class=\"sk-toggleable__control sk-hidden--visually\" id=\"sk-estimator-id-5\" type=\"checkbox\" checked><label for=\"sk-estimator-id-5\" class=\"sk-toggleable__label sk-toggleable__label-arrow\">LogisticRegression</label><div class=\"sk-toggleable__content\"><pre>LogisticRegression()</pre></div></div></div></div></div>"
            ]
          },
          "metadata": {},
          "execution_count": 70
        }
      ]
    },
    {
      "cell_type": "code",
      "source": [
        "#Realizamos una predicción\n",
        "y_pred = algoritmo.predict(x_test)\n",
        "y_pred"
      ],
      "metadata": {
        "colab": {
          "base_uri": "https://localhost:8080/"
        },
        "id": "1oPZl9u2V9cx",
        "outputId": "03efa314-d601-441f-a4c3-11d159084aa3"
      },
      "execution_count": null,
      "outputs": [
        {
          "output_type": "execute_result",
          "data": {
            "text/plain": [
              "array(['Andhra_Pradesh', 'West_Bengal', 'Andhra_Pradesh', ...,\n",
              "       'West_Bengal', 'Andhra_Pradesh', 'Andhra_Pradesh'], dtype=object)"
            ]
          },
          "metadata": {},
          "execution_count": 71
        }
      ]
    },
    {
      "cell_type": "code",
      "source": [
        "#Verifico la matriz de confusión\n",
        "from sklearn.metrics import confusion_matrix\n",
        "matriz = confusion_matrix(y_test, y_pred)\n",
        "print('Matriz de confusión')\n",
        "print(matriz)"
      ],
      "metadata": {
        "colab": {
          "base_uri": "https://localhost:8080/"
        },
        "id": "DqVprKmMWN9V",
        "outputId": "e1b84392-19b5-40dd-e208-030d87e89b02"
      },
      "execution_count": null,
      "outputs": [
        {
          "output_type": "stream",
          "name": "stdout",
          "text": [
            "Matriz de confusión\n",
            "[[7064  456]\n",
            " [6658  456]]\n"
          ]
        }
      ]
    },
    {
      "cell_type": "code",
      "source": [
        "#Calculo la precisión modelo\n",
        "from sklearn.metrics import precision_score\n",
        "\n",
        "precision = precision_score(y_test, y_pred, average = 'binary', pos_label = 'West_Bengal')\n",
        "print('Modelo de precisión')\n",
        "print(precision)"
      ],
      "metadata": {
        "colab": {
          "base_uri": "https://localhost:8080/"
        },
        "id": "clTOVC_OWiSe",
        "outputId": "c58333c8-3e52-4310-f3f1-a758352acde5"
      },
      "execution_count": null,
      "outputs": [
        {
          "output_type": "stream",
          "name": "stdout",
          "text": [
            "Modelo de precisión\n",
            "0.5\n"
          ]
        }
      ]
    },
    {
      "cell_type": "code",
      "source": [
        "#Calculo la exactitud del modelo\n",
        "from sklearn.metrics import accuracy_score\n",
        "\n",
        "exactitud = accuracy_score(y_test, y_pred)\n",
        "print('Exactitud del modelo:')\n",
        "print(exactitud)"
      ],
      "metadata": {
        "colab": {
          "base_uri": "https://localhost:8080/"
        },
        "id": "qm7CCTyVXBrX",
        "outputId": "c3881658-4dcc-4f5e-c717-b27346351f68"
      },
      "execution_count": null,
      "outputs": [
        {
          "output_type": "stream",
          "name": "stdout",
          "text": [
            "Exactitud del modelo:\n",
            "0.5138718053847205\n"
          ]
        }
      ]
    },
    {
      "cell_type": "code",
      "source": [
        "#Calculo la sensibilidad del modelo\n",
        "from sklearn.metrics import recall_score\n",
        "\n",
        "sensibilidad = recall_score(y_test, y_pred, average=\"binary\", pos_label=\"West_Bengal\")\n",
        "print('Sensibilidad del modelo:')\n",
        "print(sensibilidad)"
      ],
      "metadata": {
        "colab": {
          "base_uri": "https://localhost:8080/"
        },
        "id": "c-R3e1QfXVak",
        "outputId": "c8f1108e-fe22-4b2d-9bdd-48c7785d582c"
      },
      "execution_count": null,
      "outputs": [
        {
          "output_type": "stream",
          "name": "stdout",
          "text": [
            "Sensibilidad del modelo:\n",
            "0.06409895979758223\n"
          ]
        }
      ]
    },
    {
      "cell_type": "code",
      "source": [
        "# el puntaje F1 que es una combinación entre la precisión y la sensibilidad, para esto importamos f1_score.\n",
        "#Calculo el Puntaje F1 del modelo\n",
        "from sklearn.metrics import f1_score\n",
        "puntajef1 = f1_score(y_test, y_pred, average=\"binary\", pos_label= \"West_Bengal\")\n",
        "print('Puntaje F1 del modelo:')\n",
        "print(puntajef1)"
      ],
      "metadata": {
        "colab": {
          "base_uri": "https://localhost:8080/"
        },
        "id": "lGDLc9IzcdBC",
        "outputId": "a63022ab-f24a-42cd-e84b-d76ca3c4dc59"
      },
      "execution_count": null,
      "outputs": [
        {
          "output_type": "stream",
          "name": "stdout",
          "text": [
            "Puntaje F1 del modelo:\n",
            "0.1136307002242711\n"
          ]
        }
      ]
    },
    {
      "cell_type": "markdown",
      "source": [
        "###**Variable 6**"
      ],
      "metadata": {
        "id": "LgZRolbsP09e"
      }
    },
    {
      "cell_type": "code",
      "source": [
        "#Se filtra la primera variable\n",
        "var6 = df[(df['STATE'] == 'Uttar_Pradesh') | (df['STATE'] == 'Maharashtra')]\n",
        "var6.head()"
      ],
      "metadata": {
        "colab": {
          "base_uri": "https://localhost:8080/",
          "height": 257
        },
        "id": "BIdW2LhbQKdZ",
        "outputId": "e3baa40c-372c-4f67-8584-1bd14461c0d8"
      },
      "execution_count": null,
      "outputs": [
        {
          "output_type": "execute_result",
          "data": {
            "text/plain": [
              "     Income  Age  Experience Married/Single House_Ownership Car_Ownership  \\\n",
              "Id                                                                          \n",
              "2   7574516   40          10         single          rented            no   \n",
              "6   6915937   64           0         single          rented            no   \n",
              "18  3666346   56          12         single          rented            no   \n",
              "35  9086933   55           7         single          rented            no   \n",
              "37  9625415   77          15        married          rented            no   \n",
              "\n",
              "                Profession        CITY          STATE  CURRENT_JOB_YRS  \\\n",
              "Id                                                                       \n",
              "2       Software_Developer    Parbhani    Maharashtra                9   \n",
              "6            Civil_servant     Jalgaon    Maharashtra                0   \n",
              "18              Politician    Bhusawal    Maharashtra               12   \n",
              "35  Air_traffic_controller  Saharanpur  Uttar_Pradesh                7   \n",
              "37               Secretary    Amravati    Maharashtra                9   \n",
              "\n",
              "    CURRENT_HOUSE_YRS  Risk_Flag  \n",
              "Id                                \n",
              "2                  13          0  \n",
              "6                  12          0  \n",
              "18                 11          1  \n",
              "35                 13          0  \n",
              "37                 10          0  "
            ],
            "text/html": [
              "\n",
              "  <div id=\"df-ba49e793-1d55-42ab-9983-73937a6d5d91\" class=\"colab-df-container\">\n",
              "    <div>\n",
              "<style scoped>\n",
              "    .dataframe tbody tr th:only-of-type {\n",
              "        vertical-align: middle;\n",
              "    }\n",
              "\n",
              "    .dataframe tbody tr th {\n",
              "        vertical-align: top;\n",
              "    }\n",
              "\n",
              "    .dataframe thead th {\n",
              "        text-align: right;\n",
              "    }\n",
              "</style>\n",
              "<table border=\"1\" class=\"dataframe\">\n",
              "  <thead>\n",
              "    <tr style=\"text-align: right;\">\n",
              "      <th></th>\n",
              "      <th>Income</th>\n",
              "      <th>Age</th>\n",
              "      <th>Experience</th>\n",
              "      <th>Married/Single</th>\n",
              "      <th>House_Ownership</th>\n",
              "      <th>Car_Ownership</th>\n",
              "      <th>Profession</th>\n",
              "      <th>CITY</th>\n",
              "      <th>STATE</th>\n",
              "      <th>CURRENT_JOB_YRS</th>\n",
              "      <th>CURRENT_HOUSE_YRS</th>\n",
              "      <th>Risk_Flag</th>\n",
              "    </tr>\n",
              "    <tr>\n",
              "      <th>Id</th>\n",
              "      <th></th>\n",
              "      <th></th>\n",
              "      <th></th>\n",
              "      <th></th>\n",
              "      <th></th>\n",
              "      <th></th>\n",
              "      <th></th>\n",
              "      <th></th>\n",
              "      <th></th>\n",
              "      <th></th>\n",
              "      <th></th>\n",
              "      <th></th>\n",
              "    </tr>\n",
              "  </thead>\n",
              "  <tbody>\n",
              "    <tr>\n",
              "      <th>2</th>\n",
              "      <td>7574516</td>\n",
              "      <td>40</td>\n",
              "      <td>10</td>\n",
              "      <td>single</td>\n",
              "      <td>rented</td>\n",
              "      <td>no</td>\n",
              "      <td>Software_Developer</td>\n",
              "      <td>Parbhani</td>\n",
              "      <td>Maharashtra</td>\n",
              "      <td>9</td>\n",
              "      <td>13</td>\n",
              "      <td>0</td>\n",
              "    </tr>\n",
              "    <tr>\n",
              "      <th>6</th>\n",
              "      <td>6915937</td>\n",
              "      <td>64</td>\n",
              "      <td>0</td>\n",
              "      <td>single</td>\n",
              "      <td>rented</td>\n",
              "      <td>no</td>\n",
              "      <td>Civil_servant</td>\n",
              "      <td>Jalgaon</td>\n",
              "      <td>Maharashtra</td>\n",
              "      <td>0</td>\n",
              "      <td>12</td>\n",
              "      <td>0</td>\n",
              "    </tr>\n",
              "    <tr>\n",
              "      <th>18</th>\n",
              "      <td>3666346</td>\n",
              "      <td>56</td>\n",
              "      <td>12</td>\n",
              "      <td>single</td>\n",
              "      <td>rented</td>\n",
              "      <td>no</td>\n",
              "      <td>Politician</td>\n",
              "      <td>Bhusawal</td>\n",
              "      <td>Maharashtra</td>\n",
              "      <td>12</td>\n",
              "      <td>11</td>\n",
              "      <td>1</td>\n",
              "    </tr>\n",
              "    <tr>\n",
              "      <th>35</th>\n",
              "      <td>9086933</td>\n",
              "      <td>55</td>\n",
              "      <td>7</td>\n",
              "      <td>single</td>\n",
              "      <td>rented</td>\n",
              "      <td>no</td>\n",
              "      <td>Air_traffic_controller</td>\n",
              "      <td>Saharanpur</td>\n",
              "      <td>Uttar_Pradesh</td>\n",
              "      <td>7</td>\n",
              "      <td>13</td>\n",
              "      <td>0</td>\n",
              "    </tr>\n",
              "    <tr>\n",
              "      <th>37</th>\n",
              "      <td>9625415</td>\n",
              "      <td>77</td>\n",
              "      <td>15</td>\n",
              "      <td>married</td>\n",
              "      <td>rented</td>\n",
              "      <td>no</td>\n",
              "      <td>Secretary</td>\n",
              "      <td>Amravati</td>\n",
              "      <td>Maharashtra</td>\n",
              "      <td>9</td>\n",
              "      <td>10</td>\n",
              "      <td>0</td>\n",
              "    </tr>\n",
              "  </tbody>\n",
              "</table>\n",
              "</div>\n",
              "    <div class=\"colab-df-buttons\">\n",
              "\n",
              "  <div class=\"colab-df-container\">\n",
              "    <button class=\"colab-df-convert\" onclick=\"convertToInteractive('df-ba49e793-1d55-42ab-9983-73937a6d5d91')\"\n",
              "            title=\"Convert this dataframe to an interactive table.\"\n",
              "            style=\"display:none;\">\n",
              "\n",
              "  <svg xmlns=\"http://www.w3.org/2000/svg\" height=\"24px\" viewBox=\"0 -960 960 960\">\n",
              "    <path d=\"M120-120v-720h720v720H120Zm60-500h600v-160H180v160Zm220 220h160v-160H400v160Zm0 220h160v-160H400v160ZM180-400h160v-160H180v160Zm440 0h160v-160H620v160ZM180-180h160v-160H180v160Zm440 0h160v-160H620v160Z\"/>\n",
              "  </svg>\n",
              "    </button>\n",
              "\n",
              "  <style>\n",
              "    .colab-df-container {\n",
              "      display:flex;\n",
              "      gap: 12px;\n",
              "    }\n",
              "\n",
              "    .colab-df-convert {\n",
              "      background-color: #E8F0FE;\n",
              "      border: none;\n",
              "      border-radius: 50%;\n",
              "      cursor: pointer;\n",
              "      display: none;\n",
              "      fill: #1967D2;\n",
              "      height: 32px;\n",
              "      padding: 0 0 0 0;\n",
              "      width: 32px;\n",
              "    }\n",
              "\n",
              "    .colab-df-convert:hover {\n",
              "      background-color: #E2EBFA;\n",
              "      box-shadow: 0px 1px 2px rgba(60, 64, 67, 0.3), 0px 1px 3px 1px rgba(60, 64, 67, 0.15);\n",
              "      fill: #174EA6;\n",
              "    }\n",
              "\n",
              "    .colab-df-buttons div {\n",
              "      margin-bottom: 4px;\n",
              "    }\n",
              "\n",
              "    [theme=dark] .colab-df-convert {\n",
              "      background-color: #3B4455;\n",
              "      fill: #D2E3FC;\n",
              "    }\n",
              "\n",
              "    [theme=dark] .colab-df-convert:hover {\n",
              "      background-color: #434B5C;\n",
              "      box-shadow: 0px 1px 3px 1px rgba(0, 0, 0, 0.15);\n",
              "      filter: drop-shadow(0px 1px 2px rgba(0, 0, 0, 0.3));\n",
              "      fill: #FFFFFF;\n",
              "    }\n",
              "  </style>\n",
              "\n",
              "    <script>\n",
              "      const buttonEl =\n",
              "        document.querySelector('#df-ba49e793-1d55-42ab-9983-73937a6d5d91 button.colab-df-convert');\n",
              "      buttonEl.style.display =\n",
              "        google.colab.kernel.accessAllowed ? 'block' : 'none';\n",
              "\n",
              "      async function convertToInteractive(key) {\n",
              "        const element = document.querySelector('#df-ba49e793-1d55-42ab-9983-73937a6d5d91');\n",
              "        const dataTable =\n",
              "          await google.colab.kernel.invokeFunction('convertToInteractive',\n",
              "                                                    [key], {});\n",
              "        if (!dataTable) return;\n",
              "\n",
              "        const docLinkHtml = 'Like what you see? Visit the ' +\n",
              "          '<a target=\"_blank\" href=https://colab.research.google.com/notebooks/data_table.ipynb>data table notebook</a>'\n",
              "          + ' to learn more about interactive tables.';\n",
              "        element.innerHTML = '';\n",
              "        dataTable['output_type'] = 'display_data';\n",
              "        await google.colab.output.renderOutput(dataTable, element);\n",
              "        const docLink = document.createElement('div');\n",
              "        docLink.innerHTML = docLinkHtml;\n",
              "        element.appendChild(docLink);\n",
              "      }\n",
              "    </script>\n",
              "  </div>\n",
              "\n",
              "\n",
              "<div id=\"df-0d966e4a-024e-4fe8-b742-a4f1bda3c073\">\n",
              "  <button class=\"colab-df-quickchart\" onclick=\"quickchart('df-0d966e4a-024e-4fe8-b742-a4f1bda3c073')\"\n",
              "            title=\"Suggest charts.\"\n",
              "            style=\"display:none;\">\n",
              "\n",
              "<svg xmlns=\"http://www.w3.org/2000/svg\" height=\"24px\"viewBox=\"0 0 24 24\"\n",
              "     width=\"24px\">\n",
              "    <g>\n",
              "        <path d=\"M19 3H5c-1.1 0-2 .9-2 2v14c0 1.1.9 2 2 2h14c1.1 0 2-.9 2-2V5c0-1.1-.9-2-2-2zM9 17H7v-7h2v7zm4 0h-2V7h2v10zm4 0h-2v-4h2v4z\"/>\n",
              "    </g>\n",
              "</svg>\n",
              "  </button>\n",
              "\n",
              "<style>\n",
              "  .colab-df-quickchart {\n",
              "      --bg-color: #E8F0FE;\n",
              "      --fill-color: #1967D2;\n",
              "      --hover-bg-color: #E2EBFA;\n",
              "      --hover-fill-color: #174EA6;\n",
              "      --disabled-fill-color: #AAA;\n",
              "      --disabled-bg-color: #DDD;\n",
              "  }\n",
              "\n",
              "  [theme=dark] .colab-df-quickchart {\n",
              "      --bg-color: #3B4455;\n",
              "      --fill-color: #D2E3FC;\n",
              "      --hover-bg-color: #434B5C;\n",
              "      --hover-fill-color: #FFFFFF;\n",
              "      --disabled-bg-color: #3B4455;\n",
              "      --disabled-fill-color: #666;\n",
              "  }\n",
              "\n",
              "  .colab-df-quickchart {\n",
              "    background-color: var(--bg-color);\n",
              "    border: none;\n",
              "    border-radius: 50%;\n",
              "    cursor: pointer;\n",
              "    display: none;\n",
              "    fill: var(--fill-color);\n",
              "    height: 32px;\n",
              "    padding: 0;\n",
              "    width: 32px;\n",
              "  }\n",
              "\n",
              "  .colab-df-quickchart:hover {\n",
              "    background-color: var(--hover-bg-color);\n",
              "    box-shadow: 0 1px 2px rgba(60, 64, 67, 0.3), 0 1px 3px 1px rgba(60, 64, 67, 0.15);\n",
              "    fill: var(--button-hover-fill-color);\n",
              "  }\n",
              "\n",
              "  .colab-df-quickchart-complete:disabled,\n",
              "  .colab-df-quickchart-complete:disabled:hover {\n",
              "    background-color: var(--disabled-bg-color);\n",
              "    fill: var(--disabled-fill-color);\n",
              "    box-shadow: none;\n",
              "  }\n",
              "\n",
              "  .colab-df-spinner {\n",
              "    border: 2px solid var(--fill-color);\n",
              "    border-color: transparent;\n",
              "    border-bottom-color: var(--fill-color);\n",
              "    animation:\n",
              "      spin 1s steps(1) infinite;\n",
              "  }\n",
              "\n",
              "  @keyframes spin {\n",
              "    0% {\n",
              "      border-color: transparent;\n",
              "      border-bottom-color: var(--fill-color);\n",
              "      border-left-color: var(--fill-color);\n",
              "    }\n",
              "    20% {\n",
              "      border-color: transparent;\n",
              "      border-left-color: var(--fill-color);\n",
              "      border-top-color: var(--fill-color);\n",
              "    }\n",
              "    30% {\n",
              "      border-color: transparent;\n",
              "      border-left-color: var(--fill-color);\n",
              "      border-top-color: var(--fill-color);\n",
              "      border-right-color: var(--fill-color);\n",
              "    }\n",
              "    40% {\n",
              "      border-color: transparent;\n",
              "      border-right-color: var(--fill-color);\n",
              "      border-top-color: var(--fill-color);\n",
              "    }\n",
              "    60% {\n",
              "      border-color: transparent;\n",
              "      border-right-color: var(--fill-color);\n",
              "    }\n",
              "    80% {\n",
              "      border-color: transparent;\n",
              "      border-right-color: var(--fill-color);\n",
              "      border-bottom-color: var(--fill-color);\n",
              "    }\n",
              "    90% {\n",
              "      border-color: transparent;\n",
              "      border-bottom-color: var(--fill-color);\n",
              "    }\n",
              "  }\n",
              "</style>\n",
              "\n",
              "  <script>\n",
              "    async function quickchart(key) {\n",
              "      const quickchartButtonEl =\n",
              "        document.querySelector('#' + key + ' button');\n",
              "      quickchartButtonEl.disabled = true;  // To prevent multiple clicks.\n",
              "      quickchartButtonEl.classList.add('colab-df-spinner');\n",
              "      try {\n",
              "        const charts = await google.colab.kernel.invokeFunction(\n",
              "            'suggestCharts', [key], {});\n",
              "      } catch (error) {\n",
              "        console.error('Error during call to suggestCharts:', error);\n",
              "      }\n",
              "      quickchartButtonEl.classList.remove('colab-df-spinner');\n",
              "      quickchartButtonEl.classList.add('colab-df-quickchart-complete');\n",
              "    }\n",
              "    (() => {\n",
              "      let quickchartButtonEl =\n",
              "        document.querySelector('#df-0d966e4a-024e-4fe8-b742-a4f1bda3c073 button');\n",
              "      quickchartButtonEl.style.display =\n",
              "        google.colab.kernel.accessAllowed ? 'block' : 'none';\n",
              "    })();\n",
              "  </script>\n",
              "</div>\n",
              "    </div>\n",
              "  </div>\n"
            ]
          },
          "metadata": {},
          "execution_count": 77
        }
      ]
    },
    {
      "cell_type": "code",
      "source": [
        "#Declaramos las variables dependientes e independientes para la regresión logística\n",
        "Vars_Indep = var6[['Income','Age','Experience','CURRENT_JOB_YRS','CURRENT_HOUSE_YRS']]\n",
        "Var_Dep = var6['STATE']"
      ],
      "metadata": {
        "id": "6aA92lMjQ4Vm"
      },
      "execution_count": null,
      "outputs": []
    },
    {
      "cell_type": "code",
      "source": [
        "#Redefinimos las variables\n",
        "x = Vars_Indep\n",
        "y = Var_Dep"
      ],
      "metadata": {
        "id": "B5LKCRWNRHMd"
      },
      "execution_count": null,
      "outputs": []
    },
    {
      "cell_type": "code",
      "source": [
        "#Dividimos el conjunto de datos en la parte de entrenamiento y prueba\n",
        "x_train, x_test, y_train, y_test = train_test_split(x, y, test_size = 0.3, random_state = None)"
      ],
      "metadata": {
        "id": "aL41Xe8bRpu_"
      },
      "execution_count": null,
      "outputs": []
    },
    {
      "cell_type": "code",
      "source": [
        "#Se escalan los datos\n",
        "escalar = StandardScaler()"
      ],
      "metadata": {
        "id": "Pmlb8BAjT7ag"
      },
      "execution_count": null,
      "outputs": []
    },
    {
      "cell_type": "code",
      "source": [
        "#Para realizar el escalamiento de las variables \"x\" tanto de entrenamiento como de prueba, util\n",
        "x_train = escalar.fit_transform(x_train)\n",
        "x_test = escalar.transform(x_test)"
      ],
      "metadata": {
        "id": "BFh54hS3Unlm"
      },
      "execution_count": null,
      "outputs": []
    },
    {
      "cell_type": "code",
      "source": [
        "#Definimos el algoritmo a utilizar\n",
        "from sklearn.linear_model import LogisticRegression\n",
        "algoritmo = LogisticRegression()"
      ],
      "metadata": {
        "id": "bFOXSXiwU4al"
      },
      "execution_count": null,
      "outputs": []
    },
    {
      "cell_type": "code",
      "source": [
        "#Entrenamos el modelo\n",
        "algoritmo.fit(x_train, y_train)"
      ],
      "metadata": {
        "colab": {
          "base_uri": "https://localhost:8080/",
          "height": 74
        },
        "id": "1zbnCvlfVcU5",
        "outputId": "4c3bab35-f5cb-4105-dd6a-d959cdd5f87c"
      },
      "execution_count": null,
      "outputs": [
        {
          "output_type": "execute_result",
          "data": {
            "text/plain": [
              "LogisticRegression()"
            ],
            "text/html": [
              "<style>#sk-container-id-6 {color: black;background-color: white;}#sk-container-id-6 pre{padding: 0;}#sk-container-id-6 div.sk-toggleable {background-color: white;}#sk-container-id-6 label.sk-toggleable__label {cursor: pointer;display: block;width: 100%;margin-bottom: 0;padding: 0.3em;box-sizing: border-box;text-align: center;}#sk-container-id-6 label.sk-toggleable__label-arrow:before {content: \"▸\";float: left;margin-right: 0.25em;color: #696969;}#sk-container-id-6 label.sk-toggleable__label-arrow:hover:before {color: black;}#sk-container-id-6 div.sk-estimator:hover label.sk-toggleable__label-arrow:before {color: black;}#sk-container-id-6 div.sk-toggleable__content {max-height: 0;max-width: 0;overflow: hidden;text-align: left;background-color: #f0f8ff;}#sk-container-id-6 div.sk-toggleable__content pre {margin: 0.2em;color: black;border-radius: 0.25em;background-color: #f0f8ff;}#sk-container-id-6 input.sk-toggleable__control:checked~div.sk-toggleable__content {max-height: 200px;max-width: 100%;overflow: auto;}#sk-container-id-6 input.sk-toggleable__control:checked~label.sk-toggleable__label-arrow:before {content: \"▾\";}#sk-container-id-6 div.sk-estimator input.sk-toggleable__control:checked~label.sk-toggleable__label {background-color: #d4ebff;}#sk-container-id-6 div.sk-label input.sk-toggleable__control:checked~label.sk-toggleable__label {background-color: #d4ebff;}#sk-container-id-6 input.sk-hidden--visually {border: 0;clip: rect(1px 1px 1px 1px);clip: rect(1px, 1px, 1px, 1px);height: 1px;margin: -1px;overflow: hidden;padding: 0;position: absolute;width: 1px;}#sk-container-id-6 div.sk-estimator {font-family: monospace;background-color: #f0f8ff;border: 1px dotted black;border-radius: 0.25em;box-sizing: border-box;margin-bottom: 0.5em;}#sk-container-id-6 div.sk-estimator:hover {background-color: #d4ebff;}#sk-container-id-6 div.sk-parallel-item::after {content: \"\";width: 100%;border-bottom: 1px solid gray;flex-grow: 1;}#sk-container-id-6 div.sk-label:hover label.sk-toggleable__label {background-color: #d4ebff;}#sk-container-id-6 div.sk-serial::before {content: \"\";position: absolute;border-left: 1px solid gray;box-sizing: border-box;top: 0;bottom: 0;left: 50%;z-index: 0;}#sk-container-id-6 div.sk-serial {display: flex;flex-direction: column;align-items: center;background-color: white;padding-right: 0.2em;padding-left: 0.2em;position: relative;}#sk-container-id-6 div.sk-item {position: relative;z-index: 1;}#sk-container-id-6 div.sk-parallel {display: flex;align-items: stretch;justify-content: center;background-color: white;position: relative;}#sk-container-id-6 div.sk-item::before, #sk-container-id-6 div.sk-parallel-item::before {content: \"\";position: absolute;border-left: 1px solid gray;box-sizing: border-box;top: 0;bottom: 0;left: 50%;z-index: -1;}#sk-container-id-6 div.sk-parallel-item {display: flex;flex-direction: column;z-index: 1;position: relative;background-color: white;}#sk-container-id-6 div.sk-parallel-item:first-child::after {align-self: flex-end;width: 50%;}#sk-container-id-6 div.sk-parallel-item:last-child::after {align-self: flex-start;width: 50%;}#sk-container-id-6 div.sk-parallel-item:only-child::after {width: 0;}#sk-container-id-6 div.sk-dashed-wrapped {border: 1px dashed gray;margin: 0 0.4em 0.5em 0.4em;box-sizing: border-box;padding-bottom: 0.4em;background-color: white;}#sk-container-id-6 div.sk-label label {font-family: monospace;font-weight: bold;display: inline-block;line-height: 1.2em;}#sk-container-id-6 div.sk-label-container {text-align: center;}#sk-container-id-6 div.sk-container {/* jupyter's `normalize.less` sets `[hidden] { display: none; }` but bootstrap.min.css set `[hidden] { display: none !important; }` so we also need the `!important` here to be able to override the default hidden behavior on the sphinx rendered scikit-learn.org. See: https://github.com/scikit-learn/scikit-learn/issues/21755 */display: inline-block !important;position: relative;}#sk-container-id-6 div.sk-text-repr-fallback {display: none;}</style><div id=\"sk-container-id-6\" class=\"sk-top-container\"><div class=\"sk-text-repr-fallback\"><pre>LogisticRegression()</pre><b>In a Jupyter environment, please rerun this cell to show the HTML representation or trust the notebook. <br />On GitHub, the HTML representation is unable to render, please try loading this page with nbviewer.org.</b></div><div class=\"sk-container\" hidden><div class=\"sk-item\"><div class=\"sk-estimator sk-toggleable\"><input class=\"sk-toggleable__control sk-hidden--visually\" id=\"sk-estimator-id-6\" type=\"checkbox\" checked><label for=\"sk-estimator-id-6\" class=\"sk-toggleable__label sk-toggleable__label-arrow\">LogisticRegression</label><div class=\"sk-toggleable__content\"><pre>LogisticRegression()</pre></div></div></div></div></div>"
            ]
          },
          "metadata": {},
          "execution_count": 84
        }
      ]
    },
    {
      "cell_type": "code",
      "source": [
        "#Realizamos una predicción\n",
        "y_pred = algoritmo.predict(x_test)\n",
        "y_pred"
      ],
      "metadata": {
        "colab": {
          "base_uri": "https://localhost:8080/"
        },
        "id": "KPJbI2MJV-53",
        "outputId": "38b0617b-c040-44d8-96a6-50c91adf480b"
      },
      "execution_count": null,
      "outputs": [
        {
          "output_type": "execute_result",
          "data": {
            "text/plain": [
              "array(['Maharashtra', 'Uttar_Pradesh', 'Uttar_Pradesh', ...,\n",
              "       'Uttar_Pradesh', 'Uttar_Pradesh', 'Uttar_Pradesh'], dtype=object)"
            ]
          },
          "metadata": {},
          "execution_count": 85
        }
      ]
    },
    {
      "cell_type": "code",
      "source": [
        "#Verifico la matriz de confusión\n",
        "from sklearn.metrics import confusion_matrix\n",
        "matriz = confusion_matrix(y_test, y_pred)\n",
        "print('Matriz de confusión')\n",
        "print(matriz)"
      ],
      "metadata": {
        "colab": {
          "base_uri": "https://localhost:8080/"
        },
        "id": "ozMYLUfKWPjL",
        "outputId": "490477b9-1976-4cec-9474-ddffff47351b"
      },
      "execution_count": null,
      "outputs": [
        {
          "output_type": "stream",
          "name": "stdout",
          "text": [
            "Matriz de confusión\n",
            "[[1408 6306]\n",
            " [1462 7013]]\n"
          ]
        }
      ]
    },
    {
      "cell_type": "code",
      "source": [
        "#Calculo la precisión modelo\n",
        "from sklearn.metrics import precision_score\n",
        "\n",
        "precision = precision_score(y_test, y_pred, average = 'binary', pos_label = 'Maharashtra')\n",
        "print('Modelo de precisión')\n",
        "print(precision)"
      ],
      "metadata": {
        "colab": {
          "base_uri": "https://localhost:8080/"
        },
        "id": "OzZt7KICWj5U",
        "outputId": "37f03175-d486-437c-ae56-d56202731088"
      },
      "execution_count": null,
      "outputs": [
        {
          "output_type": "stream",
          "name": "stdout",
          "text": [
            "Modelo de precisión\n",
            "0.4905923344947735\n"
          ]
        }
      ]
    },
    {
      "cell_type": "code",
      "source": [
        "#Calculo la exactitud del modelo\n",
        "from sklearn.metrics import accuracy_score\n",
        "\n",
        "exactitud = accuracy_score(y_test, y_pred)\n",
        "print('Exactitud del modelo:')\n",
        "print(exactitud)"
      ],
      "metadata": {
        "colab": {
          "base_uri": "https://localhost:8080/"
        },
        "id": "NNPQhn8MXDUz",
        "outputId": "7b047b4a-771a-4eed-ed0b-e1f2dd00e828"
      },
      "execution_count": null,
      "outputs": [
        {
          "output_type": "stream",
          "name": "stdout",
          "text": [
            "Exactitud del modelo:\n",
            "0.5201680153190438\n"
          ]
        }
      ]
    },
    {
      "cell_type": "code",
      "source": [
        "#Calculo la sensibilidad del modelo\n",
        "from sklearn.metrics import recall_score\n",
        "\n",
        "sensibilidad = recall_score(y_test, y_pred, average=\"binary\", pos_label=\"Maharashtra\")\n",
        "print('Sensibilidad del modelo:')\n",
        "print(sensibilidad)"
      ],
      "metadata": {
        "colab": {
          "base_uri": "https://localhost:8080/"
        },
        "id": "5VG9Jlp-XXZG",
        "outputId": "dfd56b9a-33dd-4650-f626-8aea33616b1f"
      },
      "execution_count": null,
      "outputs": [
        {
          "output_type": "stream",
          "name": "stdout",
          "text": [
            "Sensibilidad del modelo:\n",
            "0.18252527871402643\n"
          ]
        }
      ]
    },
    {
      "cell_type": "code",
      "source": [
        "# el puntaje F1 que es una combinación entre la precisión y la sensibilidad, para esto importamos f1_score.\n",
        "#Calculo el Puntaje F1 del modelo\n",
        "from sklearn.metrics import f1_score\n",
        "puntajef1 = f1_score(y_test, y_pred, average=\"binary\", pos_label= \"Maharashtra\")\n",
        "print('Puntaje F1 del modelo:')\n",
        "print(puntajef1)"
      ],
      "metadata": {
        "colab": {
          "base_uri": "https://localhost:8080/"
        },
        "id": "ZMaYuGRbbf_E",
        "outputId": "88de1330-35de-4e64-e66f-98e6af8d5668"
      },
      "execution_count": null,
      "outputs": [
        {
          "output_type": "stream",
          "name": "stdout",
          "text": [
            "Puntaje F1 del modelo:\n",
            "0.2660619803476946\n"
          ]
        }
      ]
    }
  ]
}